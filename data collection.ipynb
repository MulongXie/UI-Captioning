{
 "cells": [
  {
   "cell_type": "markdown",
   "id": "c165b319",
   "metadata": {},
   "source": [
    "## GUI annotating"
   ]
  },
  {
   "cell_type": "code",
   "execution_count": 4,
   "id": "029a3550",
   "metadata": {},
   "outputs": [],
   "source": [
    "from DataCollector import DataCollector"
   ]
  },
  {
   "cell_type": "code",
   "execution_count": 5,
   "id": "a38c61b0",
   "metadata": {},
   "outputs": [],
   "source": [
    "data = DataCollector(input_dir='C:/Mulong/Data/rico/rico_sca', \n",
    "                     output_dir='C:/Mulong/Data/ui captioning - 4', \n",
    "                     engine_model='gpt-3.5-turbo')"
   ]
  },
  {
   "cell_type": "code",
   "execution_count": 6,
   "id": "20486e58",
   "metadata": {},
   "outputs": [
    {
     "name": "stdout",
     "output_type": "stream",
     "text": [
      "\n",
      "\n",
      "=== Annotating (press \"q\" to quit) === [0 / 100] C:/Mulong/Data/rico/rico_sca\\2.jpg\n",
      "*** GUI Analysis ***\n",
      "*** Summarization [Key Element] ***\n",
      " Key Element: DatePicker\n",
      "\n",
      "This UI consists of a DatePicker element, which allows the user to select a date. The DatePicker has a header that displays the year and date. It also has a month view for selecting the desired date. The DatePicker has previous and next buttons for navigating between months. Finally, there is a \"Done\" button for confirming the selected date.\n"
     ]
    },
    {
     "ename": "KeyboardInterrupt",
     "evalue": "",
     "output_type": "error",
     "traceback": [
      "\u001b[1;31m---------------------------------------------------------------------------\u001b[0m",
      "\u001b[1;31mKeyboardInterrupt\u001b[0m                         Traceback (most recent call last)",
      "Cell \u001b[1;32mIn[6], line 1\u001b[0m\n\u001b[1;32m----> 1\u001b[0m \u001b[43mdata\u001b[49m\u001b[38;5;241;43m.\u001b[39;49m\u001b[43mannotate_all_guis\u001b[49m\u001b[43m(\u001b[49m\u001b[43mstart_gui_no\u001b[49m\u001b[38;5;241;43m=\u001b[39;49m\u001b[38;5;241;43m0\u001b[39;49m\u001b[43m,\u001b[49m\u001b[43m \u001b[49m\u001b[43mend_gui_no\u001b[49m\u001b[38;5;241;43m=\u001b[39;49m\u001b[38;5;241;43m100\u001b[39;49m\u001b[43m,\u001b[49m\u001b[43m \u001b[49m\u001b[43mfactor_id\u001b[49m\u001b[38;5;241;43m=\u001b[39;49m\u001b[38;5;241;43m0\u001b[39;49m\u001b[43m,\u001b[49m\u001b[43m \u001b[49m\n\u001b[0;32m      2\u001b[0m \u001b[43m                       \u001b[49m\u001b[43mload_gui\u001b[49m\u001b[38;5;241;43m=\u001b[39;49m\u001b[38;5;28;43;01mFalse\u001b[39;49;00m\u001b[43m,\u001b[49m\u001b[43m \u001b[49m\u001b[43mshow_gui\u001b[49m\u001b[38;5;241;43m=\u001b[39;49m\u001b[38;5;28;43;01mFalse\u001b[39;49;00m\u001b[43m,\u001b[49m\u001b[43m \u001b[49m\u001b[43mturn_on_revision\u001b[49m\u001b[38;5;241;43m=\u001b[39;49m\u001b[38;5;28;43;01mFalse\u001b[39;49;00m\u001b[43m,\u001b[49m\u001b[43m \u001b[49m\u001b[43mwait_time\u001b[49m\u001b[38;5;241;43m=\u001b[39;49m\u001b[38;5;241;43m2\u001b[39;49m\u001b[43m)\u001b[49m\n",
      "File \u001b[1;32mC:\\Mulong\\Code\\UI-Captioning\\DataCollector.py:190\u001b[0m, in \u001b[0;36mDataCollector.annotate_all_guis\u001b[1;34m(self, start_gui_no, end_gui_no, factor_id, load_gui, show_gui, turn_on_revision, wait_time)\u001b[0m\n\u001b[0;32m    188\u001b[0m \u001b[38;5;28;01mif\u001b[39;00m \u001b[38;5;129;01mnot\u001b[39;00m \u001b[38;5;28mself\u001b[39m\u001b[38;5;241m.\u001b[39mannotate_gui(gui_img_file, gui_vh_file, factor\u001b[38;5;241m=\u001b[39m\u001b[38;5;28mself\u001b[39m\u001b[38;5;241m.\u001b[39mannotation_factors[factor_id], load_gui\u001b[38;5;241m=\u001b[39mload_gui, show_gui\u001b[38;5;241m=\u001b[39mshow_gui):\n\u001b[0;32m    189\u001b[0m     \u001b[38;5;28;01mbreak\u001b[39;00m\n\u001b[1;32m--> 190\u001b[0m \u001b[43mtime\u001b[49m\u001b[38;5;241;43m.\u001b[39;49m\u001b[43msleep\u001b[49m\u001b[43m(\u001b[49m\u001b[43mwait_time\u001b[49m\u001b[43m)\u001b[49m\n",
      "\u001b[1;31mKeyboardInterrupt\u001b[0m: "
     ]
    }
   ],
   "source": [
    "data.annotate_all_guis(start_gui_no=0, end_gui_no=100, factor_id=0, \n",
    "                       load_gui=False, show_gui=False, turn_on_revision=False, wait_time=2)"
   ]
  },
  {
   "cell_type": "code",
   "execution_count": 8,
   "id": "9d7bf74d",
   "metadata": {},
   "outputs": [
    {
     "name": "stdout",
     "output_type": "stream",
     "text": [
      "*** GUI Analysis ***\n",
      "*** Summarization [Functionality] ***\n",
      " This UI seems to be a drum pad machine app with various buttons for playing different drum sounds. It also has a pitch control and navigation buttons. Additionally, there are some ad-related elements in the UI.\n"
     ]
    }
   ],
   "source": [
    "data.annotate_gui(gui_img_file='C:/Mulong/Data/rico/rico_sca/33.jpg', \n",
    "                  gui_json_file='C:/Mulong/Data/rico/rico_sca/33.json',\n",
    "                  factor='Functionality', load_gui=False, show_gui=True)"
   ]
  },
  {
   "cell_type": "markdown",
   "id": "f5f82a12",
   "metadata": {},
   "source": [
    "## Check annotations"
   ]
  },
  {
   "cell_type": "code",
   "execution_count": 7,
   "id": "7ee74e1b",
   "metadata": {},
   "outputs": [],
   "source": [
    "from DataCollector import check_annotations, check_annotation_by_ui_id"
   ]
  },
  {
   "cell_type": "code",
   "execution_count": 15,
   "id": "a7288ff0",
   "metadata": {},
   "outputs": [
    {
     "name": "stdout",
     "output_type": "stream",
     "text": [
      "[File]: C:/Mulong/Data/ui captioning/annotation\\2_Accessibility.json\n",
      "[Factor]: Accessibility\n",
      "[Caption] The UI hierarchy consists of a DatePicker widget with a header displaying the selected year and date. The DatePicker also includes a SimpleMonthView for selecting the desired date, and buttons for navigating to the previous and next months. Additionally, there is a Done button to confirm the selected date.\n",
      "\n",
      "In terms of accessibility, all elements in the hierarchy have assigned resource IDs, making it easier for assistive technologies to identify and interact with them. The header year and date, as well as the Done button, are clickable elements, allowing users to select or activate them. The previous and next month buttons are also clickable for navigation purposes.\n",
      "\n",
      "Overall, the UI seems to have considered accessibility by providing clear and clickable elements with proper descriptions, enabling users to interact with the DatePicker widget effectively.\n",
      "*** Press \"q\" to quit, \"r\" to revise, anything else to continue ***\n",
      "Load elements from C:/Mulong/Data/ui captioning\\guidata\\2_elements.json\n",
      "Load element tree from C:/Mulong/Data/ui captioning\\guidata\\2_tree.json\n",
      "\n",
      "\n",
      "[File]: C:/Mulong/Data/ui captioning/annotation\\2_Functionality.json\n",
      "[Factor]: Functionality\n",
      "[Caption] This UI is a date picker widget with a root view that contains a date header, a simple month view, and navigation buttons for selecting the previous and next month. The date header displays the year and date, and the simple month view shows the days of the month. The user can click on the navigation buttons to change the displayed month. There is also a \"Done\" button which can be clicked to confirm the selected date.\n",
      "*** Press \"q\" to quit, \"r\" to revise, anything else to continue ***\n",
      "Load elements from C:/Mulong/Data/ui captioning\\guidata\\2_elements.json\n",
      "Load element tree from C:/Mulong/Data/ui captioning\\guidata\\2_tree.json\n",
      "\n",
      "\n",
      "[File]: C:/Mulong/Data/ui captioning/annotation\\2_Key Element.json\n",
      "[Factor]: Key Element\n",
      "[Caption] The key elements in this UI are:\n",
      "1. Root: It represents the root of the UI hierarchy.\n",
      "2. DatePicker: It is a widget that allows the user to select a date.\n",
      "3. AppCompatTextView: These are clickable text views that display the selected year and date.\n",
      "4. SimpleMonthView: It is a non-clickable widget that displays the calendar month with selectable dates.\n",
      "5. AppCompatImageButton: These are clickable image buttons for navigating to the previous and next months.\n",
      "6. AppCompatButton: This is a clickable button for confirming the selected date.\n",
      "*** Press \"q\" to quit, \"r\" to revise, anything else to continue ***\n",
      "Load elements from C:/Mulong/Data/ui captioning\\guidata\\2_elements.json\n",
      "Load element tree from C:/Mulong/Data/ui captioning\\guidata\\2_tree.json\n",
      "\n",
      "\n",
      "[File]: C:/Mulong/Data/ui captioning/annotation\\2_Layout.json\n",
      "[Factor]: Layout\n",
      "[Caption] The layout of the UI can be summarized as follows:\n",
      "\n",
      "- Root layout with height 1256 and length 1715\n",
      "- Child element 1: DatePicker widget with height 1144 and length 1407\n",
      "  - Child element 2: TextView for year selection with height 976 and length 142\n",
      "  - Child element 3: TextView for date selection with height 555 and length 159\n",
      "  - Child element 4: SimpleMonthView with height 1144 and length 1043\n",
      "  - Child element 5: ImageButton for previous month navigation with height 168 and length 168\n",
      "  - Child element 6: ImageButton for next month navigation with height 168 and length 168\n",
      "- Child element 7: Button for confirming the selection with height 232 and length 168\n",
      "*** Press \"q\" to quit, \"r\" to revise, anything else to continue ***\n",
      "Load elements from C:/Mulong/Data/ui captioning\\guidata\\2_elements.json\n",
      "Load element tree from C:/Mulong/Data/ui captioning\\guidata\\2_tree.json\n",
      "\n",
      "\n",
      "[File]: C:/Mulong/Data/ui captioning/annotation\\3_Accessibility.json\n",
      "[Factor]: Accessibility\n",
      "[Caption] The given UI hierarchy has a root element with an area of 2560x1440. It contains a RelativeLayout with a video, video overlay, text exercise, progress view, forward button, and backward button. The video and video overlay are clickable and have descriptions. The text exercise is also clickable. The progress view, forward button, and backward button are clickable but have no descriptions.\n",
      "\n",
      "There is also an action bar with a Toolbar element. The Toolbar element contains an AppCompatTextView with the description \"Exercise 10 of 12\" and an AppCompatImageButton with the description \"Exercise 10 of 12 / Navigate up\". These elements are not clickable.\n",
      "\n",
      "In terms of accessibility, the UI seems to have proper descriptions for some elements, but it would be beneficial to provide descriptions for the progress view, forward button, and backward button. Additionally, the non-clickable elements in the action bar should have appropriate descriptions for better accessibility.\n",
      "*** Press \"q\" to quit, \"r\" to revise, anything else to continue ***\n",
      "Load elements from C:/Mulong/Data/ui captioning\\guidata\\3_elements.json\n",
      "Load element tree from C:/Mulong/Data/ui captioning\\guidata\\3_tree.json\n",
      "\n",
      "\n",
      "[File]: C:/Mulong/Data/ui captioning/annotation\\3_Functionality.json\n",
      "[Factor]: Functionality\n",
      "[Caption] The provided UI consists of a root view with two main components. The first component is a RelativeLayout container that contains various elements such as a VideoView, a view overlay, a TextView, a segmented progress view, and two image buttons for navigation. The second component is a Toolbar with a TextView displaying the current exercise number and an ImageButton for navigation. The UI is not clickable.\n",
      "*** Press \"q\" to quit, \"r\" to revise, anything else to continue ***\n",
      "Load elements from C:/Mulong/Data/ui captioning\\guidata\\3_elements.json\n",
      "Load element tree from C:/Mulong/Data/ui captioning\\guidata\\3_tree.json\n",
      "\n",
      "\n",
      "[File]: C:/Mulong/Data/ui captioning/annotation\\3_Key Element.json\n",
      "[Factor]: Key Element\n",
      "[Caption] Key Element: \n",
      "- Root view with id=0, class=\"root\"\n",
      "- VideoView with id=2, class=\"com.perigee.seven.ui.view.VideoView\"\n",
      "- AppCompatTextView with id=4, class=\".support.v7.widget.AppCompatTextView\"\n",
      "- SegmentedProgressView with id=5, class=\"com.perigee.seven.ui.view.SegmentedProgressView\"\n",
      "- AppCompatImageView with id=6, class=\".support.v7.widget.AppCompatImageView\"\n",
      "- AppCompatImageView with id=7, class=\".support.v7.widget.AppCompatImageView\"\n",
      "- Toolbar with id=8, class=\".support.v7.widget.Toolbar\"\n",
      "- AppCompatTextView with id=9, class=\".support.v7.widget.AppCompatTextView\"\n",
      "- AppCompatImageButton with id=10, class=\".support.v7.widget.AppCompatImageButton\"\n",
      "\n",
      "These are the key elements in the UI hierarchy, each representing a specific UI block or element.\n",
      "*** Press \"q\" to quit, \"r\" to revise, anything else to continue ***\n",
      "Load elements from C:/Mulong/Data/ui captioning\\guidata\\3_elements.json\n",
      "Load element tree from C:/Mulong/Data/ui captioning\\guidata\\3_tree.json\n"
     ]
    }
   ],
   "source": [
    "check_annotations(start_gui_no=0, end_gui_no=100,\n",
    "                  rico_dir='C:/Mulong/Data/rico/rico_sca',\n",
    "                  gui_dir='C:/Mulong/Data/ui captioning',\n",
    "                  annotation_dir='C:/Mulong/Data/ui captioning/annotation',\n",
    "                  revision_dir='C:/Mulong/Data/ui captioning/annotation-revision')"
   ]
  },
  {
   "cell_type": "code",
   "execution_count": 19,
   "id": "17c3e9ae",
   "metadata": {},
   "outputs": [
    {
     "name": "stdout",
     "output_type": "stream",
     "text": [
      "***********\n",
      "[Factor]: Accessibility\n",
      "[Caption] In terms of accessibility, the UI has both clickable and non-clickable elements. The root element is non-clickable and has a large area. There is a back button that is clickable. The \"Pitch\" text is non-clickable and has a large area. The UI also contains a container with multiple pads/buttons, all of which are clickable. Additionally, there are two image views and two web views, all of which are clickable. Overall, the UI seems to have a mix of clickable and non-clickable elements, which can provide a good user experience for people with different accessibility needs.\n",
      "***********\n",
      "[Factor]: Functionality\n",
      "[Caption] The given UI has the following functionality:\n",
      "\n",
      "1. There is a back button ('buttonBack') that is clickable and used to navigate back to the previous screen.\n",
      "2. There is a header ('text_menu_header') displaying the text \"Pitch\", which is not clickable.\n",
      "3. There is a container ('scenes_container') containing multiple 'Pad' elements.\n",
      "   - Each 'Pad' element represents a drum pad and has a unique number as its description.\n",
      "   - These 'Pad' elements are clickable and likely used to trigger sounds or perform drumming actions.\n",
      "4. There is an image view ('imageView') displaying an image, providing visual content.\n",
      "5. There are two ad views ('com.google.gms.ads.internal.webview.m'), which are likely used for displaying advertisements.\n",
      "6. The root view ('root') has an overall area of 2560 pixels in length and 1440 pixels in height.\n",
      "\n",
      "Please note that this summary is based on the provided information and may not capture the complete functionality of the UI.\n",
      "***********\n",
      "[Factor]: Key Element\n",
      "[Caption] In this UI, the key elements are as follows:\n",
      "1. Button with resource-id '.agminstruments.clubdrumpadmachine:id/buttonBack' and description 'arrow_backward'.\n",
      "2. Text view with resource-id '.agminstruments.clubdrumpadmachine:id/text_menu_header' and description 'Pitch'.\n",
      "3. SafeViewFlipper with resource-id '.agminstruments.clubdrumpadmachine:id/scenes_container' and contains multiple child elements.\n",
      "4. Image view with resource-id '.agminstruments.clubdrumpadmachine:id/imageView'.\n",
      "5. Two clickable elements with class 'com.google.gms.ads.internal.webview.m' and ids 17 and 18.\n",
      "***********\n",
      "[Factor]: Layout\n",
      "[Caption] The layout of this UI can be summarized as follows:\n",
      "\n",
      "- Root layout with a height of 1440 and length of 2560.\n",
      "- Contains several children elements:\n",
      "  - An ImageButton with the resource-id '.agminstruments.clubdrumpadmachine:id/buttonBack'.\n",
      "  - A TextView with the resource-id '.agminstruments.clubdrumpadmachine:id/text_menu_header' and description 'Pitch'.\n",
      "  - A SafeViewFlipper with the resource-id '.agminstruments.clubdrumpadmachine:id/scenes_container'.\n",
      "    - Contains multiple Pad elements (Button-like elements) with various resource-ids, classes, descriptions, and areas.\n",
      "  - An ImageView with the resource-id '.agminstruments.clubdrumpadmachine:id/imageView' and height of 1440 and length of 175.\n",
      "  - Two WebView elements with the classes 'com.google.gms.ads.internal.webview.m' and heights of 1440 and lengths of 175.\n",
      "\n",
      "Load elements from C:/Mulong/Data/ui captioning\\guidata\\33_elements.json\n",
      "Load element tree from C:/Mulong/Data/ui captioning\\guidata\\33_tree.json\n"
     ]
    }
   ],
   "source": [
    "gui = check_annotation_by_ui_id(gui_id=33,\n",
    "                          rico_dir='C:/Mulong/Data/rico/rico_sca',\n",
    "                          gui_dir='C:/Mulong/Data/ui captioning',\n",
    "                          annotation_dir='C:/Mulong/Data/ui captioning/annotation')"
   ]
  },
  {
   "cell_type": "code",
   "execution_count": null,
   "id": "7fa587f4",
   "metadata": {},
   "outputs": [],
   "source": []
  }
 ],
 "metadata": {
  "kernelspec": {
   "display_name": "Python 3 (ipykernel)",
   "language": "python",
   "name": "python3"
  },
  "language_info": {
   "codemirror_mode": {
    "name": "ipython",
    "version": 3
   },
   "file_extension": ".py",
   "mimetype": "text/x-python",
   "name": "python",
   "nbconvert_exporter": "python",
   "pygments_lexer": "ipython3",
   "version": "3.10.10"
  }
 },
 "nbformat": 4,
 "nbformat_minor": 5
}
