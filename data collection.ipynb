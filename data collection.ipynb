{
 "cells": [
  {
   "cell_type": "code",
   "execution_count": null,
   "id": "029a3550",
   "metadata": {},
   "outputs": [],
   "source": [
    "from DataCollector import DataCollector"
   ]
  },
  {
   "cell_type": "code",
   "execution_count": null,
   "id": "a38c61b0",
   "metadata": {},
   "outputs": [],
   "source": [
    "data = DataCollector('data/rico/raw/', 'data/rico/', engine_model='gpt-3.5-turbo')"
   ]
  },
  {
   "attachments": {},
   "cell_type": "markdown",
   "id": "03236f2f",
   "metadata": {},
   "source": [
    "## Single GUI Annotation"
   ]
  },
  {
   "cell_type": "code",
   "execution_count": null,
   "id": "1cfa1a07",
   "metadata": {},
   "outputs": [],
   "source": [
    "gui = data.analyze_gui(data.img_files[0], data.vh_files[0])"
   ]
  },
  {
   "cell_type": "code",
   "execution_count": null,
   "id": "59965c9e",
   "metadata": {},
   "outputs": [],
   "source": [
    "gui = data.load_gui_analysis(data.img_files[0], data.vh_files[0])"
   ]
  },
  {
   "cell_type": "code",
   "execution_count": null,
   "id": "738da395",
   "metadata": {},
   "outputs": [],
   "source": [
    "data.annotate_gui(data.img_files[0], data.vh_files[0])"
   ]
  },
  {
   "attachments": {},
   "cell_type": "markdown",
   "id": "0c63ad3c",
   "metadata": {},
   "source": [
    "## Multiple GUI Annotation Loops"
   ]
  },
  {
   "cell_type": "code",
   "execution_count": null,
   "id": "20486e58",
   "metadata": {},
   "outputs": [],
   "source": [
    "data.annotate_all_guis(2, 9)"
   ]
  },
  {
   "cell_type": "code",
   "execution_count": null,
   "id": "82ef1e9f",
   "metadata": {},
   "outputs": [],
   "source": [
    "data.annotations"
   ]
  },
  {
   "cell_type": "code",
   "execution_count": null,
   "id": "5dca955d",
   "metadata": {},
   "outputs": [],
   "source": [
    "data.llm_summarizer.conversation"
   ]
  },
  {
   "cell_type": "code",
   "execution_count": null,
   "id": "c0a3b846",
   "metadata": {},
   "outputs": [],
   "source": []
  }
 ],
 "metadata": {
  "kernelspec": {
   "display_name": "Python 3 (ipykernel)",
   "language": "python",
   "name": "python3"
  },
  "language_info": {
   "codemirror_mode": {
    "name": "ipython",
    "version": 3
   },
   "file_extension": ".py",
   "mimetype": "text/x-python",
   "name": "python",
   "nbconvert_exporter": "python",
   "pygments_lexer": "ipython3",
   "version": "3.10.9"
  }
 },
 "nbformat": 4,
 "nbformat_minor": 5
}
