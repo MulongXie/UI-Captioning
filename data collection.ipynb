{
 "cells": [
  {
   "cell_type": "markdown",
   "id": "c165b319",
   "metadata": {},
   "source": [
    "## GUI annotating"
   ]
  },
  {
   "cell_type": "code",
   "execution_count": 1,
   "id": "029a3550",
   "metadata": {},
   "outputs": [
    {
     "name": "stderr",
     "output_type": "stream",
     "text": [
      "C:\\Users\\xie029\\AppData\\Local\\Programs\\Python\\Python310\\lib\\site-packages\\tqdm\\auto.py:22: TqdmWarning: IProgress not found. Please update jupyter and ipywidgets. See https://ipywidgets.readthedocs.io/en/stable/user_install.html\n",
      "  from .autonotebook import tqdm as notebook_tqdm\n"
     ]
    }
   ],
   "source": [
    "from DataCollector import DataCollector"
   ]
  },
  {
   "cell_type": "code",
   "execution_count": 2,
   "id": "a38c61b0",
   "metadata": {},
   "outputs": [],
   "source": [
    "data = DataCollector(input_dir='C:/Mulong/Data/rico/rico_sca', \n",
    "                     output_dir='C:/Mulong/Data/ui captioning - 4', \n",
    "                     engine_model='gpt-3.5-turbo')"
   ]
  },
  {
   "cell_type": "code",
   "execution_count": 5,
   "id": "20486e58",
   "metadata": {},
   "outputs": [
    {
     "name": "stdout",
     "output_type": "stream",
     "text": [
      "\n",
      "\n",
      "=== Annotating (press \"q\" to quit) === [0 / 100] C:/Mulong/Data/rico/rico_sca\\2.jpg\n",
      "*** GUI Analysis ***\n",
      "*** Summarization [Key Element] ***\n",
      " This User Interface consists of a top-level root element housing a 'DatePicker' widget and a 'Done' button. The 'DatePicker' widget contains key elements such as a 'TextView' for the year representation labeled '1990', a 'TextView' for the date representation labeled 'Fri, Jun 15', and a 'SimpleMonthView' displaying a selected range of dates. It also includes handy 'ImageButton's with the labels 'Previous month' and 'Next month', allowing for date navigation. The 'Done' button resides outside the 'DatePicker' widget for completion of date picking task. Both 'DatePicker' and 'Done' button elements are clickable.\n",
      "\n",
      "\n",
      "=== Annotating (press \"q\" to quit) === [1 / 100] C:/Mulong/Data/rico/rico_sca\\3.jpg\n",
      "*** GUI Analysis ***\n",
      "*** Summarization [Key Element] ***\n",
      " The given UI consists of several key elements. At the root, there is a large, non-clickable rectangle of size 1440x2560. Within this root, there is a sizable clickable '.widget.RelativeLayout' and a '.support.v7.widget.Toolbar'. The '.widget.RelativeLayout' contains several child elements, which include 'VideoView' showing 'LUNGES 30', an overlay 'view.View' also labelled 'LUNGES 30', 'AppCompatTextView' displaying 'Lunges', a 'SegmentedProgressView', a 'forward' and 'backward' button, represented by 'AppCompatImageView'. \n",
      "\n",
      "The toolbar on the other side is non-clickable and contains an 'AppCompatTextView', displaying 'Exercise 10 of 12', and an 'AppCompatImageButton' that serves to navigate up and also showing 'Exercise 10 of 12'.\n",
      "\n",
      "\n",
      "=== Annotating (press \"q\" to quit) === [2 / 100] C:/Mulong/Data/rico/rico_sca\\4.jpg\n",
      "*** GUI Analysis ***\n",
      "*** Summarization [Key Element] ***\n",
      " The UI contains a root class that encompasses the entire screen area. Under the root, the key elements include:\n",
      "\n",
      "1. A ScrollView widget containing multiple CardView and TextView widgets. The CardView widgets contain information about a Workout summary with details like 'Full Body', '7:53 Minutes' and '1 circuit'.\n",
      "\n",
      "2. Inside the ScrollView, there is an 'Achievements' section presented in a CardView widget that contains a WrappedGridView. This grid view itemizes specific achievements such as 'Challenge Accepted' and 'Active Calories'.\n",
      "\n",
      "3. Another CardView displays 'Active Calories' with a CaloriesGraphView and options to enter body details.\n",
      "\n",
      "4. The UI also contains an AppCompatTextView at the bottom without a specified description. \n",
      "\n",
      "5. At the top of the UI, there is a toolbar with an 'AppCompatTextView' displaying 'Well done!' and two buttons; an ImageButton for navigation and an ActionMenuItemView for sharing.\n",
      "\n",
      "\n",
      "=== Annotating (press \"q\" to quit) === [3 / 100] C:/Mulong/Data/rico/rico_sca\\6.jpg\n",
      "*** GUI Analysis ***\n",
      "*** Summarization [Key Element] ***\n",
      " This is a UI of an exercise/workout app. It consists of several clickable UI elements like images and texts arranged hierarchically.\n",
      "\n",
      "Key UI elements:\n",
      "1. A Start Workout button with icon (resource-id: 'se.perigee.seven:id/img_start', description: ' START WORKOUT Workout Circuits Full Body / Start').\n",
      "2. Text buttons for 'Start' and 'Workout' (resource-id: 'se.perigee.seven:id/start_workout_start' and 'start_workout_workout').\n",
      "3. A workout session layout which includes an image for 'location search', and texts for 'Full Body' and 'Workout'.\n",
      "4. A LinearLayout showing information about the session circuits including an image for 'refresh', and texts for '1' and 'Circuits'.\n",
      "5. An instructor information layout with an image, and texts 'Instructor' and 'Announcer'.\n",
      "6. A bottom bar with four main tabs for navigation: 'Workout', 'Learn', 'Achievements', and 'Track', each with respective icons and titles.\n",
      "7. A top action bar with a clickable menu item for 'Workout Info' and 'More options'.\n",
      "\n",
      "This hierarchy also includes classes for widgets, clickable capabilities, and resource IDs for each element for interaction and identification purposes.\n",
      "\n",
      "\n",
      "=== Annotating (press \"q\" to quit) === [4 / 100] C:/Mulong/Data/rico/rico_sca\\8.jpg\n",
      "*** GUI Analysis ***\n",
      "*** Summarization [Key Element] ***\n",
      " The user interface is dominated by a root which hosts a ScrollView widget that has various child elements including AppCompatTextViews, CheckableRelativeLayout, and multiple RelativeLayouts.\n",
      "\n",
      "1. One of the AppCompatTextView displays 'Google Fit data'. \n",
      "\n",
      "2. The CheckableRelativeLayout which is clickable holds two child elements, an AppCompatTextView indicating 'Google Fit' and a Switch with designation 'avatar'. \n",
      "\n",
      "3. An explanatory AppCompatTextView is available detailing the usage of Google Fit. \n",
      "\n",
      "4. Another AppCompatTextView introduces 'Body details' section.\n",
      "\n",
      "5. There are multiple RelativeLayouts which are clickable and contains pairs of AppCompatTextViews for user's body details like 'Date of birth' (February 13, 1989), 'Biological sex' (Female), 'Weight' (Required) and 'Height' (Required). \n",
      "\n",
      "6. A concluding AppCompatTextView informs that all body details are required for calories tracking.\n",
      "\n",
      "Outside of the ScrollView, there is a Toolbar identified as 'action_bar'. It consists of an AppCompatTextView showing 'Google Fit' and an AppCompatImageButton described as 'Google Fit Google Fit data / Navigate up'.+\n",
      "\n",
      "\n",
      "=== Annotating (press \"q\" to quit) === [5 / 100] C:/Mulong/Data/rico/rico_sca\\14.jpg\n",
      "*** GUI Analysis ***\n",
      "*** Summarization [Key Element] ***\n",
      " The UI contains a root block that contains two main child elements: a RecyclerView and a Toolbar.\n",
      "\n",
      "1. RecyclerView: Contains different LinearLayout blocks, each offering a description of a different workout along with relevant images. Each block in the RecyclerView is clickable. The workouts include \"Upper Body\", \"Lower Body\", \"Stretch\", \"Bootcamp\", \"Aerobic\", and \"Animalistic\". The RecyclerView also includes the \"April\" static text block.\n",
      "\n",
      "2. Toolbar: This includes the \"Workouts\" text block and a clickable image button presenting the option to go to \"Upper Body\" workout or Navigate up.\n",
      "\n",
      "All the clickable workout blocks in the RecyclerView have components - an image related to the workout, two TextViews providing descriptions of the workout, a lock symbol image indicating access restriction, and an \"info\" button for more details.\n",
      "\n",
      "\n",
      "=== Annotating (press \"q\" to quit) === [6 / 100] C:/Mulong/Data/rico/rico_sca\\15.jpg\n",
      "*** GUI Analysis ***\n",
      "*** Summarization [Key Element] ***\n",
      " The user interface consists of a root element with a large area. Key child elements within this root contain a recycler view, a floating action button and an action bar.\n",
      "\n",
      "The recycler view has multiple child elements labelled as \"Plans\", \"Sporty\", \"Health\", and \"Today\", each with their own descriptions. There are also image buttons for Sports, Healthy, Today's activities, and information, with an additional lock image button. Other elements within the recycler view contain descriptions such as \"Weightloss\", \"Full Body\", \"Upper Body\", and \"Lower Body\" with respective details. Also, there are elements named \"Get Started\", focusing on whole body workouts, upper body workouts and lower body workouts each with additional information links.\n",
      "\n",
      "The floating action button is labeled \"add\" while the action bar contains a text view named \"Workouts\" and an image button for navigation. The action bar seems to function as the header and navigation for the UI. \n",
      "\n",
      "Overall, the UI appears to be related to a fitness application providing different workout plans for users with detailed information and lock options for plans. There are also options to add new workout plans.\n"
     ]
    },
    {
     "ename": "KeyboardInterrupt",
     "evalue": "",
     "output_type": "error",
     "traceback": [
      "\u001b[1;31m---------------------------------------------------------------------------\u001b[0m",
      "\u001b[1;31mKeyboardInterrupt\u001b[0m                         Traceback (most recent call last)",
      "Cell \u001b[1;32mIn[5], line 1\u001b[0m\n\u001b[1;32m----> 1\u001b[0m \u001b[43mdata\u001b[49m\u001b[38;5;241;43m.\u001b[39;49m\u001b[43mannotate_all_guis\u001b[49m\u001b[43m(\u001b[49m\u001b[43mstart_gui_no\u001b[49m\u001b[38;5;241;43m=\u001b[39;49m\u001b[38;5;241;43m0\u001b[39;49m\u001b[43m,\u001b[49m\u001b[43m \u001b[49m\u001b[43mend_gui_no\u001b[49m\u001b[38;5;241;43m=\u001b[39;49m\u001b[38;5;241;43m100\u001b[39;49m\u001b[43m,\u001b[49m\u001b[43m \u001b[49m\u001b[43mfactor_id\u001b[49m\u001b[38;5;241;43m=\u001b[39;49m\u001b[38;5;241;43m0\u001b[39;49m\u001b[43m,\u001b[49m\u001b[43m \u001b[49m\n\u001b[0;32m      2\u001b[0m \u001b[43m                       \u001b[49m\u001b[43mload_gui\u001b[49m\u001b[38;5;241;43m=\u001b[39;49m\u001b[38;5;28;43;01mFalse\u001b[39;49;00m\u001b[43m,\u001b[49m\u001b[43m \u001b[49m\u001b[43mshow_gui\u001b[49m\u001b[38;5;241;43m=\u001b[39;49m\u001b[38;5;28;43;01mFalse\u001b[39;49;00m\u001b[43m,\u001b[49m\u001b[43m \u001b[49m\u001b[43mturn_on_revision\u001b[49m\u001b[38;5;241;43m=\u001b[39;49m\u001b[38;5;28;43;01mFalse\u001b[39;49;00m\u001b[43m,\u001b[49m\u001b[43m \u001b[49m\u001b[43mwait_time\u001b[49m\u001b[38;5;241;43m=\u001b[39;49m\u001b[38;5;241;43m2\u001b[39;49m\u001b[43m)\u001b[49m\n",
      "File \u001b[1;32mC:\\Mulong\\Code\\UI-Captioning\\DataCollector.py:185\u001b[0m, in \u001b[0;36mDataCollector.annotate_all_guis\u001b[1;34m(self, start_gui_no, end_gui_no, factor_id, load_gui, show_gui, turn_on_revision, wait_time)\u001b[0m\n\u001b[0;32m    183\u001b[0m \u001b[38;5;28;01mif\u001b[39;00m \u001b[38;5;129;01mnot\u001b[39;00m \u001b[38;5;28mself\u001b[39m\u001b[38;5;241m.\u001b[39mannotate_gui(gui_img_file, gui_vh_file, factor\u001b[38;5;241m=\u001b[39m\u001b[38;5;28mself\u001b[39m\u001b[38;5;241m.\u001b[39mannotation_factors[factor_id], load_gui\u001b[38;5;241m=\u001b[39mload_gui, show_gui\u001b[38;5;241m=\u001b[39mshow_gui):\n\u001b[0;32m    184\u001b[0m     \u001b[38;5;28;01mbreak\u001b[39;00m\n\u001b[1;32m--> 185\u001b[0m \u001b[43mtime\u001b[49m\u001b[38;5;241;43m.\u001b[39;49m\u001b[43msleep\u001b[49m\u001b[43m(\u001b[49m\u001b[43mwait_time\u001b[49m\u001b[43m)\u001b[49m\n",
      "\u001b[1;31mKeyboardInterrupt\u001b[0m: "
     ]
    }
   ],
   "source": [
    "data.annotate_all_guis(start_gui_no=0, end_gui_no=100, factor_id=0, \n",
    "                       load_gui=False, show_gui=False, turn_on_revision=False, wait_time=2)"
   ]
  },
  {
   "cell_type": "code",
   "execution_count": 8,
   "id": "9d7bf74d",
   "metadata": {},
   "outputs": [
    {
     "name": "stdout",
     "output_type": "stream",
     "text": [
      "*** GUI Analysis ***\n",
      "*** Summarization [Functionality] ***\n",
      " This UI seems to be a drum pad machine app with various buttons for playing different drum sounds. It also has a pitch control and navigation buttons. Additionally, there are some ad-related elements in the UI.\n"
     ]
    }
   ],
   "source": [
    "data.annotate_gui(gui_img_file='C:/Mulong/Data/rico/rico_sca/33.jpg', \n",
    "                  gui_json_file='C:/Mulong/Data/rico/rico_sca/33.json',\n",
    "                  factor='Functionality', load_gui=False, show_gui=True)"
   ]
  },
  {
   "cell_type": "markdown",
   "id": "f5f82a12",
   "metadata": {},
   "source": [
    "## Check annotations"
   ]
  },
  {
   "cell_type": "code",
   "execution_count": 1,
   "id": "7ee74e1b",
   "metadata": {},
   "outputs": [
    {
     "name": "stderr",
     "output_type": "stream",
     "text": [
      "C:\\Users\\xie029\\AppData\\Local\\Programs\\Python\\Python310\\lib\\site-packages\\tqdm\\auto.py:22: TqdmWarning: IProgress not found. Please update jupyter and ipywidgets. See https://ipywidgets.readthedocs.io/en/stable/user_install.html\n",
      "  from .autonotebook import tqdm as notebook_tqdm\n"
     ]
    }
   ],
   "source": [
    "from DataCollector import check_annotations, check_annotation_by_ui_id"
   ]
  },
  {
   "cell_type": "code",
   "execution_count": 3,
   "id": "a7288ff0",
   "metadata": {},
   "outputs": [
    {
     "name": "stdout",
     "output_type": "stream",
     "text": [
      "[File]: C:/Mulong/Data/ui captioning/annotation\\55_Accessibility.json\n",
      "[Factor]: Accessibility\n",
      "[Caption] The UI contains a root view with a navigation bar containing various elements such as an icon, a refresh button, and a URL input view. It also has page manager and more options buttons. There is a page progress view and a browser web view. Overall, the UI seems to have the necessary elements for basic accessibility, such as clickable buttons and descriptive descriptions for images.\n",
      "*** Press \"q\" to quit, \"r\" to revise, anything else to continue ***\n",
      "Load elements from C:/Mulong/Data/ui captioning\\guidata\\55_elements.json\n",
      "Load element tree from C:/Mulong/Data/ui captioning\\guidata\\55_tree.json\n",
      "\n",
      "\n",
      "[File]: C:/Mulong/Data/ui captioning/annotation\\55_Functionality.json\n",
      "[Factor]: Functionality\n",
      "[Caption] The provided UI hierarchy represents a web browser interface. The functionality of the UI includes:\n",
      "\n",
      "1. Navigation Bar: Contains various UI elements such as an address bar, refresh button, page manager button, and more options button.\n",
      "2. Address Bar: Allows the user to enter and display the URL of a webpage.\n",
      "3. Favicon and Lock Icons: Displayed in the address bar to indicate the security and identity of the website being visited.\n",
      "4. Refresh Button: Allows the user to refresh the current webpage.\n",
      "5. Page Manager Button: Provides access to manage and switch between multiple open tabs.\n",
      "6. More Options Button: Provides additional options and settings for the browser.\n",
      "7. Page Progress View: Shows the loading progress of the current webpage.\n",
      "8. Browser WebView: Displays the content of the web page being visited.\n",
      "\n",
      "Overall, the UI allows the user to navigate, view web content, manage tabs, and access various browser options and settings.\n",
      "*** Press \"q\" to quit, \"r\" to revise, anything else to continue ***\n",
      "Load elements from C:/Mulong/Data/ui captioning\\guidata\\55_elements.json\n",
      "Load element tree from C:/Mulong/Data/ui captioning\\guidata\\55_tree.json\n",
      "\n",
      "\n",
      "[File]: C:/Mulong/Data/ui captioning/annotation\\55_Key Element.json\n",
      "[Factor]: Key Element\n",
      "[Caption] Key Element: Browser UI\n",
      "\n",
      "This UI represents a browser interface. It contains various elements such as the navigation bar, page progress view, and the browser web view. The navigation bar consists of a URL input view, refresh page button, page manager button, and more options button. The page progress view displays the loading progress of the page. The browser web view is where the webpage content is displayed.\n",
      "*** Press \"q\" to quit, \"r\" to revise, anything else to continue ***\n",
      "Load elements from C:/Mulong/Data/ui captioning\\guidata\\55_elements.json\n",
      "Load element tree from C:/Mulong/Data/ui captioning\\guidata\\55_tree.json\n"
     ]
    }
   ],
   "source": [
    "check_annotations(start_gui_no=80, end_gui_no=100,\n",
    "                  rico_dir='C:/Mulong/Data/rico/rico_sca',\n",
    "                  gui_dir='C:/Mulong/Data/ui captioning',\n",
    "                  annotation_dir='C:/Mulong/Data/ui captioning/annotation',\n",
    "                  revision_dir='C:/Mulong/Data/ui captioning/annotation-revision')"
   ]
  },
  {
   "cell_type": "code",
   "execution_count": 2,
   "id": "17c3e9ae",
   "metadata": {},
   "outputs": [
    {
     "name": "stdout",
     "output_type": "stream",
     "text": [
      "***********\n",
      "[Factor]: Accessibility\n",
      "[Caption] In terms of accessibility, the UI has both clickable and non-clickable elements. The root element is non-clickable and has a large area. There is a back button that is clickable. The \"Pitch\" text is non-clickable and has a large area. The UI also contains a container with multiple pads/buttons, all of which are clickable. Additionally, there are two image views and two web views, all of which are clickable. Overall, the UI seems to have a mix of clickable and non-clickable elements, which can provide a good user experience for people with different accessibility needs.\n",
      "***********\n",
      "[Factor]: Functionality\n",
      "[Caption] The given UI has the following functionality:\n",
      "\n",
      "1. There is a back button ('buttonBack') that is clickable and used to navigate back to the previous screen.\n",
      "2. There is a header ('text_menu_header') displaying the text \"Pitch\", which is not clickable.\n",
      "3. There is a container ('scenes_container') containing multiple 'Pad' elements.\n",
      "   - Each 'Pad' element represents a drum pad and has a unique number as its description.\n",
      "   - These 'Pad' elements are clickable and likely used to trigger sounds or perform drumming actions.\n",
      "4. There is an image view ('imageView') displaying an image, providing visual content.\n",
      "5. There are two ad views ('com.google.gms.ads.internal.webview.m'), which are likely used for displaying advertisements.\n",
      "6. The root view ('root') has an overall area of 2560 pixels in length and 1440 pixels in height.\n",
      "\n",
      "Please note that this summary is based on the provided information and may not capture the complete functionality of the UI.\n",
      "***********\n",
      "[Factor]: Key Element\n",
      "[Caption] In this UI, the key elements are as follows:\n",
      "1. Button with resource-id '.agminstruments.clubdrumpadmachine:id/buttonBack' and description 'arrow_backward'.\n",
      "2. Text view with resource-id '.agminstruments.clubdrumpadmachine:id/text_menu_header' and description 'Pitch'.\n",
      "3. SafeViewFlipper with resource-id '.agminstruments.clubdrumpadmachine:id/scenes_container' and contains multiple child elements.\n",
      "4. Image view with resource-id '.agminstruments.clubdrumpadmachine:id/imageView'.\n",
      "5. Two clickable elements with class 'com.google.gms.ads.internal.webview.m' and ids 17 and 18.\n",
      "***********\n",
      "[Factor]: Layout\n",
      "[Caption] The layout of this UI can be summarized as follows:\n",
      "\n",
      "- Root layout with a height of 1440 and length of 2560.\n",
      "- Contains several children elements:\n",
      "  - An ImageButton with the resource-id '.agminstruments.clubdrumpadmachine:id/buttonBack'.\n",
      "  - A TextView with the resource-id '.agminstruments.clubdrumpadmachine:id/text_menu_header' and description 'Pitch'.\n",
      "  - A SafeViewFlipper with the resource-id '.agminstruments.clubdrumpadmachine:id/scenes_container'.\n",
      "    - Contains multiple Pad elements (Button-like elements) with various resource-ids, classes, descriptions, and areas.\n",
      "  - An ImageView with the resource-id '.agminstruments.clubdrumpadmachine:id/imageView' and height of 1440 and length of 175.\n",
      "  - Two WebView elements with the classes 'com.google.gms.ads.internal.webview.m' and heights of 1440 and lengths of 175.\n",
      "\n",
      "Load elements from C:/Mulong/Data/ui captioning\\guidata\\33_elements.json\n",
      "Load element tree from C:/Mulong/Data/ui captioning\\guidata\\33_tree.json\n"
     ]
    }
   ],
   "source": [
    "gui = check_annotation_by_ui_id(gui_id=33,\n",
    "                          rico_dir='C:/Mulong/Data/rico/rico_sca',\n",
    "                          gui_dir='C:/Mulong/Data/ui captioning',\n",
    "                          annotation_dir='C:/Mulong/Data/ui captioning/annotation')"
   ]
  }
 ],
 "metadata": {
  "kernelspec": {
   "display_name": "Python 3 (ipykernel)",
   "language": "python",
   "name": "python3"
  },
  "language_info": {
   "codemirror_mode": {
    "name": "ipython",
    "version": 3
   },
   "file_extension": ".py",
   "mimetype": "text/x-python",
   "name": "python",
   "nbconvert_exporter": "python",
   "pygments_lexer": "ipython3",
   "version": "3.10.10"
  }
 },
 "nbformat": 4,
 "nbformat_minor": 5
}
