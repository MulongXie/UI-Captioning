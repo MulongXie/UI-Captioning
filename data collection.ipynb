{
 "cells": [
  {
   "cell_type": "code",
   "execution_count": 1,
   "id": "029a3550",
   "metadata": {},
   "outputs": [
    {
     "name": "stderr",
     "output_type": "stream",
     "text": [
      "C:\\Users\\xie029\\AppData\\Local\\Programs\\Python\\Python310\\lib\\site-packages\\tqdm\\auto.py:22: TqdmWarning: IProgress not found. Please update jupyter and ipywidgets. See https://ipywidgets.readthedocs.io/en/stable/user_install.html\n",
      "  from .autonotebook import tqdm as notebook_tqdm\n"
     ]
    }
   ],
   "source": [
    "from DataCollector import DataCollector"
   ]
  },
  {
   "cell_type": "code",
   "execution_count": 3,
   "id": "a38c61b0",
   "metadata": {},
   "outputs": [],
   "source": [
    "data = DataCollector('data/rico/raw/', 'data/rico/', engine_model='gpt-3.5-turbo')"
   ]
  },
  {
   "cell_type": "markdown",
   "id": "03236f2f",
   "metadata": {},
   "source": [
    "## Single GUI Annotation"
   ]
  },
  {
   "cell_type": "code",
   "execution_count": 3,
   "id": "59965c9e",
   "metadata": {},
   "outputs": [],
   "source": [
    "gui = data.analyze_gui(data.img_files[0], data.vh_files[0])"
   ]
  },
  {
   "cell_type": "code",
   "execution_count": 5,
   "id": "738da395",
   "metadata": {},
   "outputs": [
    {
     "name": "stdout",
     "output_type": "stream",
     "text": [
      "*** Summarization ***\n",
      " This UI contains a root element with two children: a webview element and an advertising element. The webview element has several child elements and displays text input fields related to setting up a menstrual period tracking app. The advertising element contains two ad view elements.\n",
      "Do you want to revise the summarization? (\"y\" or \"n\"): y\n",
      "*** Revision ***\n",
      "Input your ground truth: t\n",
      "Input revision points: 1\n"
     ]
    },
    {
     "data": {
      "text/plain": [
       "{'gui-no': '0',\n",
       " 'element-tree': \"{'clickable': False, 'class': 'root', 'id': 0, 'area': {'height': 1440, 'length': 2560}, 'children': [{'clickable': True, 'class': 'org.apache.cordova.engine.SystemWebView', 'id': 1, 'area': {'height': 1440, 'length': 2392}, 'description': ' Initial Setup Default period length The length of your period . Usually lasts between and days Default cycle length The duration between the start dates of two periods . Usually between 23 and 35 days . Start date of your last period 10 30 Feb 2017 Continue'}, {'clickable': False, 'class': 'com.digitalchemy.foundation.advertising.c.a', 'id': 2, 'area': {'height': 1440, 'length': 175}, 'children': [{'clickable': False, 'children': [], 'class': 'com.google.gms.ads.AdView', 'id': 3, 'area': {'height': 1438, 'length': 175}, 'description': ' Continue'}, {'clickable': False, 'class': 'com.google.gms.ads.AdView', 'id': 4, 'area': {'height': 1438, 'length': 175}, 'description': ' Continue'}]}]}\",\n",
       " 'revised': True,\n",
       " 'annotation': 't',\n",
       " 'revision-suggestion': '1'}"
      ]
     },
     "execution_count": 5,
     "metadata": {},
     "output_type": "execute_result"
    }
   ],
   "source": [
    "data.annotate_gui(data.img_files[0], data.vh_files[0])"
   ]
  },
  {
   "cell_type": "markdown",
   "id": "0c63ad3c",
   "metadata": {},
   "source": [
    "## Multiple GUI Annotation Loops"
   ]
  },
  {
   "cell_type": "code",
   "execution_count": 5,
   "id": "20486e58",
   "metadata": {},
   "outputs": [
    {
     "name": "stdout",
     "output_type": "stream",
     "text": [
      "\n",
      "=== Annotating (press \"q\" to quit) === data/rico/raw\\0.jpg\n",
      "*** GUI Analysis ***\n",
      "*** Summarization ***\n",
      " The given UI is an app that helps users input information related to their menstrual cycle. It provides fields for the user to enter the length of their period, the duration between two periods, and the start date of their last period. There is also an advertisement displayed on the right-hand side of the screen, which is likely how the app is monetized. The UI is split into two main components, one for the input fields and one for the advertisement.\n",
      "Do you want to revise the summarization? (\"y\" or \"n\"): y\n",
      "*** Revision ***\n",
      "Input your ground truth: test\n",
      "Input revision points: 1 2\n",
      "\n",
      "=== Annotating (press \"q\" to quit) === data/rico/raw\\1.jpg\n",
      "*** GUI Analysis ***\n",
      "*** Summarization ***\n",
      " This UI seems to be a mobile app interface with two main functionalities. The first functionality is related to menstrual cycles and allows the user to add a new cycle specifying the cycle length and period length. The second functionality is related to advertising as there are two ad blocks contained within the UI. There is also a promotional message related to the Chevrolet Equinox LS.\n",
      "Do you want to revise the summarization? (\"y\" or \"n\"): y\n",
      "*** Revision ***\n",
      "Input your ground truth: 1 2\n",
      "Input revision points: 1 2\n",
      "\n",
      "=== Annotating (press \"q\" to quit) === data/rico/raw\\2.jpg\n",
      "*** GUI Analysis ***\n",
      "*** Summarization ***\n",
      " This UI contains a date picker widget allowing the user to select a date from a calendar. The widget displays the selected date both in textual and graphical format. The user can navigate to previous or next month. A done button is provided to confirm the selected date.\n",
      "Do you want to revise the summarization? (\"y\" or \"n\"): n\n",
      "\n",
      "=== Annotating (press \"q\" to quit) === data/rico/raw\\3.jpg\n",
      "*** GUI Analysis ***\n",
      "*** Summarization ***\n",
      " This UI seems to be a workout app where the user can view an exercise video and follow along with the instructions. The UI contains a video player and playback control buttons. The name of the exercise is displayed along with a progress bar showing the completion of the exercise. The top toolbar displays the name of the exercise and a navigation button to go back to the previous screen.\n"
     ]
    }
   ],
   "source": [
    "data.annotate_all_guis(0, 0)"
   ]
  },
  {
   "cell_type": "code",
   "execution_count": 7,
   "id": "82ef1e9f",
   "metadata": {},
   "outputs": [
    {
     "data": {
      "text/plain": [
       "[{'gui-no': '0',\n",
       "  'element-tree': \"{'clickable': False, 'class': 'root', 'id': 0, 'area': {'height': 1440, 'length': 2560}, 'children': [{'clickable': True, 'class': 'org.apache.cordova.engine.SystemWebView', 'id': 1, 'area': {'height': 1440, 'length': 2392}, 'description': ' Initial Setup Default period length The length of your period . Usually lasts between and days Default cycle length The duration between the start dates of two periods . Usually between 23 and 35 days . Start date of your last period 10 30 Feb 2017 Continue'}, {'clickable': False, 'class': 'com.digitalchemy.foundation.advertising.c.a', 'id': 2, 'area': {'height': 1440, 'length': 175}, 'children': [{'clickable': False, 'children': [], 'class': 'com.google.gms.ads.AdView', 'id': 3, 'area': {'height': 1438, 'length': 175}, 'description': ' Continue'}, {'clickable': False, 'class': 'com.google.gms.ads.AdView', 'id': 4, 'area': {'height': 1438, 'length': 175}, 'description': ' Continue'}]}]}\",\n",
       "  'revised': True,\n",
       "  'annotation': 'test',\n",
       "  'revision-suggestion': '1 2'},\n",
       " {'gui-no': '1',\n",
       "  'element-tree': \"{'clickable': False, 'class': 'root', 'id': 0, 'area': {'height': 1440, 'length': 2560}, 'children': [{'clickable': True, 'class': 'org.apache.cordova.engine.SystemWebView', 'id': 1, 'area': {'height': 1440, 'length': 2214}, 'description': ' Menstrual Cycles Menstrual Cycles Add new cycle Wednesday , February , 2017 Cycle length : Period length : 2017 EQUINOX LS ATTRACTIVE OFFERS NOW AVAILABLE Learn More CHEVROLET'}, {'clickable': False, 'class': 'com.digitalchemy.foundation.advertising.c.a', 'id': 2, 'area': {'height': 1440, 'length': 175}, 'children': [{'clickable': True, 'class': 'com.google.gms.ads.internal.webview.o', 'id': 3, 'area': {'height': 1438, 'length': 175}}, {'clickable': False, 'class': 'com.google.gms.ads.AdView', 'id': 4, 'area': {'height': 1438, 'length': 175}}]}]}\",\n",
       "  'revised': True,\n",
       "  'annotation': '1 2',\n",
       "  'revision-suggestion': '1 2'},\n",
       " {'gui-no': '2',\n",
       "  'element-tree': \"{'clickable': False, 'class': 'root', 'id': 0, 'area': {'height': 1256, 'length': 1715}, 'children': [{'clickable': False, 'class': '.widget.DatePicker', 'id': 1, 'area': {'height': 1144, 'length': 1407}, 'children': [{'resource-id': ':id/date_picker_header_year', 'clickable': True, 'class': '.support.v7.widget.AppCompatTextView', 'id': 2, 'area': {'height': 976, 'length': 142}, 'description': '1990'}, {'resource-id': ':id/date_picker_header_date', 'clickable': True, 'class': '.support.v7.widget.AppCompatTextView', 'id': 3, 'area': {'height': 555, 'length': 159}, 'description': 'Fri, Jun 15'}, {'resource-id': ':id/month_view', 'clickable': False, 'class': '.widget.SimpleMonthView', 'id': 4, 'area': {'height': 1144, 'length': 1043}, 'description': ' 14 15 16 17 18 19 10 11 12 13 21 22 23 24 28 29 30 31 25 26 20 27 DONE ed ed ed ed'}, {'resource-id': ':id/prev', 'clickable': True, 'class': '.support.v7.widget.AppCompatImageButton', 'id': 5, 'area': {'height': 168, 'length': 168}, 'description': 'Previous month'}, {'resource-id': ':id/next', 'clickable': True, 'class': '.support.v7.widget.AppCompatImageButton', 'id': 6, 'area': {'height': 168, 'length': 168}, 'description': 'Next month'}]}, {'resource-id': ':id/button1', 'clickable': True, 'class': '.support.v7.widget.AppCompatButton', 'id': 7, 'area': {'height': 232, 'length': 168}, 'description': 'Done'}]}\",\n",
       "  'revised': False,\n",
       "  'annotation': 'This UI contains a date picker widget allowing the user to select a date from a calendar. The widget displays the selected date both in textual and graphical format. The user can navigate to previous or next month. A done button is provided to confirm the selected date.'}]"
      ]
     },
     "execution_count": 7,
     "metadata": {},
     "output_type": "execute_result"
    }
   ],
   "source": [
    "data.annotations"
   ]
  },
  {
   "cell_type": "code",
   "execution_count": 8,
   "id": "5dca955d",
   "metadata": {},
   "outputs": [
    {
     "data": {
      "text/plain": [
       "[{'role': 'system',\n",
       "  'content': 'You are a mobile virtual assistant that understands and interacts with the user interface to complete a given task.'},\n",
       " {'role': 'user',\n",
       "  'content': 'You will be given some view hierarchies of UIs containing various UI blocks and elements.'},\n",
       " {'role': 'user',\n",
       "  'content': 'Here are some examples with appropriate summarization.'},\n",
       " {'role': 'user',\n",
       "  'content': \"Example 0#GUI:{'clickable': False, 'class': 'root', 'id': 0, 'area': {'height': 1440, 'length': 2560}, 'children': [{'clickable': True, 'class': 'org.apache.cordova.engine.SystemWebView', 'id': 1, 'area': {'height': 1440, 'length': 2392}, 'description': ' Initial Setup Default period length The length of your period . Usually lasts between and days Default cycle length The duration between the start dates of two periods . Usually between 23 and 35 days . Start date of your last period 10 30 Feb 2017 Continue'}, {'clickable': False, 'class': 'com.digitalchemy.foundation.advertising.c.a', 'id': 2, 'area': {'height': 1440, 'length': 175}, 'children': [{'clickable': False, 'children': [], 'class': 'com.google.gms.ads.AdView', 'id': 3, 'area': {'height': 1438, 'length': 175}, 'description': ' Continue'}, {'clickable': False, 'class': 'com.google.gms.ads.AdView', 'id': 4, 'area': {'height': 1438, 'length': 175}, 'description': ' Continue'}]}]}\"},\n",
       " {'role': 'user', 'content': '#Ground Truth Summarization: test'},\n",
       " {'role': 'user', 'content': '#Points to be noticed: 1 2'},\n",
       " {'role': 'user',\n",
       "  'content': \"Example 1#GUI:{'clickable': False, 'class': 'root', 'id': 0, 'area': {'height': 1440, 'length': 2560}, 'children': [{'clickable': True, 'class': 'org.apache.cordova.engine.SystemWebView', 'id': 1, 'area': {'height': 1440, 'length': 2214}, 'description': ' Menstrual Cycles Menstrual Cycles Add new cycle Wednesday , February , 2017 Cycle length : Period length : 2017 EQUINOX LS ATTRACTIVE OFFERS NOW AVAILABLE Learn More CHEVROLET'}, {'clickable': False, 'class': 'com.digitalchemy.foundation.advertising.c.a', 'id': 2, 'area': {'height': 1440, 'length': 175}, 'children': [{'clickable': True, 'class': 'com.google.gms.ads.internal.webview.o', 'id': 3, 'area': {'height': 1438, 'length': 175}}, {'clickable': False, 'class': 'com.google.gms.ads.AdView', 'id': 4, 'area': {'height': 1438, 'length': 175}}]}]}\"},\n",
       " {'role': 'user', 'content': '#Ground Truth Summarization: 1 2'},\n",
       " {'role': 'user', 'content': '#Points to be noticed: 1 2'},\n",
       " {'role': 'user',\n",
       "  'content': \"Please summarize this UI in terms of functionality within 100 words.{'clickable': False, 'class': 'root', 'id': 0, 'area': {'height': 1440, 'length': 2560}, 'children': [{'clickable': True, 'class': '.widget.RelativeLayout', 'id': 1, 'area': {'height': 1440, 'length': 2112}, 'children': [{'resource-id': 'se.perigee.seven:id/video', 'clickable': True, 'class': 'com.perigee.seven.ui.view.VideoView', 'id': 2, 'area': {'height': 1440, 'length': 1440}, 'description': 'avatar'}, {'resource-id': 'se.perigee.seven:id/video_overlay', 'clickable': True, 'class': '.view.View', 'id': 3, 'area': {'height': 1440, 'length': 1522}, 'description': ' LUNGES'}, {'resource-id': 'se.perigee.seven:id/text_exercise', 'clickable': True, 'class': '.support.v7.widget.AppCompatTextView', 'id': 4, 'area': {'height': 1384, 'length': 183}, 'description': 'Lunges'}, {'resource-id': 'se.perigee.seven:id/progress', 'clickable': True, 'class': 'com.perigee.seven.ui.view.SegmentedProgressView', 'id': 5, 'area': {'height': 350, 'length': 350}, 'description': ' 30'}, {'resource-id': 'se.perigee.seven:id/forward', 'clickable': True, 'class': '.support.v7.widget.AppCompatImageView', 'id': 6, 'area': {'height': 344, 'length': 350}, 'description': 'Forward'}, {'resource-id': 'se.perigee.seven:id/backward', 'clickable': True, 'class': '.support.v7.widget.AppCompatImageView', 'id': 7, 'area': {'height': 344, 'length': 350}, 'description': 'Backwards'}]}, {'resource-id': 'se.perigee.seven:id/action_bar', 'clickable': False, 'class': '.support.v7.widget.Toolbar', 'id': 8, 'area': {'height': 1440, 'length': 196}, 'children': [{'clickable': False, 'class': '.support.v7.widget.AppCompatTextView', 'id': 9, 'area': {'height': 541, 'length': 93}, 'description': 'Exercise 10 of 12'}, {'clickable': True, 'class': '.support.v7.widget.AppCompatImageButton', 'id': 10, 'area': {'height': 196, 'length': 196}, 'description': 'Navigate up'}]}]}\"},\n",
       " {'role': 'assistant',\n",
       "  'content': 'This UI seems to be a workout app where the user can view an exercise video and follow along with the instructions. The UI contains a video player and playback control buttons. The name of the exercise is displayed along with a progress bar showing the completion of the exercise. The top toolbar displays the name of the exercise and a navigation button to go back to the previous screen.'}]"
      ]
     },
     "execution_count": 8,
     "metadata": {},
     "output_type": "execute_result"
    }
   ],
   "source": [
    "data.llm_summarizer.conversation"
   ]
  },
  {
   "cell_type": "code",
   "execution_count": null,
   "id": "c0a3b846",
   "metadata": {},
   "outputs": [],
   "source": []
  }
 ],
 "metadata": {
  "kernelspec": {
   "display_name": "Python 3 (ipykernel)",
   "language": "python",
   "name": "python3"
  },
  "language_info": {
   "codemirror_mode": {
    "name": "ipython",
    "version": 3
   },
   "file_extension": ".py",
   "mimetype": "text/x-python",
   "name": "python",
   "nbconvert_exporter": "python",
   "pygments_lexer": "ipython3",
   "version": "3.10.10"
  }
 },
 "nbformat": 4,
 "nbformat_minor": 5
}
