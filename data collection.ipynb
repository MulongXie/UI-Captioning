{
 "cells": [
  {
   "cell_type": "markdown",
   "id": "c165b319",
   "metadata": {},
   "source": [
    "## GUI annotating"
   ]
  },
  {
   "cell_type": "code",
   "execution_count": 1,
   "id": "029a3550",
   "metadata": {},
   "outputs": [
    {
     "name": "stderr",
     "output_type": "stream",
     "text": [
      "C:\\Users\\xie029\\AppData\\Local\\Programs\\Python\\Python310\\lib\\site-packages\\tqdm\\auto.py:22: TqdmWarning: IProgress not found. Please update jupyter and ipywidgets. See https://ipywidgets.readthedocs.io/en/stable/user_install.html\n",
      "  from .autonotebook import tqdm as notebook_tqdm\n"
     ]
    }
   ],
   "source": [
    "from DataCollector import DataCollector"
   ]
  },
  {
   "cell_type": "code",
   "execution_count": 2,
   "id": "a38c61b0",
   "metadata": {},
   "outputs": [],
   "source": [
    "data = DataCollector(input_dir='C:/Mulong/Data/rico/rico_sca', \n",
    "                     output_dir='C:/Mulong/Data/ui captioning', \n",
    "                     engine_model='gpt-3.5-turbo')"
   ]
  },
  {
   "cell_type": "code",
   "execution_count": 3,
   "id": "20486e58",
   "metadata": {},
   "outputs": [
    {
     "name": "stdout",
     "output_type": "stream",
     "text": [
      "\n",
      "\n",
      "=== Annotating (press \"q\" to quit) === [0 / 100] C:/Mulong/Data/rico/rico_sca\\2.jpg\n",
      "*** GUI Analysis ***\n",
      "*** Summarization [Key Element] ***\n",
      " The key element in this UI is a DatePicker widget, which includes the year and date headers, a month view, and buttons to navigate to the previous and next months. It also includes a Done button to finalize the selection.\n",
      "\n",
      "\n",
      "=== Annotating (press \"q\" to quit) === [1 / 100] C:/Mulong/Data/rico/rico_sca\\3.jpg\n",
      "*** GUI Analysis ***\n",
      "*** Summarization [Key Element] ***\n",
      " This UI consists of a video player with exercise information, a progress bar, and navigation buttons. It also includes an action bar with exercise details and navigation options.\n"
     ]
    }
   ],
   "source": [
    "data.annotate_all_guis(start_gui_no=0, end_gui_no=100, factor_id=0, \n",
    "                       load_gui=False, show_gui=Tr, turn_on_revision=False, wait_time=2)"
   ]
  },
  {
   "cell_type": "code",
   "execution_count": 8,
   "id": "8357972b",
   "metadata": {},
   "outputs": [
    {
     "name": "stdout",
     "output_type": "stream",
     "text": [
      "*** GUI Analysis ***\n",
      "*** Summarization [Functionality] ***\n",
      " This UI seems to be a drum pad machine app with various buttons for playing different drum sounds. It also has a pitch control and navigation buttons. Additionally, there are some ad-related elements in the UI.\n"
     ]
    }
   ],
   "source": [
    "data.annotate_gui(gui_img_file='C:/Mulong/Data/rico/rico_sca/33.jpg', \n",
    "                  gui_json_file='C:/Mulong/Data/rico/rico_sca/33.json',\n",
    "                  factor='Functionality', load_gui=False, show_gui=True)"
   ]
  },
  {
   "cell_type": "markdown",
   "id": "f5f82a12",
   "metadata": {},
   "source": [
    "## Check annotations"
   ]
  },
  {
   "cell_type": "code",
   "execution_count": 1,
   "id": "7ee74e1b",
   "metadata": {},
   "outputs": [
    {
     "name": "stderr",
     "output_type": "stream",
     "text": [
      "C:\\Users\\xie029\\AppData\\Local\\Programs\\Python\\Python310\\lib\\site-packages\\tqdm\\auto.py:22: TqdmWarning: IProgress not found. Please update jupyter and ipywidgets. See https://ipywidgets.readthedocs.io/en/stable/user_install.html\n",
      "  from .autonotebook import tqdm as notebook_tqdm\n"
     ]
    }
   ],
   "source": [
    "from DataCollector import check_annotations, check_annotation_by_ui_id"
   ]
  },
  {
   "cell_type": "code",
   "execution_count": 3,
   "id": "a7288ff0",
   "metadata": {},
   "outputs": [
    {
     "name": "stdout",
     "output_type": "stream",
     "text": [
      "[File]: C:/Mulong/Data/ui captioning/annotation\\100_Accessibility.json\n",
      "[Factor]: Accessibility\n",
      "[Caption] This UI consists of a grid view containing images and text. The grid items are clickable, and there are also non-clickable elements such as a position display and a toolbar. The UI appears to have accessibility features such as descriptions for some of the images. However, some clickable views do not have descriptions, which may affect accessibility for users with visual impairments.\n",
      "*** Press \"q\" to quit, \"r\" to revise, anything else to continue ***\n",
      "Load elements from C:/Mulong/Data/ui captioning\\guidata\\100_elements.json\n",
      "Load element tree from C:/Mulong/Data/ui captioning\\guidata\\100_tree.json\n",
      "\n",
      "\n",
      "[File]: C:/Mulong/Data/ui captioning/annotation\\100_Functionality.json\n",
      "[Factor]: Functionality\n",
      "[Caption] This UI is a video viewer with a grid of videos and their titles. It also has a toolbar with options to log in, search, and access feeds. It displays the number of videos being shown.\n",
      "*** Press \"q\" to quit, \"r\" to revise, anything else to continue ***\n",
      "Load elements from C:/Mulong/Data/ui captioning\\guidata\\100_elements.json\n",
      "Load element tree from C:/Mulong/Data/ui captioning\\guidata\\100_tree.json\n",
      "\n",
      "\n",
      "[File]: C:/Mulong/Data/ui captioning/annotation\\100_Key Element.json\n",
      "[Factor]: Key Element\n",
      "[Caption] This UI hierarchy consists of a root element with children elements. The key element is a GridView that contains multiple RecyclingImageViews and AppCompatTextViews. It also includes a position display view, a toolbar with text and image buttons, and an action menu view with search and feeds options.\n",
      "*** Press \"q\" to quit, \"r\" to revise, anything else to continue ***\n",
      "Load elements from C:/Mulong/Data/ui captioning\\guidata\\100_elements.json\n",
      "Load element tree from C:/Mulong/Data/ui captioning\\guidata\\100_tree.json\n",
      "\n",
      "\n",
      "[File]: C:/Mulong/Data/ui captioning/annotation\\100_Layout.json\n",
      "[Factor]: Layout\n",
      "[Caption] The UI layout consists of a root view with a grid view containing clickable images and their corresponding titles. There is also a position display view and a toolbar with options to navigate, log in, and search videos.\n",
      "*** Press \"q\" to quit, \"r\" to revise, anything else to continue ***\n",
      "Load elements from C:/Mulong/Data/ui captioning\\guidata\\100_elements.json\n",
      "Load element tree from C:/Mulong/Data/ui captioning\\guidata\\100_tree.json\n",
      "\n",
      "\n",
      "[File]: C:/Mulong/Data/ui captioning/annotation\\101_Accessibility.json\n",
      "[Factor]: Accessibility\n",
      "[Caption] This UI has multiple elements, including a toolbar with a logo and login options, an image, and a map. The toolbar has a NASA logo, a login button, and an avatar button. The map has options for logging in with email or Facebook, creating an account, and displaying the user's location. The UI is generally accessible, with clickable elements for navigation and interaction.\n",
      "*** Press \"q\" to quit, \"r\" to revise, anything else to continue ***\n",
      "Load elements from C:/Mulong/Data/ui captioning\\guidata\\101_elements.json\n",
      "Load element tree from C:/Mulong/Data/ui captioning\\guidata\\101_tree.json\n",
      "\n",
      "\n",
      "[File]: C:/Mulong/Data/ui captioning/annotation\\101_Functionality.json\n",
      "[Factor]: Functionality\n",
      "[Caption] This UI has a toolbar with the NASA logo and login options. It also has an overflow menu button for the user's avatar. There are options to login with email or Facebook. Additionally, there are options for forgot password, creating an account, and using Google Maps. The UI also includes a location icon and compass.\n",
      "*** Press \"q\" to quit, \"r\" to revise, anything else to continue ***\n",
      "Load elements from C:/Mulong/Data/ui captioning\\guidata\\101_elements.json\n",
      "Load element tree from C:/Mulong/Data/ui captioning\\guidata\\101_tree.json\n",
      "\n",
      "\n",
      "[File]: C:/Mulong/Data/ui captioning/annotation\\101_Key Element.json\n",
      "[Factor]: Key Element\n",
      "[Caption] The key elements in this UI include a toolbar with the NASA logo, options to log in with email or Facebook, and an avatar profile. Additionally, there are options for forgot password, a login screen with a Google Map background, and a location and compass icon.\n",
      "*** Press \"q\" to quit, \"r\" to revise, anything else to continue ***\n",
      "Load elements from C:/Mulong/Data/ui captioning\\guidata\\101_elements.json\n",
      "Load element tree from C:/Mulong/Data/ui captioning\\guidata\\101_tree.json\n",
      "\n",
      "\n",
      "[File]: C:/Mulong/Data/ui captioning/annotation\\101_Layout.json\n",
      "[Factor]: Layout\n",
      "[Caption] The UI layout consists of a root element with a toolbar and other interactive elements. The toolbar has a text view, image buttons for login and avatar, and an overflow menu button. Below the toolbar, there is a map view, followed by images for login and avatar, a \"My Location\" button, and a compass button.\n",
      "*** Press \"q\" to quit, \"r\" to revise, anything else to continue ***\n",
      "Load elements from C:/Mulong/Data/ui captioning\\guidata\\101_elements.json\n",
      "Load element tree from C:/Mulong/Data/ui captioning\\guidata\\101_tree.json\n",
      "\n",
      "\n",
      "[File]: C:/Mulong/Data/ui captioning/annotation\\102_Accessibility.json\n",
      "[Factor]: Accessibility\n",
      "[Caption] This UI has a root element with a height of 1440 and length of 2560. It contains a GridView with clickable items, including images and descriptive text. It also has a toolbar with buttons for navigating and searching, and a TextView displaying the number of images shown. The accessibility status is unclear based on the information provided.\n",
      "*** Press \"q\" to quit, \"r\" to revise, anything else to continue ***\n",
      "Load elements from C:/Mulong/Data/ui captioning\\guidata\\102_elements.json\n",
      "Load element tree from C:/Mulong/Data/ui captioning\\guidata\\102_tree.json\n",
      "\n",
      "\n",
      "[File]: C:/Mulong/Data/ui captioning/annotation\\102_Functionality.json\n",
      "[Factor]: Functionality\n",
      "[Caption] The UI is a root view with a GridView containing several images and titles related to NASA. It also has a search option and a toolbar with options for images, phone number input, and navigation. The UI displays a total of 16,203 images.\n",
      "*** Press \"q\" to quit, \"r\" to revise, anything else to continue ***\n",
      "Load elements from C:/Mulong/Data/ui captioning\\guidata\\102_elements.json\n",
      "Load element tree from C:/Mulong/Data/ui captioning\\guidata\\102_tree.json\n",
      "\n",
      "\n",
      "[File]: C:/Mulong/Data/ui captioning/annotation\\102_Key Element.json\n",
      "[Factor]: Key Element\n",
      "[Caption] The key element of this UI is a gridview containing multiple gridThumbViews with corresponding gridTitleText elements. It also has a toolbar with options for searching and navigating. There is a position display indicating the number of images shown.\n",
      "*** Press \"q\" to quit, \"r\" to revise, anything else to continue ***\n",
      "Load elements from C:/Mulong/Data/ui captioning\\guidata\\102_elements.json\n",
      "Load element tree from C:/Mulong/Data/ui captioning\\guidata\\102_tree.json\n",
      "\n",
      "\n",
      "[File]: C:/Mulong/Data/ui captioning/annotation\\102_Layout.json\n",
      "[Factor]: Layout\n",
      "[Caption] The given UI hierarchy consists of a root layout with a GridView. The GridView contains a series of image thumbnails, each accompanied by a title and a search icon. There is also a navigation drawer and a toolbar with options for searching and viewing feeds.\n",
      "*** Press \"q\" to quit, \"r\" to revise, anything else to continue ***\n",
      "Load elements from C:/Mulong/Data/ui captioning\\guidata\\102_elements.json\n",
      "Load element tree from C:/Mulong/Data/ui captioning\\guidata\\102_tree.json\n",
      "\n",
      "\n",
      "[File]: C:/Mulong/Data/ui captioning/annotation\\103_Accessibility.json\n",
      "[Factor]: Accessibility\n",
      "[Caption] This UI is not very accessible as there are multiple UI blocks that are not clickable. It contains various TextViews and ImageButtons with descriptions related to missions, launch schedule, sighting opportunities, and more. However, the overall accessibility of this UI could be improved.\n",
      "*** Press \"q\" to quit, \"r\" to revise, anything else to continue ***\n",
      "Load elements from C:/Mulong/Data/ui captioning\\guidata\\103_elements.json\n",
      "Load element tree from C:/Mulong/Data/ui captioning\\guidata\\103_tree.json\n",
      "\n",
      "\n",
      "[File]: C:/Mulong/Data/ui captioning/annotation\\103_Functionality.json\n",
      "[Factor]: Functionality\n",
      "[Caption] This UI is a root view with a toolbar containing options for searching and accessing feeds. It also includes a list view displaying mission details such as launch schedule, mission description, and images. Some missions are clickable and can provide additional information.\n",
      "*** Press \"q\" to quit, \"r\" to revise, anything else to continue ***\n",
      "Load elements from C:/Mulong/Data/ui captioning\\guidata\\103_elements.json\n",
      "Load element tree from C:/Mulong/Data/ui captioning\\guidata\\103_tree.json\n"
     ]
    },
    {
     "name": "stdout",
     "output_type": "stream",
     "text": [
      "\n",
      "\n",
      "[File]: C:/Mulong/Data/ui captioning/annotation\\103_Key Element.json\n",
      "[Factor]: Key Element\n",
      "[Caption] This UI consists of a root view with a toolbar containing a \"Missions\" text and an image button. Below the toolbar, there is a ListView displaying multiple missions with their titles, descriptions, launch dates, and banners. Each mission has a clickable element for more information.\n",
      "*** Press \"q\" to quit, \"r\" to revise, anything else to continue ***\n",
      "Load elements from C:/Mulong/Data/ui captioning\\guidata\\103_elements.json\n",
      "Load element tree from C:/Mulong/Data/ui captioning\\guidata\\103_tree.json\n",
      "\n",
      "\n",
      "[File]: C:/Mulong/Data/ui captioning/annotation\\103_Layout.json\n",
      "[Factor]: Layout\n",
      "[Caption] The UI layout consists of a root element with a toolbar containing text and image elements. Below the toolbar, there is a list view with multiple items including images, titles, descriptions, and launch dates of various missions.\n",
      "*** Press \"q\" to quit, \"r\" to revise, anything else to continue ***\n",
      "Load elements from C:/Mulong/Data/ui captioning\\guidata\\103_elements.json\n",
      "Load element tree from C:/Mulong/Data/ui captioning\\guidata\\103_tree.json\n",
      "\n",
      "\n",
      "[File]: C:/Mulong/Data/ui captioning/annotation\\104_Accessibility.json\n",
      "[Factor]: Accessibility\n",
      "[Caption] This UI hierarchy represents the settings view of a NASA app. The UI includes various toggle buttons and checkboxes to control features such as wallpaper, notifications, screen wake, vibration, sound, location services, GPS, launcher menu images, NASA TV streams, and image resolution. The UI is accessible with clear descriptions and clickable elements.\n",
      "*** Press \"q\" to quit, \"r\" to revise, anything else to continue ***\n",
      "Load elements from C:/Mulong/Data/ui captioning\\guidata\\104_elements.json\n",
      "Load element tree from C:/Mulong/Data/ui captioning\\guidata\\104_tree.json\n",
      "\n",
      "\n",
      "[File]: C:/Mulong/Data/ui captioning/annotation\\104_Functionality.json\n",
      "[Factor]: Functionality\n",
      "[Caption] This UI is a settings view with a toolbar at the top. It contains various toggle buttons and checkboxes for customization, such as setting wallpaper, enabling pass notifications, waking the screen when notified, vibrating when notified, playing a sound when notified, choosing location services between zip code or GPS, cycling through launcher menu button images, playing NASA TV streams outside the app, and using lower resolution images.\n",
      "*** Press \"q\" to quit, \"r\" to revise, anything else to continue ***\n",
      "Load elements from C:/Mulong/Data/ui captioning\\guidata\\104_elements.json\n",
      "Load element tree from C:/Mulong/Data/ui captioning\\guidata\\104_tree.json\n",
      "\n",
      "\n",
      "[File]: C:/Mulong/Data/ui captioning/annotation\\104_Key Element.json\n",
      "[Factor]: Key Element\n",
      "[Caption] This UI contains a root element with a toolbar at the top that displays the app version and a navigation button. The rest of the UI consists of a scrollable view with various toggle buttons and checkboxes for settings related to wallpaper, pass notifications, screen wake, vibrate, sound, location services, image resolution, and NASA TV streaming.\n",
      "*** Press \"q\" to quit, \"r\" to revise, anything else to continue ***\n",
      "Load elements from C:/Mulong/Data/ui captioning\\guidata\\104_elements.json\n",
      "Load element tree from C:/Mulong/Data/ui captioning\\guidata\\104_tree.json\n",
      "\n",
      "\n",
      "[File]: C:/Mulong/Data/ui captioning/annotation\\104_Layout.json\n",
      "[Factor]: Layout\n",
      "[Caption] This UI consists of a root layout with a toolbar at the top. Below the toolbar is a scrollable layout containing various toggle buttons and checkboxes for different settings and options.\n",
      "*** Press \"q\" to quit, \"r\" to revise, anything else to continue ***\n",
      "Load elements from C:/Mulong/Data/ui captioning\\guidata\\104_elements.json\n",
      "Load element tree from C:/Mulong/Data/ui captioning\\guidata\\104_tree.json\n",
      "\n",
      "\n",
      "[File]: C:/Mulong/Data/ui captioning/annotation\\105_Accessibility.json\n",
      "[Factor]: Accessibility\n",
      "[Caption] This UI contains a root view with a non-clickable background image and a grid view with multiple clickable image thumbnails and corresponding titles. The toolbar at the top has a logo, a phone number input field, and additional menu options.\n",
      "*** Press \"q\" to quit, \"r\" to revise, anything else to continue ***\n",
      "Load elements from C:/Mulong/Data/ui captioning\\guidata\\105_elements.json\n",
      "Load element tree from C:/Mulong/Data/ui captioning\\guidata\\105_tree.json\n",
      "\n",
      "\n",
      "[File]: C:/Mulong/Data/ui captioning/annotation\\105_Functionality.json\n",
      "[Factor]: Functionality\n",
      "[Caption] This UI consists of a main view with an image and a grid view. The grid view contains various items such as news, images, videos, tweets, TV & radio, missions, centers, and featured content. The toolbar at the top contains the NASA logo, a phone number, a search option, settings, and more options.\n",
      "\n",
      "*** Press \"q\" to quit, \"r\" to revise, anything else to continue ***\n",
      "Load elements from C:/Mulong/Data/ui captioning\\guidata\\105_elements.json\n",
      "Load element tree from C:/Mulong/Data/ui captioning\\guidata\\105_tree.json\n"
     ]
    }
   ],
   "source": [
    "check_annotations(rico_dir='C:/Mulong/Data/rico/rico_sca',\n",
    "                  gui_dir='C:/Mulong/Data/ui captioning',\n",
    "                  annotation_dir='C:/Mulong/Data/ui captioning/annotation',\n",
    "                  revision_dir='C:/Mulong/Data/ui captioning/annotation-revision')"
   ]
  },
  {
   "cell_type": "code",
   "execution_count": 3,
   "id": "17c3e9ae",
   "metadata": {},
   "outputs": [
    {
     "name": "stdout",
     "output_type": "stream",
     "text": [
      "Load elements from C:/Mulong/Data/ui captioning\\guidata\\33_elements.json\n",
      "Load element tree from C:/Mulong/Data/ui captioning\\guidata\\33_tree.json\n",
      "***\n",
      "[Factor]: Accessibility\n",
      "[Caption] This UI contains a root view with a DatePicker widget that includes selectable year and date. It also has navigation buttons to switch between months and a \"Done\" button. The accessibility information is not provided.\n",
      "***\n",
      "[Factor]: Functionality\n",
      "[Caption] This UI is a date picker with a header displaying the selected year and date, a month view, previous and next month buttons, and a \"Done\" button for confirming the selected date.\n",
      "***\n",
      "[Factor]: Key Element\n",
      "[Caption] This UI contains a DatePicker widget with year, date, month, previous month, and next month options. It also has a \"Done\" button. The overall size of the UI is 1715x1256.\n",
      "***\n",
      "[Factor]: Layout\n",
      "[Caption] This UI has a root layout with a DatePicker widget, which consists of a year and date display, a month view, and navigation buttons for changing months. It also has a \"Done\" button. The layout has an area of 1256x1715 pixels.\n"
     ]
    }
   ],
   "source": [
    "gui = check_annotation_by_ui_id(gui_id=33,\n",
    "                          rico_dir='C:/Mulong/Data/rico/rico_sca',\n",
    "                          gui_dir='C:/Mulong/Data/ui captioning',\n",
    "                          annotation_dir='C:/Mulong/Data/ui captioning/annotation')"
   ]
  }
 ],
 "metadata": {
  "kernelspec": {
   "display_name": "Python 3 (ipykernel)",
   "language": "python",
   "name": "python3"
  },
  "language_info": {
   "codemirror_mode": {
    "name": "ipython",
    "version": 3
   },
   "file_extension": ".py",
   "mimetype": "text/x-python",
   "name": "python",
   "nbconvert_exporter": "python",
   "pygments_lexer": "ipython3",
   "version": "3.10.10"
  }
 },
 "nbformat": 4,
 "nbformat_minor": 5
}
