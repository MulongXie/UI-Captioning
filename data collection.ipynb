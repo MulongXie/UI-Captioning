{
 "cells": [
  {
   "cell_type": "code",
   "execution_count": 1,
   "id": "029a3550",
   "metadata": {},
   "outputs": [
    {
     "name": "stderr",
     "output_type": "stream",
     "text": [
      "C:\\Users\\xie029\\AppData\\Local\\Programs\\Python\\Python310\\lib\\site-packages\\tqdm\\auto.py:22: TqdmWarning: IProgress not found. Please update jupyter and ipywidgets. See https://ipywidgets.readthedocs.io/en/stable/user_install.html\n",
      "  from .autonotebook import tqdm as notebook_tqdm\n"
     ]
    }
   ],
   "source": [
    "from DataCollector import DataCollector"
   ]
  },
  {
   "cell_type": "code",
   "execution_count": 2,
   "id": "a38c61b0",
   "metadata": {},
   "outputs": [],
   "source": [
    "data = DataCollector('data/rico/raw/', 'data/rico/', engine_model='gpt-3.5-turbo')"
   ]
  },
  {
   "cell_type": "markdown",
   "id": "03236f2f",
   "metadata": {},
   "source": [
    "## Single GUI Annotation"
   ]
  },
  {
   "cell_type": "code",
   "execution_count": 3,
   "id": "1cfa1a07",
   "metadata": {},
   "outputs": [],
   "source": [
    "gui = data.analyze_gui(data.img_files[0], data.vh_files[0])"
   ]
  },
  {
   "cell_type": "code",
   "execution_count": null,
   "id": "59965c9e",
   "metadata": {},
   "outputs": [],
   "source": [
    "gui = data.load_gui_analysis(data.img_files[0], data.vh_files[0])"
   ]
  },
  {
   "cell_type": "code",
   "execution_count": null,
   "id": "738da395",
   "metadata": {},
   "outputs": [],
   "source": [
    "data.annotate_gui(data.img_files[0], data.vh_files[0])"
   ]
  },
  {
   "cell_type": "markdown",
   "id": "0c63ad3c",
   "metadata": {},
   "source": [
    "## Multiple GUI Annotation Loops"
   ]
  },
  {
   "cell_type": "code",
   "execution_count": 4,
   "id": "20486e58",
   "metadata": {},
   "outputs": [
    {
     "name": "stdout",
     "output_type": "stream",
     "text": [
      "\n",
      "=== Annotating (press \"q\" to quit) === data/rico/raw\\2.jpg\n",
      "*** Load GUI Info ***\n",
      "Load elements from data/rico/guidata\\2_elements.json\n",
      "Load element tree from data/rico/guidata\\2_tree.json\n",
      "*** Summarization ***\n",
      " This UI is a date picker widget with the ability to select a specific date using the month and year navigation buttons. It also has a \"Done\" button to confirm the selected date. The UI also displays the selected date and the dates of the current month in a grid format.\n",
      "Do you want to revise the summarization? (\"y\" or \"n\"): y\n",
      "*** Revision ***\n",
      "Input your ground truth: asrer \n",
      "Input revision points: 1.2.\n",
      "\n",
      "=== Annotating (press \"q\" to quit) === data/rico/raw\\3.jpg\n",
      "*** Load GUI Info ***\n",
      "Load elements from data/rico/guidata\\3_elements.json\n",
      "Load element tree from data/rico/guidata\\3_tree.json\n",
      "*** Summarization ***\n",
      " The UI consists of a video view with exercise instructions, a progress bar showing completion percentage, and navigation buttons. The UI also includes a toolbar with exercise details and a navigate-up button. Overall, it provides a workout exercise interface.\n",
      "Do you want to revise the summarization? (\"y\" or \"n\"): y\n",
      "*** Revision ***\n",
      "Input your ground truth: dsadsadsa\n",
      "Input revision points: 12345\n",
      "\n",
      "=== Annotating (press \"q\" to quit) === data/rico/raw\\4.jpg\n",
      "*** Load GUI Info ***\n",
      "Load elements from data/rico/guidata\\4_elements.json\n",
      "Load element tree from data/rico/guidata\\4_tree.json\n",
      "*** Summarization ***\n",
      " This UI consists of a workout summary, achievements section, active calories graph, and navigation toolbar. It provides information about the workout, displays achievements, tracks calories, and allows for navigation and sharing.\n"
     ]
    },
    {
     "ename": "KeyboardInterrupt",
     "evalue": "Interrupted by user",
     "output_type": "error",
     "traceback": [
      "\u001b[1;31m---------------------------------------------------------------------------\u001b[0m",
      "\u001b[1;31mKeyboardInterrupt\u001b[0m                         Traceback (most recent call last)",
      "Cell \u001b[1;32mIn[4], line 1\u001b[0m\n\u001b[1;32m----> 1\u001b[0m \u001b[43mdata\u001b[49m\u001b[38;5;241;43m.\u001b[39;49m\u001b[43mannotate_all_guis\u001b[49m\u001b[43m(\u001b[49m\u001b[38;5;241;43m2\u001b[39;49m\u001b[43m,\u001b[49m\u001b[43m \u001b[49m\u001b[38;5;241;43m9\u001b[39;49m\u001b[43m)\u001b[49m\n",
      "File \u001b[1;32mC:\\Mulong\\Code\\UI-Captioning\\DataCollector.py:100\u001b[0m, in \u001b[0;36mDataCollector.annotate_all_guis\u001b[1;34m(self, start_gui_no, end_gui_no, load)\u001b[0m\n\u001b[0;32m     98\u001b[0m gui_vh_file \u001b[38;5;241m=\u001b[39m \u001b[38;5;28mself\u001b[39m\u001b[38;5;241m.\u001b[39mvh_files[i]\n\u001b[0;32m     99\u001b[0m \u001b[38;5;28mprint\u001b[39m(\u001b[38;5;124m'\u001b[39m\u001b[38;5;130;01m\\n\u001b[39;00m\u001b[38;5;124m=== Annotating (press \u001b[39m\u001b[38;5;124m\"\u001b[39m\u001b[38;5;124mq\u001b[39m\u001b[38;5;124m\"\u001b[39m\u001b[38;5;124m to quit) ===\u001b[39m\u001b[38;5;124m'\u001b[39m, gui_img_file)\n\u001b[1;32m--> 100\u001b[0m \u001b[38;5;28;01mif\u001b[39;00m \u001b[38;5;129;01mnot\u001b[39;00m \u001b[38;5;28;43mself\u001b[39;49m\u001b[38;5;241;43m.\u001b[39;49m\u001b[43mannotate_gui\u001b[49m\u001b[43m(\u001b[49m\u001b[43mgui_img_file\u001b[49m\u001b[43m,\u001b[49m\u001b[43m \u001b[49m\u001b[43mgui_vh_file\u001b[49m\u001b[43m,\u001b[49m\u001b[43m \u001b[49m\u001b[43mload\u001b[49m\u001b[43m)\u001b[49m:\n\u001b[0;32m    101\u001b[0m     \u001b[38;5;28;01mbreak\u001b[39;00m\n",
      "File \u001b[1;32mC:\\Mulong\\Code\\UI-Captioning\\DataCollector.py:81\u001b[0m, in \u001b[0;36mDataCollector.annotate_gui\u001b[1;34m(self, gui_img_file, gui_json_file, load, show)\u001b[0m\n\u001b[0;32m     79\u001b[0m     \u001b[38;5;28;01mif\u001b[39;00m key \u001b[38;5;241m==\u001b[39m \u001b[38;5;28mord\u001b[39m(\u001b[38;5;124m'\u001b[39m\u001b[38;5;124mq\u001b[39m\u001b[38;5;124m'\u001b[39m):\n\u001b[0;32m     80\u001b[0m         \u001b[38;5;28;01mreturn\u001b[39;00m \u001b[38;5;28;01mNone\u001b[39;00m          \n\u001b[1;32m---> 81\u001b[0m revise \u001b[38;5;241m=\u001b[39m \u001b[38;5;28;43minput\u001b[39;49m\u001b[43m(\u001b[49m\u001b[38;5;124;43m'\u001b[39;49m\u001b[38;5;124;43mDo you want to revise the summarization? (\u001b[39;49m\u001b[38;5;124;43m\"\u001b[39;49m\u001b[38;5;124;43my\u001b[39;49m\u001b[38;5;124;43m\"\u001b[39;49m\u001b[38;5;124;43m or \u001b[39;49m\u001b[38;5;124;43m\"\u001b[39;49m\u001b[38;5;124;43mn\u001b[39;49m\u001b[38;5;124;43m\"\u001b[39;49m\u001b[38;5;124;43m): \u001b[39;49m\u001b[38;5;124;43m'\u001b[39;49m\u001b[43m)\u001b[49m\n\u001b[0;32m     82\u001b[0m \u001b[38;5;28;01mif\u001b[39;00m revise\u001b[38;5;241m.\u001b[39mlower() \u001b[38;5;241m==\u001b[39m \u001b[38;5;124m'\u001b[39m\u001b[38;5;124my\u001b[39m\u001b[38;5;124m'\u001b[39m:\n\u001b[0;32m     83\u001b[0m     \u001b[38;5;28mprint\u001b[39m(\u001b[38;5;124m'\u001b[39m\u001b[38;5;124m*** Revision ***\u001b[39m\u001b[38;5;124m'\u001b[39m)\n",
      "File \u001b[1;32m~\\AppData\\Local\\Programs\\Python\\Python310\\lib\\site-packages\\ipykernel\\kernelbase.py:1182\u001b[0m, in \u001b[0;36mKernel.raw_input\u001b[1;34m(self, prompt)\u001b[0m\n\u001b[0;32m   1180\u001b[0m     msg \u001b[38;5;241m=\u001b[39m \u001b[38;5;124m\"\u001b[39m\u001b[38;5;124mraw_input was called, but this frontend does not support input requests.\u001b[39m\u001b[38;5;124m\"\u001b[39m\n\u001b[0;32m   1181\u001b[0m     \u001b[38;5;28;01mraise\u001b[39;00m StdinNotImplementedError(msg)\n\u001b[1;32m-> 1182\u001b[0m \u001b[38;5;28;01mreturn\u001b[39;00m \u001b[38;5;28;43mself\u001b[39;49m\u001b[38;5;241;43m.\u001b[39;49m\u001b[43m_input_request\u001b[49m\u001b[43m(\u001b[49m\n\u001b[0;32m   1183\u001b[0m \u001b[43m    \u001b[49m\u001b[38;5;28;43mstr\u001b[39;49m\u001b[43m(\u001b[49m\u001b[43mprompt\u001b[49m\u001b[43m)\u001b[49m\u001b[43m,\u001b[49m\n\u001b[0;32m   1184\u001b[0m \u001b[43m    \u001b[49m\u001b[38;5;28;43mself\u001b[39;49m\u001b[38;5;241;43m.\u001b[39;49m\u001b[43m_parent_ident\u001b[49m\u001b[43m[\u001b[49m\u001b[38;5;124;43m\"\u001b[39;49m\u001b[38;5;124;43mshell\u001b[39;49m\u001b[38;5;124;43m\"\u001b[39;49m\u001b[43m]\u001b[49m\u001b[43m,\u001b[49m\n\u001b[0;32m   1185\u001b[0m \u001b[43m    \u001b[49m\u001b[38;5;28;43mself\u001b[39;49m\u001b[38;5;241;43m.\u001b[39;49m\u001b[43mget_parent\u001b[49m\u001b[43m(\u001b[49m\u001b[38;5;124;43m\"\u001b[39;49m\u001b[38;5;124;43mshell\u001b[39;49m\u001b[38;5;124;43m\"\u001b[39;49m\u001b[43m)\u001b[49m\u001b[43m,\u001b[49m\n\u001b[0;32m   1186\u001b[0m \u001b[43m    \u001b[49m\u001b[43mpassword\u001b[49m\u001b[38;5;241;43m=\u001b[39;49m\u001b[38;5;28;43;01mFalse\u001b[39;49;00m\u001b[43m,\u001b[49m\n\u001b[0;32m   1187\u001b[0m \u001b[43m\u001b[49m\u001b[43m)\u001b[49m\n",
      "File \u001b[1;32m~\\AppData\\Local\\Programs\\Python\\Python310\\lib\\site-packages\\ipykernel\\kernelbase.py:1225\u001b[0m, in \u001b[0;36mKernel._input_request\u001b[1;34m(self, prompt, ident, parent, password)\u001b[0m\n\u001b[0;32m   1222\u001b[0m \u001b[38;5;28;01mexcept\u001b[39;00m \u001b[38;5;167;01mKeyboardInterrupt\u001b[39;00m:\n\u001b[0;32m   1223\u001b[0m     \u001b[38;5;66;03m# re-raise KeyboardInterrupt, to truncate traceback\u001b[39;00m\n\u001b[0;32m   1224\u001b[0m     msg \u001b[38;5;241m=\u001b[39m \u001b[38;5;124m\"\u001b[39m\u001b[38;5;124mInterrupted by user\u001b[39m\u001b[38;5;124m\"\u001b[39m\n\u001b[1;32m-> 1225\u001b[0m     \u001b[38;5;28;01mraise\u001b[39;00m \u001b[38;5;167;01mKeyboardInterrupt\u001b[39;00m(msg) \u001b[38;5;28;01mfrom\u001b[39;00m \u001b[38;5;28mNone\u001b[39m\n\u001b[0;32m   1226\u001b[0m \u001b[38;5;28;01mexcept\u001b[39;00m \u001b[38;5;167;01mException\u001b[39;00m:\n\u001b[0;32m   1227\u001b[0m     \u001b[38;5;28mself\u001b[39m\u001b[38;5;241m.\u001b[39mlog\u001b[38;5;241m.\u001b[39mwarning(\u001b[38;5;124m\"\u001b[39m\u001b[38;5;124mInvalid Message:\u001b[39m\u001b[38;5;124m\"\u001b[39m, exc_info\u001b[38;5;241m=\u001b[39m\u001b[38;5;28;01mTrue\u001b[39;00m)\n",
      "\u001b[1;31mKeyboardInterrupt\u001b[0m: Interrupted by user"
     ]
    }
   ],
   "source": [
    "data.annotate_all_guis(start_gui_no=0, end_gui_no=9, factor_id=0, load=True)"
   ]
  },
  {
   "cell_type": "code",
   "execution_count": 5,
   "id": "82ef1e9f",
   "metadata": {},
   "outputs": [
    {
     "data": {
      "text/plain": [
       "[{'gui-no': '2',\n",
       "  'element-tree': \"{'clickable': False, 'class': 'root', 'id': 0, 'area': {'height': 1256, 'length': 1715}, 'children': [{'clickable': False, 'class': '.widget.DatePicker', 'id': 1, 'area': {'height': 1144, 'length': 1407}, 'children': [{'resource-id': ':id/date_picker_header_year', 'clickable': True, 'class': '.support.v7.widget.AppCompatTextView', 'id': 2, 'area': {'height': 976, 'length': 142}, 'description': '1990'}, {'resource-id': ':id/date_picker_header_date', 'clickable': True, 'class': '.support.v7.widget.AppCompatTextView', 'id': 3, 'area': {'height': 555, 'length': 159}, 'description': 'Fri, Jun 15'}, {'resource-id': ':id/month_view', 'clickable': False, 'class': '.widget.SimpleMonthView', 'id': 4, 'area': {'height': 1144, 'length': 1043}, 'description': ' 14 15 16 17 18 19 10 11 12 13 21 22 23 24 28 29 30 31 25 26 20 27 DONE ed ed ed ed'}, {'resource-id': ':id/prev', 'clickable': True, 'class': '.support.v7.widget.AppCompatImageButton', 'id': 5, 'area': {'height': 168, 'length': 168}, 'description': 'Previous month'}, {'resource-id': ':id/next', 'clickable': True, 'class': '.support.v7.widget.AppCompatImageButton', 'id': 6, 'area': {'height': 168, 'length': 168}, 'description': 'Next month'}]}, {'resource-id': ':id/button1', 'clickable': True, 'class': '.support.v7.widget.AppCompatButton', 'id': 7, 'area': {'height': 232, 'length': 168}, 'description': 'Done'}]}\",\n",
       "  'revised': True,\n",
       "  'annotation': 'asrer ',\n",
       "  'revision-suggestion': '1.2.'},\n",
       " {'gui-no': '3',\n",
       "  'element-tree': \"{'clickable': False, 'class': 'root', 'id': 0, 'area': {'height': 1440, 'length': 2560}, 'children': [{'clickable': True, 'class': '.widget.RelativeLayout', 'id': 1, 'area': {'height': 1440, 'length': 2112}, 'children': [{'resource-id': 'se.perigee.seven:id/video', 'clickable': True, 'class': 'com.perigee.seven.ui.view.VideoView', 'id': 2, 'area': {'height': 1440, 'length': 1440}, 'description': 'avatar'}, {'resource-id': 'se.perigee.seven:id/video_overlay', 'clickable': True, 'class': '.view.View', 'id': 3, 'area': {'height': 1440, 'length': 1522}, 'description': ' LUNGES'}, {'resource-id': 'se.perigee.seven:id/text_exercise', 'clickable': True, 'class': '.support.v7.widget.AppCompatTextView', 'id': 4, 'area': {'height': 1384, 'length': 183}, 'description': 'Lunges'}, {'resource-id': 'se.perigee.seven:id/progress', 'clickable': True, 'class': 'com.perigee.seven.ui.view.SegmentedProgressView', 'id': 5, 'area': {'height': 350, 'length': 350}, 'description': ' 30'}, {'resource-id': 'se.perigee.seven:id/forward', 'clickable': True, 'class': '.support.v7.widget.AppCompatImageView', 'id': 6, 'area': {'height': 344, 'length': 350}, 'description': 'Forward'}, {'resource-id': 'se.perigee.seven:id/backward', 'clickable': True, 'class': '.support.v7.widget.AppCompatImageView', 'id': 7, 'area': {'height': 344, 'length': 350}, 'description': 'Backwards'}]}, {'resource-id': 'se.perigee.seven:id/action_bar', 'clickable': False, 'class': '.support.v7.widget.Toolbar', 'id': 8, 'area': {'height': 1440, 'length': 196}, 'children': [{'clickable': False, 'class': '.support.v7.widget.AppCompatTextView', 'id': 9, 'area': {'height': 541, 'length': 93}, 'description': 'Exercise 10 of 12'}, {'clickable': True, 'class': '.support.v7.widget.AppCompatImageButton', 'id': 10, 'area': {'height': 196, 'length': 196}, 'description': 'Navigate up'}]}]}\",\n",
       "  'revised': True,\n",
       "  'annotation': 'dsadsadsa',\n",
       "  'revision-suggestion': '12345'}]"
      ]
     },
     "execution_count": 5,
     "metadata": {},
     "output_type": "execute_result"
    }
   ],
   "source": [
    "data.annotations"
   ]
  },
  {
   "cell_type": "code",
   "execution_count": 6,
   "id": "5dca955d",
   "metadata": {},
   "outputs": [
    {
     "data": {
      "text/plain": [
       "[{'role': 'system',\n",
       "  'content': 'You are a mobile virtual assistant that understands and interacts with the user interface to complete a given task.'},\n",
       " {'role': 'user',\n",
       "  'content': 'You will be given some view hierarchies of UIs containing various UI blocks and elements.'},\n",
       " {'role': 'user',\n",
       "  'content': 'Here are some examples with appropriate summarization.'},\n",
       " {'role': 'user',\n",
       "  'content': \"Example 0: #GUI:{'clickable': False, 'class': 'root', 'id': 0, 'area': {'height': 1256, 'length': 1715}, 'children': [{'clickable': False, 'class': '.widget.DatePicker', 'id': 1, 'area': {'height': 1144, 'length': 1407}, 'children': [{'resource-id': ':id/date_picker_header_year', 'clickable': True, 'class': '.support.v7.widget.AppCompatTextView', 'id': 2, 'area': {'height': 976, 'length': 142}, 'description': '1990'}, {'resource-id': ':id/date_picker_header_date', 'clickable': True, 'class': '.support.v7.widget.AppCompatTextView', 'id': 3, 'area': {'height': 555, 'length': 159}, 'description': 'Fri, Jun 15'}, {'resource-id': ':id/month_view', 'clickable': False, 'class': '.widget.SimpleMonthView', 'id': 4, 'area': {'height': 1144, 'length': 1043}, 'description': ' 14 15 16 17 18 19 10 11 12 13 21 22 23 24 28 29 30 31 25 26 20 27 DONE ed ed ed ed'}, {'resource-id': ':id/prev', 'clickable': True, 'class': '.support.v7.widget.AppCompatImageButton', 'id': 5, 'area': {'height': 168, 'length': 168}, 'description': 'Previous month'}, {'resource-id': ':id/next', 'clickable': True, 'class': '.support.v7.widget.AppCompatImageButton', 'id': 6, 'area': {'height': 168, 'length': 168}, 'description': 'Next month'}]}, {'resource-id': ':id/button1', 'clickable': True, 'class': '.support.v7.widget.AppCompatButton', 'id': 7, 'area': {'height': 232, 'length': 168}, 'description': 'Done'}]}\"},\n",
       " {'role': 'user', 'content': '#Ground Truth Summarization: asrer '},\n",
       " {'role': 'user', 'content': '#Revision Suggestions: 1.2.'},\n",
       " {'role': 'user',\n",
       "  'content': \"Example 1: #GUI:{'clickable': False, 'class': 'root', 'id': 0, 'area': {'height': 1440, 'length': 2560}, 'children': [{'clickable': True, 'class': '.widget.RelativeLayout', 'id': 1, 'area': {'height': 1440, 'length': 2112}, 'children': [{'resource-id': 'se.perigee.seven:id/video', 'clickable': True, 'class': 'com.perigee.seven.ui.view.VideoView', 'id': 2, 'area': {'height': 1440, 'length': 1440}, 'description': 'avatar'}, {'resource-id': 'se.perigee.seven:id/video_overlay', 'clickable': True, 'class': '.view.View', 'id': 3, 'area': {'height': 1440, 'length': 1522}, 'description': ' LUNGES'}, {'resource-id': 'se.perigee.seven:id/text_exercise', 'clickable': True, 'class': '.support.v7.widget.AppCompatTextView', 'id': 4, 'area': {'height': 1384, 'length': 183}, 'description': 'Lunges'}, {'resource-id': 'se.perigee.seven:id/progress', 'clickable': True, 'class': 'com.perigee.seven.ui.view.SegmentedProgressView', 'id': 5, 'area': {'height': 350, 'length': 350}, 'description': ' 30'}, {'resource-id': 'se.perigee.seven:id/forward', 'clickable': True, 'class': '.support.v7.widget.AppCompatImageView', 'id': 6, 'area': {'height': 344, 'length': 350}, 'description': 'Forward'}, {'resource-id': 'se.perigee.seven:id/backward', 'clickable': True, 'class': '.support.v7.widget.AppCompatImageView', 'id': 7, 'area': {'height': 344, 'length': 350}, 'description': 'Backwards'}]}, {'resource-id': 'se.perigee.seven:id/action_bar', 'clickable': False, 'class': '.support.v7.widget.Toolbar', 'id': 8, 'area': {'height': 1440, 'length': 196}, 'children': [{'clickable': False, 'class': '.support.v7.widget.AppCompatTextView', 'id': 9, 'area': {'height': 541, 'length': 93}, 'description': 'Exercise 10 of 12'}, {'clickable': True, 'class': '.support.v7.widget.AppCompatImageButton', 'id': 10, 'area': {'height': 196, 'length': 196}, 'description': 'Navigate up'}]}]}\"},\n",
       " {'role': 'user', 'content': '#Ground Truth Summarization: dsadsadsa'},\n",
       " {'role': 'user', 'content': '#Revision Suggestions: 12345'},\n",
       " {'role': 'user',\n",
       "  'content': 'Try your best to learn and follow the Examples in future answer.'},\n",
       " {'role': 'user',\n",
       "  'content': \"Summarize this UI in terms of functionality within 50 words.{'clickable': False, 'class': 'root', 'id': 0, 'area': {'height': 1440, 'length': 2560}, 'children': [{'clickable': False, 'class': '.widget.ScrollView', 'id': 1, 'area': {'height': 1384, 'length': 2112}, 'children': [{'clickable': False, 'class': '.support.v7.widget.CardView', 'id': 2, 'area': {'height': 1384, 'length': 394}, 'children': [{'clickable': False, 'class': '.support.v7.widget.AppCompatTextView', 'id': 3, 'area': {'height': 717, 'length': 76}, 'description': 'Workout summary'}, {'resource-id': 'se.perigee.seven:id/summary_workout_icon', 'clickable': False, 'class': '.support.v7.widget.AppCompatImageView', 'id': 4, 'area': {'height': 98, 'length': 126}, 'description': ' Full Body'}, {'resource-id': 'se.perigee.seven:id/summary_workout_name', 'clickable': False, 'class': '.support.v7.widget.AppCompatTextView', 'id': 5, 'area': {'height': 243, 'length': 81}, 'description': 'Full Body'}, {'clickable': False, 'class': '.support.v7.widget.AppCompatImageView', 'id': 6, 'area': {'height': 98, 'length': 126}, 'description': 'information'}, {'resource-id': 'se.perigee.seven:id/summary_circuits_time', 'clickable': False, 'class': '.support.v7.widget.AppCompatTextView', 'id': 7, 'area': {'height': 348, 'length': 81}, 'description': '7:53 Minutes'}, {'clickable': False, 'class': '.support.v7.widget.AppCompatImageView', 'id': 8, 'area': {'height': 98, 'length': 126}, 'description': 'refresh'}, {'resource-id': 'se.perigee.seven:id/summary_no_of_circuits', 'clickable': False, 'class': '.support.v7.widget.AppCompatTextView', 'id': 9, 'area': {'height': 213, 'length': 81}, 'description': '1 circuit'}]}, {'resource-id': 'se.perigee.seven:id/achievements_unlocked_card', 'clickable': False, 'class': '.support.v7.widget.CardView', 'id': 10, 'area': {'height': 1384, 'length': 714}, 'children': [{'clickable': False, 'class': '.support.v7.widget.AppCompatTextView', 'id': 11, 'area': {'height': 566, 'length': 164}, 'description': 'Achievements'}, {'resource-id': 'se.perigee.seven:id/achievements_unlocked_grid', 'clickable': True, 'class': 'com.perigee.seven.ui.view.WrappedGridView', 'id': 12, 'area': {'height': 1308, 'length': 495}, 'children': [{'clickable': True, 'class': '.widget.LinearLayout', 'id': 13, 'area': {'height': 462, 'length': 495}, 'children': [{'resource-id': 'se.perigee.seven:id/image', 'clickable': True, 'class': '.support.v7.widget.AppCompatImageView', 'id': 14, 'area': {'height': 287, 'length': 287}, 'description': ' Challenge Accepted Active Calories'}, {'resource-id': 'se.perigee.seven:id/text', 'clickable': True, 'class': '.support.v7.widget.AppCompatTextView', 'id': 15, 'area': {'height': 350, 'length': 152}, 'description': 'Challenge Accepted'}]}, {'clickable': True, 'class': '.widget.LinearLayout', 'id': 16, 'area': {'height': 462, 'length': 495}, 'children': [{'resource-id': 'se.perigee.seven:id/image', 'clickable': True, 'class': '.support.v7.widget.AppCompatImageView', 'id': 17, 'area': {'height': 287, 'length': 287}}, {'resource-id': 'se.perigee.seven:id/text', 'clickable': True, 'class': '.support.v7.widget.AppCompatTextView', 'id': 18, 'area': {'height': 350, 'length': 152}, 'description': 'Afternoon Boost'}]}]}]}, {'clickable': False, 'class': '.support.v7.widget.CardView', 'id': 19, 'area': {'height': 1384, 'length': 666}, 'children': [{'resource-id': 'se.perigee.seven:id/calories_title', 'clickable': False, 'class': '.support.v7.widget.AppCompatTextView', 'id': 20, 'area': {'height': 593, 'length': 164}, 'description': 'Active Calories'}, {'resource-id': 'se.perigee.seven:id/calories_chart_view', 'clickable': False, 'class': 'com.perigee.seven.ui.view.CaloriesGraphView', 'id': 21, 'area': {'height': 1308, 'length': 420}, 'description': ' Seen all the ads ? / Calories chart'}, {'resource-id': 'se.perigee.seven:id/graph_overlay', 'clickable': True, 'class': '.widget.RelativeLayout', 'id': 22, 'area': {'height': 1308, 'length': 420}, 'children': [{'clickable': True, 'class': '.support.v7.widget.AppCompatImageView', 'id': 23, 'area': {'height': 109, 'length': 109}}, {'clickable': True, 'class': '.support.v7.widget.AppCompatTextView', 'id': 24, 'area': {'height': 560, 'length': 223}, 'description': 'Enter your body details to track calories.'}]}]}, {'clickable': False, 'class': '.support.v7.widget.AppCompatTextView', 'id': 25, 'area': {'height': 1384, 'length': 254}}]}, {'resource-id': 'se.perigee.seven:id/action_bar', 'clickable': False, 'class': '.support.v7.widget.Toolbar', 'id': 26, 'area': {'height': 1440, 'length': 196}, 'children': [{'clickable': False, 'class': '.support.v7.widget.AppCompatTextView', 'id': 27, 'area': {'height': 328, 'length': 93}, 'description': 'Well done!'}, {'clickable': True, 'class': '.support.v7.widget.AppCompatImageButton', 'id': 28, 'area': {'height': 196, 'length': 196}, 'description': ' Well done ! Workout Summ / Navigate up'}, {'clickable': True, 'class': '.support.v7.view.menu.ActionMenuItemView', 'resource-id': 'se.perigee.seven:id/action_share', 'id': 29, 'area': {'height': 168, 'length': 196}, 'description': 'share'}]}, {'resource-id': ':id/navigationBarBackground', 'clickable': False, 'class': '.view.View', 'id': 30, 'area': {'height': 1440, 'length': 168}}, {'resource-id': ':id/statusBarBackground', 'clickable': False, 'class': '.view.View', 'id': 31, 'area': {'height': 1440, 'length': 84}, 'description': ' FAK 5:00'}]}\"},\n",
       " {'role': 'assistant',\n",
       "  'content': 'This UI consists of a workout summary, achievements section, active calories graph, and navigation toolbar. It provides information about the workout, displays achievements, tracks calories, and allows for navigation and sharing.'}]"
      ]
     },
     "execution_count": 6,
     "metadata": {},
     "output_type": "execute_result"
    }
   ],
   "source": [
    "data.llm_summarizer.conversation"
   ]
  },
  {
   "cell_type": "code",
   "execution_count": null,
   "id": "c0a3b846",
   "metadata": {},
   "outputs": [],
   "source": []
  }
 ],
 "metadata": {
  "kernelspec": {
   "display_name": "Python 3 (ipykernel)",
   "language": "python",
   "name": "python3"
  },
  "language_info": {
   "codemirror_mode": {
    "name": "ipython",
    "version": 3
   },
   "file_extension": ".py",
   "mimetype": "text/x-python",
   "name": "python",
   "nbconvert_exporter": "python",
   "pygments_lexer": "ipython3",
   "version": "3.10.10"
  }
 },
 "nbformat": 4,
 "nbformat_minor": 5
}
