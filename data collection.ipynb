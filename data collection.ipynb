{
 "cells": [
  {
   "cell_type": "code",
   "execution_count": 1,
   "id": "029a3550",
   "metadata": {},
   "outputs": [
    {
     "name": "stderr",
     "output_type": "stream",
     "text": [
      "C:\\Users\\xie029\\AppData\\Local\\Programs\\Python\\Python310\\lib\\site-packages\\tqdm\\auto.py:22: TqdmWarning: IProgress not found. Please update jupyter and ipywidgets. See https://ipywidgets.readthedocs.io/en/stable/user_install.html\n",
      "  from .autonotebook import tqdm as notebook_tqdm\n"
     ]
    }
   ],
   "source": [
    "from DataCollector import DataCollector"
   ]
  },
  {
   "cell_type": "code",
   "execution_count": 2,
   "id": "a38c61b0",
   "metadata": {},
   "outputs": [],
   "source": [
    "data = DataCollector('data/rico/raw/', 'data/rico/', engine_model='gpt-3.5-turbo')"
   ]
  },
  {
   "cell_type": "markdown",
   "id": "03236f2f",
   "metadata": {},
   "source": [
    "## Single GUI Annotation"
   ]
  },
  {
   "cell_type": "code",
   "execution_count": 3,
   "id": "1cfa1a07",
   "metadata": {},
   "outputs": [],
   "source": [
    "gui = data.analyze_gui(data.img_files[0], data.vh_files[0])"
   ]
  },
  {
   "cell_type": "code",
   "execution_count": null,
   "id": "59965c9e",
   "metadata": {},
   "outputs": [],
   "source": [
    "gui = data.load_gui_analysis(data.img_files[0], data.vh_files[0])"
   ]
  },
  {
   "cell_type": "code",
   "execution_count": null,
   "id": "738da395",
   "metadata": {},
   "outputs": [],
   "source": [
    "data.annotate_gui(data.img_files[0], data.vh_files[0])"
   ]
  },
  {
   "cell_type": "markdown",
   "id": "0c63ad3c",
   "metadata": {},
   "source": [
    "## Multiple GUI Annotation Loops"
   ]
  },
  {
   "cell_type": "code",
   "execution_count": 3,
   "id": "20486e58",
   "metadata": {},
   "outputs": [
    {
     "name": "stdout",
     "output_type": "stream",
     "text": [
      "\n",
      "=== Annotating (press \"q\" to quit) === data/rico/raw\\3.jpg\n",
      "*** Load GUI Info ***\n",
      "Load elements from data/rico/guidata\\3_elements.json\n",
      "Load element tree from data/rico/guidata\\3_tree.json\n",
      "*** Summarization [Key Element] ***\n",
      " The key element in this UI is a video view with the description \"avatar\". It is a part of a relative layout and also includes other elements such as a video overlay, text exercise, a segmented progress view, and navigation buttons.\n",
      "Do you want to revise the summarization? (\"y\" or \"n\"): n\n",
      "Do you want to turn off revision from now? (\"y\" or \"n\"): y\n",
      "\n",
      "=== Annotating (press \"q\" to quit) === data/rico/raw\\4.jpg\n",
      "*** Load GUI Info ***\n",
      "Load elements from data/rico/guidata\\4_elements.json\n",
      "Load element tree from data/rico/guidata\\4_tree.json\n",
      "*** Summarization [Key Element] ***\n",
      " This UI consists of a main container with a scrollable view containing workout summary and achievements sections. It also has a section for active calories tracking. The UI includes buttons for sharing and navigating, as well as status and navigation bars.\n",
      "\n",
      "=== Annotating (press \"q\" to quit) === data/rico/raw\\5.jpg\n",
      "*** Load GUI Info ***\n",
      "Load elements from data/rico/guidata\\5_elements.json\n",
      "Load element tree from data/rico/guidata\\5_tree.json\n",
      "*** Summarization [Key Element] ***\n",
      " This UI consists of a root element with multiple child elements. Some key elements include a video player, progress bar, forward and backward buttons, text views, and exercise information. The UI also has an action bar with exercise details and navigation buttons.\n",
      "\n",
      "=== Annotating (press \"q\" to quit) === data/rico/raw\\6.jpg\n",
      "*** Load GUI Info ***\n",
      "Load elements from data/rico/guidata\\6_elements.json\n",
      "Load element tree from data/rico/guidata\\6_tree.json\n",
      "*** Summarization [Key Element] ***\n",
      " Key Elements: \n",
      "1. Start Workout: An image button to start a workout.\n",
      "2. Start: A button to initiate the workout.\n",
      "3. Workout: A button to view workout details.\n",
      "4. Full Body: A text label indicating the type of workout.\n",
      "5. Circuits: A text label indicating the number of circuits in the workout.\n",
      "6. Announcer: A text label for the instructor's name.\n",
      "7. Instructor: A text label for the instructor's role.\n",
      "8. Bottom Bar: A navigation bar with tabs for different sections of the app.\n",
      "9. Workout Tab: A tab for accessing workout-related features.\n",
      "10. Learn Tab: A tab for accessing learning material.\n",
      "11. Achievements Tab: A tab for tracking achievements.\n",
      "12. Track Tab: A tab for tracking progress.\n",
      "13. Action Bar: A toolbar displaying the workout title and additional options.\n",
      "14. Info: An option to view additional information about the workout.\n",
      "\n",
      "=== Annotating (press \"q\" to quit) === data/rico/raw\\7.jpg\n",
      "*** Load GUI Info ***\n",
      "Load elements from data/rico/guidata\\7_elements.json\n",
      "Load element tree from data/rico/guidata\\7_tree.json\n",
      "*** Summarization [Key Element] ***\n",
      " This UI consists of a root element with a list view containing several elements like workout duration, checkboxes, images, and corresponding text. The UI also includes an action bar with options like circuits and navigation, as well as a status bar and navigation bar.\n"
     ]
    }
   ],
   "source": [
    "data.annotate_all_guis(start_gui_no=3, end_gui_no=9, factor_id=0, \n",
    "                       load_gui=True, show_gui=True, turn_on_revision=True)"
   ]
  },
  {
   "cell_type": "code",
   "execution_count": 5,
   "id": "82ef1e9f",
   "metadata": {},
   "outputs": [
    {
     "data": {
      "text/plain": [
       "[{'gui-no': '2',\n",
       "  'element-tree': \"{'clickable': False, 'class': 'root', 'id': 0, 'area': {'height': 1256, 'length': 1715}, 'children': [{'clickable': False, 'class': '.widget.DatePicker', 'id': 1, 'area': {'height': 1144, 'length': 1407}, 'children': [{'resource-id': ':id/date_picker_header_year', 'clickable': True, 'class': '.support.v7.widget.AppCompatTextView', 'id': 2, 'area': {'height': 976, 'length': 142}, 'description': '1990'}, {'resource-id': ':id/date_picker_header_date', 'clickable': True, 'class': '.support.v7.widget.AppCompatTextView', 'id': 3, 'area': {'height': 555, 'length': 159}, 'description': 'Fri, Jun 15'}, {'resource-id': ':id/month_view', 'clickable': False, 'class': '.widget.SimpleMonthView', 'id': 4, 'area': {'height': 1144, 'length': 1043}, 'description': ' 14 15 16 17 18 19 10 11 12 13 21 22 23 24 28 29 30 31 25 26 20 27 DONE ed ed ed ed'}, {'resource-id': ':id/prev', 'clickable': True, 'class': '.support.v7.widget.AppCompatImageButton', 'id': 5, 'area': {'height': 168, 'length': 168}, 'description': 'Previous month'}, {'resource-id': ':id/next', 'clickable': True, 'class': '.support.v7.widget.AppCompatImageButton', 'id': 6, 'area': {'height': 168, 'length': 168}, 'description': 'Next month'}]}, {'resource-id': ':id/button1', 'clickable': True, 'class': '.support.v7.widget.AppCompatButton', 'id': 7, 'area': {'height': 232, 'length': 168}, 'description': 'Done'}]}\",\n",
       "  'revised': True,\n",
       "  'annotation': 'asrer ',\n",
       "  'revision-suggestion': '1.2.'},\n",
       " {'gui-no': '3',\n",
       "  'element-tree': \"{'clickable': False, 'class': 'root', 'id': 0, 'area': {'height': 1440, 'length': 2560}, 'children': [{'clickable': True, 'class': '.widget.RelativeLayout', 'id': 1, 'area': {'height': 1440, 'length': 2112}, 'children': [{'resource-id': 'se.perigee.seven:id/video', 'clickable': True, 'class': 'com.perigee.seven.ui.view.VideoView', 'id': 2, 'area': {'height': 1440, 'length': 1440}, 'description': 'avatar'}, {'resource-id': 'se.perigee.seven:id/video_overlay', 'clickable': True, 'class': '.view.View', 'id': 3, 'area': {'height': 1440, 'length': 1522}, 'description': ' LUNGES'}, {'resource-id': 'se.perigee.seven:id/text_exercise', 'clickable': True, 'class': '.support.v7.widget.AppCompatTextView', 'id': 4, 'area': {'height': 1384, 'length': 183}, 'description': 'Lunges'}, {'resource-id': 'se.perigee.seven:id/progress', 'clickable': True, 'class': 'com.perigee.seven.ui.view.SegmentedProgressView', 'id': 5, 'area': {'height': 350, 'length': 350}, 'description': ' 30'}, {'resource-id': 'se.perigee.seven:id/forward', 'clickable': True, 'class': '.support.v7.widget.AppCompatImageView', 'id': 6, 'area': {'height': 344, 'length': 350}, 'description': 'Forward'}, {'resource-id': 'se.perigee.seven:id/backward', 'clickable': True, 'class': '.support.v7.widget.AppCompatImageView', 'id': 7, 'area': {'height': 344, 'length': 350}, 'description': 'Backwards'}]}, {'resource-id': 'se.perigee.seven:id/action_bar', 'clickable': False, 'class': '.support.v7.widget.Toolbar', 'id': 8, 'area': {'height': 1440, 'length': 196}, 'children': [{'clickable': False, 'class': '.support.v7.widget.AppCompatTextView', 'id': 9, 'area': {'height': 541, 'length': 93}, 'description': 'Exercise 10 of 12'}, {'clickable': True, 'class': '.support.v7.widget.AppCompatImageButton', 'id': 10, 'area': {'height': 196, 'length': 196}, 'description': 'Navigate up'}]}]}\",\n",
       "  'revised': True,\n",
       "  'annotation': 'dsadsadsa',\n",
       "  'revision-suggestion': '12345'}]"
      ]
     },
     "execution_count": 5,
     "metadata": {},
     "output_type": "execute_result"
    }
   ],
   "source": [
    "data.annotations"
   ]
  },
  {
   "cell_type": "code",
   "execution_count": 6,
   "id": "5dca955d",
   "metadata": {},
   "outputs": [
    {
     "data": {
      "text/plain": [
       "[{'role': 'system',\n",
       "  'content': 'You are a mobile virtual assistant that understands and interacts with the user interface to complete a given task.'},\n",
       " {'role': 'user',\n",
       "  'content': 'You will be given some view hierarchies of UIs containing various UI blocks and elements.'},\n",
       " {'role': 'user',\n",
       "  'content': 'Here are some examples with appropriate summarization.'},\n",
       " {'role': 'user',\n",
       "  'content': \"Example 0: #GUI:{'clickable': False, 'class': 'root', 'id': 0, 'area': {'height': 1256, 'length': 1715}, 'children': [{'clickable': False, 'class': '.widget.DatePicker', 'id': 1, 'area': {'height': 1144, 'length': 1407}, 'children': [{'resource-id': ':id/date_picker_header_year', 'clickable': True, 'class': '.support.v7.widget.AppCompatTextView', 'id': 2, 'area': {'height': 976, 'length': 142}, 'description': '1990'}, {'resource-id': ':id/date_picker_header_date', 'clickable': True, 'class': '.support.v7.widget.AppCompatTextView', 'id': 3, 'area': {'height': 555, 'length': 159}, 'description': 'Fri, Jun 15'}, {'resource-id': ':id/month_view', 'clickable': False, 'class': '.widget.SimpleMonthView', 'id': 4, 'area': {'height': 1144, 'length': 1043}, 'description': ' 14 15 16 17 18 19 10 11 12 13 21 22 23 24 28 29 30 31 25 26 20 27 DONE ed ed ed ed'}, {'resource-id': ':id/prev', 'clickable': True, 'class': '.support.v7.widget.AppCompatImageButton', 'id': 5, 'area': {'height': 168, 'length': 168}, 'description': 'Previous month'}, {'resource-id': ':id/next', 'clickable': True, 'class': '.support.v7.widget.AppCompatImageButton', 'id': 6, 'area': {'height': 168, 'length': 168}, 'description': 'Next month'}]}, {'resource-id': ':id/button1', 'clickable': True, 'class': '.support.v7.widget.AppCompatButton', 'id': 7, 'area': {'height': 232, 'length': 168}, 'description': 'Done'}]}\"},\n",
       " {'role': 'user', 'content': '#Ground Truth Summarization: asrer '},\n",
       " {'role': 'user', 'content': '#Revision Suggestions: 1.2.'},\n",
       " {'role': 'user',\n",
       "  'content': \"Example 1: #GUI:{'clickable': False, 'class': 'root', 'id': 0, 'area': {'height': 1440, 'length': 2560}, 'children': [{'clickable': True, 'class': '.widget.RelativeLayout', 'id': 1, 'area': {'height': 1440, 'length': 2112}, 'children': [{'resource-id': 'se.perigee.seven:id/video', 'clickable': True, 'class': 'com.perigee.seven.ui.view.VideoView', 'id': 2, 'area': {'height': 1440, 'length': 1440}, 'description': 'avatar'}, {'resource-id': 'se.perigee.seven:id/video_overlay', 'clickable': True, 'class': '.view.View', 'id': 3, 'area': {'height': 1440, 'length': 1522}, 'description': ' LUNGES'}, {'resource-id': 'se.perigee.seven:id/text_exercise', 'clickable': True, 'class': '.support.v7.widget.AppCompatTextView', 'id': 4, 'area': {'height': 1384, 'length': 183}, 'description': 'Lunges'}, {'resource-id': 'se.perigee.seven:id/progress', 'clickable': True, 'class': 'com.perigee.seven.ui.view.SegmentedProgressView', 'id': 5, 'area': {'height': 350, 'length': 350}, 'description': ' 30'}, {'resource-id': 'se.perigee.seven:id/forward', 'clickable': True, 'class': '.support.v7.widget.AppCompatImageView', 'id': 6, 'area': {'height': 344, 'length': 350}, 'description': 'Forward'}, {'resource-id': 'se.perigee.seven:id/backward', 'clickable': True, 'class': '.support.v7.widget.AppCompatImageView', 'id': 7, 'area': {'height': 344, 'length': 350}, 'description': 'Backwards'}]}, {'resource-id': 'se.perigee.seven:id/action_bar', 'clickable': False, 'class': '.support.v7.widget.Toolbar', 'id': 8, 'area': {'height': 1440, 'length': 196}, 'children': [{'clickable': False, 'class': '.support.v7.widget.AppCompatTextView', 'id': 9, 'area': {'height': 541, 'length': 93}, 'description': 'Exercise 10 of 12'}, {'clickable': True, 'class': '.support.v7.widget.AppCompatImageButton', 'id': 10, 'area': {'height': 196, 'length': 196}, 'description': 'Navigate up'}]}]}\"},\n",
       " {'role': 'user', 'content': '#Ground Truth Summarization: dsadsadsa'},\n",
       " {'role': 'user', 'content': '#Revision Suggestions: 12345'},\n",
       " {'role': 'user',\n",
       "  'content': 'Try your best to learn and follow the Examples in future answer.'},\n",
       " {'role': 'user',\n",
       "  'content': \"Summarize this UI in terms of functionality within 50 words.{'clickable': False, 'class': 'root', 'id': 0, 'area': {'height': 1440, 'length': 2560}, 'children': [{'clickable': False, 'class': '.widget.ScrollView', 'id': 1, 'area': {'height': 1384, 'length': 2112}, 'children': [{'clickable': False, 'class': '.support.v7.widget.CardView', 'id': 2, 'area': {'height': 1384, 'length': 394}, 'children': [{'clickable': False, 'class': '.support.v7.widget.AppCompatTextView', 'id': 3, 'area': {'height': 717, 'length': 76}, 'description': 'Workout summary'}, {'resource-id': 'se.perigee.seven:id/summary_workout_icon', 'clickable': False, 'class': '.support.v7.widget.AppCompatImageView', 'id': 4, 'area': {'height': 98, 'length': 126}, 'description': ' Full Body'}, {'resource-id': 'se.perigee.seven:id/summary_workout_name', 'clickable': False, 'class': '.support.v7.widget.AppCompatTextView', 'id': 5, 'area': {'height': 243, 'length': 81}, 'description': 'Full Body'}, {'clickable': False, 'class': '.support.v7.widget.AppCompatImageView', 'id': 6, 'area': {'height': 98, 'length': 126}, 'description': 'information'}, {'resource-id': 'se.perigee.seven:id/summary_circuits_time', 'clickable': False, 'class': '.support.v7.widget.AppCompatTextView', 'id': 7, 'area': {'height': 348, 'length': 81}, 'description': '7:53 Minutes'}, {'clickable': False, 'class': '.support.v7.widget.AppCompatImageView', 'id': 8, 'area': {'height': 98, 'length': 126}, 'description': 'refresh'}, {'resource-id': 'se.perigee.seven:id/summary_no_of_circuits', 'clickable': False, 'class': '.support.v7.widget.AppCompatTextView', 'id': 9, 'area': {'height': 213, 'length': 81}, 'description': '1 circuit'}]}, {'resource-id': 'se.perigee.seven:id/achievements_unlocked_card', 'clickable': False, 'class': '.support.v7.widget.CardView', 'id': 10, 'area': {'height': 1384, 'length': 714}, 'children': [{'clickable': False, 'class': '.support.v7.widget.AppCompatTextView', 'id': 11, 'area': {'height': 566, 'length': 164}, 'description': 'Achievements'}, {'resource-id': 'se.perigee.seven:id/achievements_unlocked_grid', 'clickable': True, 'class': 'com.perigee.seven.ui.view.WrappedGridView', 'id': 12, 'area': {'height': 1308, 'length': 495}, 'children': [{'clickable': True, 'class': '.widget.LinearLayout', 'id': 13, 'area': {'height': 462, 'length': 495}, 'children': [{'resource-id': 'se.perigee.seven:id/image', 'clickable': True, 'class': '.support.v7.widget.AppCompatImageView', 'id': 14, 'area': {'height': 287, 'length': 287}, 'description': ' Challenge Accepted Active Calories'}, {'resource-id': 'se.perigee.seven:id/text', 'clickable': True, 'class': '.support.v7.widget.AppCompatTextView', 'id': 15, 'area': {'height': 350, 'length': 152}, 'description': 'Challenge Accepted'}]}, {'clickable': True, 'class': '.widget.LinearLayout', 'id': 16, 'area': {'height': 462, 'length': 495}, 'children': [{'resource-id': 'se.perigee.seven:id/image', 'clickable': True, 'class': '.support.v7.widget.AppCompatImageView', 'id': 17, 'area': {'height': 287, 'length': 287}}, {'resource-id': 'se.perigee.seven:id/text', 'clickable': True, 'class': '.support.v7.widget.AppCompatTextView', 'id': 18, 'area': {'height': 350, 'length': 152}, 'description': 'Afternoon Boost'}]}]}]}, {'clickable': False, 'class': '.support.v7.widget.CardView', 'id': 19, 'area': {'height': 1384, 'length': 666}, 'children': [{'resource-id': 'se.perigee.seven:id/calories_title', 'clickable': False, 'class': '.support.v7.widget.AppCompatTextView', 'id': 20, 'area': {'height': 593, 'length': 164}, 'description': 'Active Calories'}, {'resource-id': 'se.perigee.seven:id/calories_chart_view', 'clickable': False, 'class': 'com.perigee.seven.ui.view.CaloriesGraphView', 'id': 21, 'area': {'height': 1308, 'length': 420}, 'description': ' Seen all the ads ? / Calories chart'}, {'resource-id': 'se.perigee.seven:id/graph_overlay', 'clickable': True, 'class': '.widget.RelativeLayout', 'id': 22, 'area': {'height': 1308, 'length': 420}, 'children': [{'clickable': True, 'class': '.support.v7.widget.AppCompatImageView', 'id': 23, 'area': {'height': 109, 'length': 109}}, {'clickable': True, 'class': '.support.v7.widget.AppCompatTextView', 'id': 24, 'area': {'height': 560, 'length': 223}, 'description': 'Enter your body details to track calories.'}]}]}, {'clickable': False, 'class': '.support.v7.widget.AppCompatTextView', 'id': 25, 'area': {'height': 1384, 'length': 254}}]}, {'resource-id': 'se.perigee.seven:id/action_bar', 'clickable': False, 'class': '.support.v7.widget.Toolbar', 'id': 26, 'area': {'height': 1440, 'length': 196}, 'children': [{'clickable': False, 'class': '.support.v7.widget.AppCompatTextView', 'id': 27, 'area': {'height': 328, 'length': 93}, 'description': 'Well done!'}, {'clickable': True, 'class': '.support.v7.widget.AppCompatImageButton', 'id': 28, 'area': {'height': 196, 'length': 196}, 'description': ' Well done ! Workout Summ / Navigate up'}, {'clickable': True, 'class': '.support.v7.view.menu.ActionMenuItemView', 'resource-id': 'se.perigee.seven:id/action_share', 'id': 29, 'area': {'height': 168, 'length': 196}, 'description': 'share'}]}, {'resource-id': ':id/navigationBarBackground', 'clickable': False, 'class': '.view.View', 'id': 30, 'area': {'height': 1440, 'length': 168}}, {'resource-id': ':id/statusBarBackground', 'clickable': False, 'class': '.view.View', 'id': 31, 'area': {'height': 1440, 'length': 84}, 'description': ' FAK 5:00'}]}\"},\n",
       " {'role': 'assistant',\n",
       "  'content': 'This UI consists of a workout summary, achievements section, active calories graph, and navigation toolbar. It provides information about the workout, displays achievements, tracks calories, and allows for navigation and sharing.'}]"
      ]
     },
     "execution_count": 6,
     "metadata": {},
     "output_type": "execute_result"
    }
   ],
   "source": [
    "data.llm_summarizer.conversation"
   ]
  },
  {
   "cell_type": "code",
   "execution_count": null,
   "id": "c0a3b846",
   "metadata": {},
   "outputs": [],
   "source": []
  }
 ],
 "metadata": {
  "kernelspec": {
   "display_name": "Python 3 (ipykernel)",
   "language": "python",
   "name": "python3"
  },
  "language_info": {
   "codemirror_mode": {
    "name": "ipython",
    "version": 3
   },
   "file_extension": ".py",
   "mimetype": "text/x-python",
   "name": "python",
   "nbconvert_exporter": "python",
   "pygments_lexer": "ipython3",
   "version": "3.10.10"
  }
 },
 "nbformat": 4,
 "nbformat_minor": 5
}
