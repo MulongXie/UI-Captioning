{
 "cells": [
  {
   "cell_type": "code",
   "execution_count": 1,
   "id": "029a3550",
   "metadata": {},
   "outputs": [
    {
     "name": "stderr",
     "output_type": "stream",
     "text": [
      "C:\\Users\\xie029\\AppData\\Local\\Programs\\Python\\Python310\\lib\\site-packages\\tqdm\\auto.py:22: TqdmWarning: IProgress not found. Please update jupyter and ipywidgets. See https://ipywidgets.readthedocs.io/en/stable/user_install.html\n",
      "  from .autonotebook import tqdm as notebook_tqdm\n"
     ]
    }
   ],
   "source": [
    "from DataCollector import DataCollector"
   ]
  },
  {
   "cell_type": "code",
   "execution_count": 2,
   "id": "a38c61b0",
   "metadata": {},
   "outputs": [],
   "source": [
    "data = DataCollector('data/rico/raw/', 'data/rico/')"
   ]
  },
  {
   "cell_type": "code",
   "execution_count": 3,
   "id": "59965c9e",
   "metadata": {},
   "outputs": [],
   "source": [
    "gui = data.analyze_gui(data.img_files[0], data.vh_files[0], True)"
   ]
  },
  {
   "cell_type": "code",
   "execution_count": 4,
   "id": "738da395",
   "metadata": {},
   "outputs": [
    {
     "name": "stdout",
     "output_type": "stream",
     "text": [
      "*** Summarization ***\n",
      " The UI contains two main components: a web view (org.apache.cordova.engine.SystemWebView) with some form input fields, and an ad banner (com.google.gms.ads.AdView). The web view has fields to input information about the user's menstrual cycle, while the ad banner is positioned on the side.\n",
      "Do you want to revise the summarization? (\"y\" or \"n\")y\n",
      "*** Revision ***\n",
      "Input your ground truthabcd\n",
      "Input revision pointsasda\n"
     ]
    },
    {
     "data": {
      "text/plain": [
       "{'gui_no': '0',\n",
       " 'element_tree': \"{'clickable': False, 'class': 'root', 'id': 0, 'area': {'height': 1440, 'length': 2560}, 'children': [{'clickable': True, 'class': 'org.apache.cordova.engine.SystemWebView', 'id': 1, 'area': {'height': 1440, 'length': 2392}, 'description': ' Initial Setup Default period length The length of your period . Usually lasts between and days Default cycle length The duration between the start dates of two periods . Usually between 23 and 35 days . Start date of your last period 10 30 Feb 2017 Continue'}, {'clickable': False, 'class': 'com.digitalchemy.foundation.advertising.c.a', 'id': 2, 'area': {'height': 1440, 'length': 175}, 'children': [{'clickable': False, 'children': [], 'class': 'com.google.gms.ads.AdView', 'id': 3, 'area': {'height': 1438, 'length': 175}, 'description': ' Continue'}, {'clickable': False, 'class': 'com.google.gms.ads.AdView', 'id': 4, 'area': {'height': 1438, 'length': 175}, 'description': ' Continue'}]}]}\",\n",
       " 'annotation': 'The summarization is not perfectly correct, here is the revision by human and the reasons for revision.Learn from them for your future summarization generation.\\n#Revised Ground Truth Summarization:\\nabcd\\n#Reasons for Revision:\\nasda\\n'}"
      ]
     },
     "execution_count": 4,
     "metadata": {},
     "output_type": "execute_result"
    }
   ],
   "source": [
    "data.annotate_gui(data.img_files[0], data.vh_files[0])"
   ]
  },
  {
   "cell_type": "code",
   "execution_count": null,
   "id": "c3c89afc",
   "metadata": {},
   "outputs": [],
   "source": []
  }
 ],
 "metadata": {
  "kernelspec": {
   "display_name": "Python 3 (ipykernel)",
   "language": "python",
   "name": "python3"
  },
  "language_info": {
   "codemirror_mode": {
    "name": "ipython",
    "version": 3
   },
   "file_extension": ".py",
   "mimetype": "text/x-python",
   "name": "python",
   "nbconvert_exporter": "python",
   "pygments_lexer": "ipython3",
   "version": "3.10.10"
  }
 },
 "nbformat": 4,
 "nbformat_minor": 5
}
