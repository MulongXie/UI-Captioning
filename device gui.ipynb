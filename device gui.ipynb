{
 "cells": [
  {
   "cell_type": "markdown",
   "id": "d71cea93",
   "metadata": {},
   "source": [
    "## Collect GUI from device "
   ]
  },
  {
   "cell_type": "code",
   "execution_count": 1,
   "id": "5fec4167",
   "metadata": {},
   "outputs": [
    {
     "name": "stderr",
     "output_type": "stream",
     "text": [
      "C:\\Users\\xie029\\AppData\\Local\\Programs\\Python\\Python310\\lib\\site-packages\\tqdm\\auto.py:22: TqdmWarning: IProgress not found. Please update jupyter and ipywidgets. See https://ipywidgets.readthedocs.io/en/stable/user_install.html\n",
      "  from .autonotebook import tqdm as notebook_tqdm\n"
     ]
    },
    {
     "name": "stdout",
     "output_type": "stream",
     "text": [
      "Load Device\n"
     ]
    }
   ],
   "source": [
    "from DataManager import GUIDataManager\n",
    "data = GUIDataManager('app1', '1')"
   ]
  },
  {
   "cell_type": "code",
   "execution_count": 5,
   "id": "c3902bc9",
   "metadata": {},
   "outputs": [
    {
     "name": "stdout",
     "output_type": "stream",
     "text": [
      "=== Collect UI metadata from the device ===\n",
      "=== Extract and analyze UI info ===\n"
     ]
    }
   ],
   "source": [
    "dev_gui = data.get_current_gui_from_device()"
   ]
  },
  {
   "cell_type": "code",
   "execution_count": 6,
   "id": "8fb16dc8",
   "metadata": {},
   "outputs": [],
   "source": [
    "dev_gui.show_all_elements(only_leaves=True)"
   ]
  },
  {
   "cell_type": "code",
   "execution_count": null,
   "id": "c5af7c22",
   "metadata": {},
   "outputs": [],
   "source": [
    "print(dev_gui.element_tree)"
   ]
  },
  {
   "cell_type": "markdown",
   "id": "d4edff44",
   "metadata": {},
   "source": [
    "## Load raw data and convert to GUI data "
   ]
  },
  {
   "cell_type": "code",
   "execution_count": 3,
   "id": "5773f7ee",
   "metadata": {},
   "outputs": [],
   "source": [
    "from GUI import GUI\n",
    "load = False"
   ]
  },
  {
   "cell_type": "code",
   "execution_count": 4,
   "id": "4442a87f",
   "metadata": {},
   "outputs": [],
   "source": [
    "gui = GUI(gui_img_file='data/app1/testcase1/device/0.png',\n",
    "          gui_json_file='data/app1/testcase1/device/0.json',\n",
    "          output_file_root='data/twitter/testcase1')\n",
    "# load previous result\n",
    "if load:\n",
    "    gui.load_elements()\n",
    "# process from scratch\n",
    "else:\n",
    "    gui.ui_info_extraction()\n",
    "    gui.ui_analysis_elements_description()\n",
    "    gui.ui_element_tree()\n",
    "gui.show_all_elements(only_leaves=True)"
   ]
  },
  {
   "cell_type": "code",
   "execution_count": null,
   "id": "cca14007",
   "metadata": {},
   "outputs": [],
   "source": [
    "print(gui.element_tree)"
   ]
  },
  {
   "cell_type": "code",
   "execution_count": 7,
   "id": "175c929b",
   "metadata": {},
   "outputs": [],
   "source": [
    "l = [15]"
   ]
  },
  {
   "cell_type": "code",
   "execution_count": 8,
   "id": "d0c38dae",
   "metadata": {},
   "outputs": [
    {
     "data": {
      "text/plain": [
       "[15]"
      ]
     },
     "execution_count": 8,
     "metadata": {},
     "output_type": "execute_result"
    }
   ],
   "source": [
    "l[-3:]"
   ]
  },
  {
   "cell_type": "code",
   "execution_count": null,
   "id": "58187b49",
   "metadata": {},
   "outputs": [],
   "source": []
  }
 ],
 "metadata": {
  "kernelspec": {
   "display_name": "Python 3 (ipykernel)",
   "language": "python",
   "name": "python3"
  },
  "language_info": {
   "codemirror_mode": {
    "name": "ipython",
    "version": 3
   },
   "file_extension": ".py",
   "mimetype": "text/x-python",
   "name": "python",
   "nbconvert_exporter": "python",
   "pygments_lexer": "ipython3",
   "version": "3.10.10"
  }
 },
 "nbformat": 4,
 "nbformat_minor": 5
}
