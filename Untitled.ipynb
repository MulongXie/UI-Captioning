{
 "cells": [
  {
   "cell_type": "code",
   "execution_count": 1,
   "id": "4a1ed7d7",
   "metadata": {},
   "outputs": [
    {
     "name": "stderr",
     "output_type": "stream",
     "text": [
      "C:\\Users\\xie029\\AppData\\Local\\Programs\\Python\\Python310\\lib\\site-packages\\tqdm\\auto.py:22: TqdmWarning: IProgress not found. Please update jupyter and ipywidgets. See https://ipywidgets.readthedocs.io/en/stable/user_install.html\n",
      "  from .autonotebook import tqdm as notebook_tqdm\n"
     ]
    }
   ],
   "source": [
    "from DataCollector import DataCollector"
   ]
  },
  {
   "cell_type": "code",
   "execution_count": 2,
   "id": "524e4414",
   "metadata": {},
   "outputs": [],
   "source": [
    "data = DataCollector(input_dir='C:/Mulong/Data/rico/rico_sca', \n",
    "                     output_dir='C:/Mulong/Data/ui captioning - rs', \n",
    "                     engine_model='gpt-3.5-turbo')"
   ]
  },
  {
   "cell_type": "code",
   "execution_count": null,
   "id": "a9eab0ed",
   "metadata": {},
   "outputs": [
    {
     "name": "stdout",
     "output_type": "stream",
     "text": [
      "\n",
      "*** GUI Analysis ***\n",
      "\n",
      "==============================\n",
      "\n",
      "*** Summarization [key elements] ***\n",
      "Key elements of the given UI:\n",
      "1. Root element: It is a non-clickable element with a class 'root' and ID 0. It has an area with a height of 1256 and a length of 1715.\n",
      "2. DatePicker: It is a non-clickable widget with a class '.widget.DatePicker' and ID 1. It has an area with a height of 1144 and a length of 1407. It contains the following children elements:\n",
      "   a. Year TextView: It is a clickable TextView with a class '.support.v7.widget.AppCompatTextView' and ID 2. It has an area with a height of 976 and a length of 142. Its description is '1990'.\n",
      "   b. Date TextView: It is a clickable TextView with a class '.support.v7.widget.AppCompatTextView' and ID 3. It has an area with a height of 555 and a length of 159. Its description is 'Fri, Jun 15'.\n",
      "   c. Month View: It is a non-clickable simple month view with a class '.widget.SimpleMonthView' and ID 4. It has an area with a height of 1144 and a length of 1043. Its description is ' 14 15 16 17 18 19 10 11 12 13 21 22 23 24 28 29 30 31 25 26 20 27 DONE ed ed ed ed'.\n",
      "   d. Previous button: It is a clickable ImageButton with a class '.support.v7.widget.AppCompatImageButton' and ID 5. It has an area with a height of 168 and a length of 168. Its description is 'Previous month'.\n",
      "   e. Next button: It is a clickable ImageButton with a class '.support.v7.widget.AppCompatImageButton' and ID 6. It has an area with a height of 168 and a length of 168. Its description is 'Next month'.\n",
      "3. Done Button: It is a clickable Button with a class '.support.v7.widget.AppCompatButton' and ID 7. It has an area with a height of 232 and a length of 168. Its description is 'Done'.\n",
      "\n",
      "*** Press \"r\" to revise, any key else to exit ***\n",
      "\n",
      "*** Revision Suggestions ***\n",
      "-- Input revision points: Do not describe the length and height of the elements\n",
      "\n",
      "==============================\n",
      "\n",
      "*** Summarization [key elements] ***\n",
      "Revised summarization of the UI:\n",
      "The given UI contains the following key elements:\n",
      "1. Root element (id: 0): It is a non-clickable root view.\n",
      "2. DatePicker widget (id: 1): It is a non-clickable widget that allows users to select a date. It consists of a year TextView (id: 2), a date TextView (id: 3), a month view (id: 4), and previous (id: 5) and next (id: 6) buttons.\n",
      "3. Done button (id: 7): It is a clickable button that allows users to confirm their selection.\n",
      "\n",
      "*** Press \"r\" to revise, any key else to exit ***\n",
      "\n",
      "*** Revision Suggestions ***\n",
      "-- Input revision points: Do not ouput the id of elements\n",
      "\n",
      "==============================\n",
      "\n",
      "*** Summarization [key elements] ***\n",
      "Revised summarization of the UI:\n",
      "The given UI contains the following key elements:\n",
      "1. Root element: It is a non-clickable root view.\n",
      "2. DatePicker widget: It is a non-clickable widget that allows users to select a date. It consists of a year TextView, a date TextView, a month view, and previous and next buttons.\n",
      "3. Done button: It is a clickable button that allows users to confirm their selection.\n",
      "\n",
      "*** Press \"r\" to revise, any key else to exit ***\n",
      "\n",
      "*** Revision Suggestions ***\n"
     ]
    }
   ],
   "source": [
    "data.annotate_gui_gpt_revision(gui_img_file='data/rico/raw/2.jpg', gui_json_file='data/rico/raw/2.json', \n",
    "                               factor='key elements', load_gui=False, show_gui=True)"
   ]
  },
  {
   "cell_type": "code",
   "execution_count": 4,
   "id": "c6d2e87e",
   "metadata": {},
   "outputs": [
    {
     "data": {
      "text/plain": [
       "[{'role': 'system',\n",
       "  'content': 'You are a mobile virtual assistant that understands and interacts with the user interface to complete a given task.'},\n",
       " {'role': 'user',\n",
       "  'content': 'You will be given some view hierarchies of UIs containing various UI blocks and elements.'},\n",
       " {'role': 'user',\n",
       "  'content': \"Summarize this UI in terms of key elements.UI: {'clickable': False, 'class': 'root', 'id': 0, 'area': {'height': 1256, 'length': 1715}, 'children': [{'clickable': False, 'class': '.widget.DatePicker', 'id': 1, 'area': {'height': 1144, 'length': 1407}, 'children': [{'resource-id': ':id/date_picker_header_year', 'clickable': True, 'class': '.support.v7.widget.AppCompatTextView', 'id': 2, 'area': {'height': 976, 'length': 142}, 'description': '1990'}, {'resource-id': ':id/date_picker_header_date', 'clickable': True, 'class': '.support.v7.widget.AppCompatTextView', 'id': 3, 'area': {'height': 555, 'length': 159}, 'description': 'Fri, Jun 15'}, {'resource-id': ':id/month_view', 'clickable': False, 'class': '.widget.SimpleMonthView', 'id': 4, 'area': {'height': 1144, 'length': 1043}, 'description': ' 14 15 16 17 18 19 10 11 12 13 21 22 23 24 28 29 30 31 25 26 20 27 DONE ed ed ed ed'}, {'resource-id': ':id/prev', 'clickable': True, 'class': '.support.v7.widget.AppCompatImageButton', 'id': 5, 'area': {'height': 168, 'length': 168}, 'description': 'Previous month'}, {'resource-id': ':id/next', 'clickable': True, 'class': '.support.v7.widget.AppCompatImageButton', 'id': 6, 'area': {'height': 168, 'length': 168}, 'description': 'Next month'}]}, {'resource-id': ':id/button1', 'clickable': True, 'class': '.support.v7.widget.AppCompatButton', 'id': 7, 'area': {'height': 232, 'length': 168}, 'description': 'Done'}]}\"},\n",
       " {'role': 'assistant',\n",
       "  'content': 'This UI consists of a root view hierarchy with the following key elements:\\n\\n1. DatePicker: A widget to select a date.\\n   - Year: A TextView element displaying the selected year.\\n   - Date: A TextView element displaying the selected date.\\n   - Month View: A SimpleMonthView element displaying the calendar with selectable dates.\\n   - Previous Button: A clickable ImageButton to navigate to the previous month.\\n   - Next Button: A clickable ImageButton to navigate to the next month.\\n\\n2. Done Button: A clickable AppCompatButton element with the description \"Done\".\\n\\nThe UI has a total area of height 1256 and length 1715.'},\n",
       " {'role': 'user',\n",
       "  'content': 'Your summarization does not perfectly meet our expectation, consider revise it with the following revision suggestions: Describe all elements, and highlight those salient ones'},\n",
       " {'role': 'assistant',\n",
       "  'content': 'This UI consists of a root view hierarchy with the following key elements:\\n\\n1. DatePicker: This widget allows the user to select a date. It contains the following elements:\\n   - Year: This TextView element displays the selected year.\\n   - Date: This TextView element displays the selected date.\\n   - Month View: This SimpleMonthView element displays a calendar with selectable dates.\\n   - Previous Button: This clickable ImageButton allows the user to navigate to the previous month.\\n   - Next Button: This clickable ImageButton allows the user to navigate to the next month.\\n\\n2. Done Button: This clickable AppCompatButton element is labeled \"Done\" and serves as a confirmation button.\\n\\nThe UI has a total area of height 1256 and length 1715. The DatePicker widget is the salient feature of this UI as it enables the user to select a specific date.'}]"
      ]
     },
     "execution_count": 4,
     "metadata": {},
     "output_type": "execute_result"
    }
   ],
   "source": [
    "data.llm_summarizer.conversation"
   ]
  },
  {
   "cell_type": "code",
   "execution_count": null,
   "id": "4df70f8a",
   "metadata": {},
   "outputs": [],
   "source": []
  }
 ],
 "metadata": {
  "kernelspec": {
   "display_name": "Python 3 (ipykernel)",
   "language": "python",
   "name": "python3"
  },
  "language_info": {
   "codemirror_mode": {
    "name": "ipython",
    "version": 3
   },
   "file_extension": ".py",
   "mimetype": "text/x-python",
   "name": "python",
   "nbconvert_exporter": "python",
   "pygments_lexer": "ipython3",
   "version": "3.10.10"
  }
 },
 "nbformat": 4,
 "nbformat_minor": 5
}
