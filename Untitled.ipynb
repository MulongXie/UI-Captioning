{
 "cells": [
  {
   "cell_type": "code",
   "execution_count": 1,
   "id": "c97617ef",
   "metadata": {},
   "outputs": [
    {
     "name": "stderr",
     "output_type": "stream",
     "text": [
      "C:\\Users\\xie029\\AppData\\Local\\Programs\\Python\\Python310\\lib\\site-packages\\tqdm\\auto.py:22: TqdmWarning: IProgress not found. Please update jupyter and ipywidgets. See https://ipywidgets.readthedocs.io/en/stable/user_install.html\n",
      "  from .autonotebook import tqdm as notebook_tqdm\n"
     ]
    }
   ],
   "source": [
    "from DataCollector import DataCollector"
   ]
  },
  {
   "cell_type": "code",
   "execution_count": 2,
   "id": "cfbe38bd",
   "metadata": {},
   "outputs": [],
   "source": [
    "data = DataCollector(input_dir='C:/Mulong/Data/rico/rico_sca', \n",
    "                     output_dir='C:/Mulong/Data/ui captioning - 4', \n",
    "                     engine_model='gpt-3.5-turbo')"
   ]
  },
  {
   "cell_type": "code",
   "execution_count": 3,
   "id": "063b2ddb",
   "metadata": {},
   "outputs": [
    {
     "name": "stdout",
     "output_type": "stream",
     "text": [
      "\n",
      "*** Load GUI Info ***\n",
      "Load elements from C:/Mulong/Data/ui captioning - 4\\guidata\\2_elements.json\n",
      "Load element tree from C:/Mulong/Data/ui captioning - 4\\guidata\\2_tree.json\n",
      "\n",
      "==============================\n",
      "\n",
      "*** Summarization [key elements] ***\n",
      "Key elements in the given UI are:\n",
      "1. Root View: Represents the overall UI layout hierarchy.\n",
      "2. DatePicker Widget: A widget that allows selecting dates.\n",
      "3. Date Picker Header: Contains text views for displaying the selected year and date.\n",
      "4. Month View: Displays the calendar grid for the selected month.\n",
      "5. Previous Month and Next Month buttons: Allows navigating to the previous and next months, respectively.\n",
      "6. Done Button: A button that confirms the selected date and closes the date picker.\n",
      "Each element has specific attributes such as clickability, class, id, area, and description that provide further details about them.\n",
      "\n",
      "*** Press \"r\" to revise, any key else to exit ***\n",
      "\n",
      "*** Revision Suggestions ***\n",
      "-- Input revision points: Point out the salient elements\n",
      "\n",
      "==============================\n",
      "\n",
      "*** Summarization [key elements] ***\n",
      "In the given UI, the salient elements are as follows:\n",
      "1. Root View: The main container that holds all the other UI elements.\n",
      "2. DatePicker Widget: A widget that allows the user to select a date.\n",
      "3. Date Picker Header: Displays the selected year and date.\n",
      "4. Month View: Shows a calendar grid for the selected month.\n",
      "5. Previous Month and Next Month buttons: Allow the user to navigate to the previous or next month.\n",
      "6. Done Button: A button that confirms the selected date and closes the date picker.\n",
      "These elements play a crucial role in providing a date selection functionality to the user.\n",
      "\n",
      "*** Press \"r\" to revise, any key else to exit ***\n",
      "\n",
      "*** Revision Suggestions ***\n",
      "-- Input revision points: Describe the relative positions of elements.\n",
      "\n",
      "==============================\n",
      "\n",
      "*** Summarization [key elements] ***\n",
      "In the given UI, the key elements and their relative positions are as follows:\n",
      "1. Root View: The main container that encompasses the entire UI.\n",
      "2. DatePicker Widget: Positioned within the root view, occupying an area to allow date selection.\n",
      "3. Date Picker Header: Located within the date picker widget, displaying the selected year and date.\n",
      "4. Month View: Nested inside the date picker widget, presenting a calendar grid for the selected month.\n",
      "5. Previous Month and Next Month buttons: Positioned within the month view, enabling navigation to the previous or next month.\n",
      "6. Done Button: Positioned separately from the date picker widget, allowing confirmation of the selected date and closure of the date picker.\n",
      "Understanding the relative positions of these elements can assist in visualizing the overall structure and functionality of the UI.\n",
      "\n",
      "*** Press \"r\" to revise, any key else to exit ***\n",
      "\n",
      "*** Revision Suggestions ***\n",
      "-- Input revision points: 200 words limit.\n",
      "\n",
      "==============================\n",
      "\n",
      "*** Summarization [key elements] ***\n",
      "The UI consists of several key elements that facilitate date selection. At the root level, we have a container known as the Root View that encompasses the entire UI hierarchy. Within this root view, we find the DatePicker Widget, which serves as the core element for selecting a date. \n",
      "The DatePicker Widget contains several child elements:\n",
      "1. Date Picker Header: Located at the top of the DatePicker Widget, it displays the selected year and date. This element is a text view with the resource id \":id/date_picker_header_year\" and \":id/date_picker_header_date\".\n",
      "2. Month View: Positioned below the Date Picker Header, the Month View displays a calendar grid for the selected month. It is described as a \".widget.SimpleMonthView\" and has the resource id \":id/month_view\".\n",
      "3. Previous Month and Next Month buttons: These buttons allow the user to navigate to the previous or next month within the Month View. They are represented as \".support.v7.widget.AppCompatImageButton\" with the resource ids \":id/prev\" and \":id/next\" respectively.\n",
      "Additionally, we have a Done Button located outside of the DatePicker Widget. This button, represented by \".support.v7.widget.AppCompatButton\" and with the resource id \":id/button1\", serves to confirm the selected date and close the date picker.\n",
      "Understanding these key elements and their positions within the UI hierarchy is essential for interacting with the date selection functionality effectively.\n",
      "\n",
      "*** Press \"r\" to revise, any key else to exit ***\n"
     ]
    },
    {
     "data": {
      "text/plain": [
       "{'gui-no': '2',\n",
       " 'factor': 'key elements',\n",
       " 'element-tree': \"{'clickable': False, 'class': 'root', 'id': 0, 'area': {'height': 1256, 'length': 1715}, 'children': [{'clickable': False, 'class': '.widget.DatePicker', 'id': 1, 'area': {'height': 1144, 'length': 1407}, 'children': [{'resource-id': ':id/date_picker_header_year', 'clickable': True, 'class': '.support.v7.widget.AppCompatTextView', 'id': 2, 'area': {'height': 976, 'length': 142}, 'description': '1990'}, {'resource-id': ':id/date_picker_header_date', 'clickable': True, 'class': '.support.v7.widget.AppCompatTextView', 'id': 3, 'area': {'height': 555, 'length': 159}, 'description': 'Fri, Jun 15'}, {'resource-id': ':id/month_view', 'clickable': False, 'class': '.widget.SimpleMonthView', 'id': 4, 'area': {'height': 1144, 'length': 1043}, 'description': ' 14 15 16 17 18 19 10 11 12 13 21 22 23 24 28 29 30 31 25 26 20 27 DONE ed ed ed ed'}, {'resource-id': ':id/prev', 'clickable': True, 'class': '.support.v7.widget.AppCompatImageButton', 'id': 5, 'area': {'height': 168, 'length': 168}, 'description': 'Previous month'}, {'resource-id': ':id/next', 'clickable': True, 'class': '.support.v7.widget.AppCompatImageButton', 'id': 6, 'area': {'height': 168, 'length': 168}, 'description': 'Next month'}]}, {'resource-id': ':id/button1', 'clickable': True, 'class': '.support.v7.widget.AppCompatButton', 'id': 7, 'area': {'height': 232, 'length': 168}, 'description': 'Done'}]}\",\n",
       " 'annotation-history': ['Key elements in the given UI are:\\n1. Root View: Represents the overall UI layout hierarchy.\\n2. DatePicker Widget: A widget that allows selecting dates.\\n3. Date Picker Header: Contains text views for displaying the selected year and date.\\n4. Month View: Displays the calendar grid for the selected month.\\n5. Previous Month and Next Month buttons: Allows navigating to the previous and next months, respectively.\\n6. Done Button: A button that confirms the selected date and closes the date picker.\\nEach element has specific attributes such as clickability, class, id, area, and description that provide further details about them.',\n",
       "  'In the given UI, the salient elements are as follows:\\n1. Root View: The main container that holds all the other UI elements.\\n2. DatePicker Widget: A widget that allows the user to select a date.\\n3. Date Picker Header: Displays the selected year and date.\\n4. Month View: Shows a calendar grid for the selected month.\\n5. Previous Month and Next Month buttons: Allow the user to navigate to the previous or next month.\\n6. Done Button: A button that confirms the selected date and closes the date picker.\\nThese elements play a crucial role in providing a date selection functionality to the user.',\n",
       "  'In the given UI, the key elements and their relative positions are as follows:\\n1. Root View: The main container that encompasses the entire UI.\\n2. DatePicker Widget: Positioned within the root view, occupying an area to allow date selection.\\n3. Date Picker Header: Located within the date picker widget, displaying the selected year and date.\\n4. Month View: Nested inside the date picker widget, presenting a calendar grid for the selected month.\\n5. Previous Month and Next Month buttons: Positioned within the month view, enabling navigation to the previous or next month.\\n6. Done Button: Positioned separately from the date picker widget, allowing confirmation of the selected date and closure of the date picker.\\nUnderstanding the relative positions of these elements can assist in visualizing the overall structure and functionality of the UI.',\n",
       "  'The UI consists of several key elements that facilitate date selection. At the root level, we have a container known as the Root View that encompasses the entire UI hierarchy. Within this root view, we find the DatePicker Widget, which serves as the core element for selecting a date. \\nThe DatePicker Widget contains several child elements:\\n1. Date Picker Header: Located at the top of the DatePicker Widget, it displays the selected year and date. This element is a text view with the resource id \":id/date_picker_header_year\" and \":id/date_picker_header_date\".\\n2. Month View: Positioned below the Date Picker Header, the Month View displays a calendar grid for the selected month. It is described as a \".widget.SimpleMonthView\" and has the resource id \":id/month_view\".\\n3. Previous Month and Next Month buttons: These buttons allow the user to navigate to the previous or next month within the Month View. They are represented as \".support.v7.widget.AppCompatImageButton\" with the resource ids \":id/prev\" and \":id/next\" respectively.\\nAdditionally, we have a Done Button located outside of the DatePicker Widget. This button, represented by \".support.v7.widget.AppCompatButton\" and with the resource id \":id/button1\", serves to confirm the selected date and close the date picker.\\nUnderstanding these key elements and their positions within the UI hierarchy is essential for interacting with the date selection functionality effectively.'],\n",
       " 'revision-suggestion-history': ['Point out the salient elements',\n",
       "  'Describe the relative positions of elements.',\n",
       "  '200 words limit.'],\n",
       " 'annotation': 'The UI consists of several key elements that facilitate date selection. At the root level, we have a container known as the Root View that encompasses the entire UI hierarchy. Within this root view, we find the DatePicker Widget, which serves as the core element for selecting a date. \\nThe DatePicker Widget contains several child elements:\\n1. Date Picker Header: Located at the top of the DatePicker Widget, it displays the selected year and date. This element is a text view with the resource id \":id/date_picker_header_year\" and \":id/date_picker_header_date\".\\n2. Month View: Positioned below the Date Picker Header, the Month View displays a calendar grid for the selected month. It is described as a \".widget.SimpleMonthView\" and has the resource id \":id/month_view\".\\n3. Previous Month and Next Month buttons: These buttons allow the user to navigate to the previous or next month within the Month View. They are represented as \".support.v7.widget.AppCompatImageButton\" with the resource ids \":id/prev\" and \":id/next\" respectively.\\nAdditionally, we have a Done Button located outside of the DatePicker Widget. This button, represented by \".support.v7.widget.AppCompatButton\" and with the resource id \":id/button1\", serves to confirm the selected date and close the date picker.\\nUnderstanding these key elements and their positions within the UI hierarchy is essential for interacting with the date selection functionality effectively.',\n",
       " 'revision-suggestion': ''}"
      ]
     },
     "execution_count": 3,
     "metadata": {},
     "output_type": "execute_result"
    }
   ],
   "source": [
    "data.annotate_gui_gpt_revision(gui_img_file='data/rico/raw/2.jpg', gui_json_file='data/rico/raw/2.json', \n",
    "                               factor='key elements', load_gui=True, show_gui=True)"
   ]
  },
  {
   "cell_type": "code",
   "execution_count": 4,
   "id": "865dce74",
   "metadata": {},
   "outputs": [
    {
     "data": {
      "text/plain": [
       "[{'role': 'system',\n",
       "  'content': 'You are a mobile virtual assistant that understands and interacts with the user interface to complete a given task.'},\n",
       " {'role': 'user',\n",
       "  'content': 'You will be given some view hierarchies of UIs containing various UI blocks and elements.'},\n",
       " {'role': 'user',\n",
       "  'content': \"Summarize this UI in terms of key elements.UI: {'clickable': False, 'class': 'root', 'id': 0, 'area': {'height': 1256, 'length': 1715}, 'children': [{'clickable': False, 'class': '.widget.DatePicker', 'id': 1, 'area': {'height': 1144, 'length': 1407}, 'children': [{'resource-id': ':id/date_picker_header_year', 'clickable': True, 'class': '.support.v7.widget.AppCompatTextView', 'id': 2, 'area': {'height': 976, 'length': 142}, 'description': '1990'}, {'resource-id': ':id/date_picker_header_date', 'clickable': True, 'class': '.support.v7.widget.AppCompatTextView', 'id': 3, 'area': {'height': 555, 'length': 159}, 'description': 'Fri, Jun 15'}, {'resource-id': ':id/month_view', 'clickable': False, 'class': '.widget.SimpleMonthView', 'id': 4, 'area': {'height': 1144, 'length': 1043}, 'description': ' 14 15 16 17 18 19 10 11 12 13 21 22 23 24 28 29 30 31 25 26 20 27 DONE ed ed ed ed'}, {'resource-id': ':id/prev', 'clickable': True, 'class': '.support.v7.widget.AppCompatImageButton', 'id': 5, 'area': {'height': 168, 'length': 168}, 'description': 'Previous month'}, {'resource-id': ':id/next', 'clickable': True, 'class': '.support.v7.widget.AppCompatImageButton', 'id': 6, 'area': {'height': 168, 'length': 168}, 'description': 'Next month'}]}, {'resource-id': ':id/button1', 'clickable': True, 'class': '.support.v7.widget.AppCompatButton', 'id': 7, 'area': {'height': 232, 'length': 168}, 'description': 'Done'}]}\"},\n",
       " {'role': 'assistant',\n",
       "  'content': 'This UI consists of a root view hierarchy with the following key elements:\\n\\n1. DatePicker: A widget to select a date.\\n   - Year: A TextView element displaying the selected year.\\n   - Date: A TextView element displaying the selected date.\\n   - Month View: A SimpleMonthView element displaying the calendar with selectable dates.\\n   - Previous Button: A clickable ImageButton to navigate to the previous month.\\n   - Next Button: A clickable ImageButton to navigate to the next month.\\n\\n2. Done Button: A clickable AppCompatButton element with the description \"Done\".\\n\\nThe UI has a total area of height 1256 and length 1715.'},\n",
       " {'role': 'user',\n",
       "  'content': 'Your summarization does not perfectly meet our expectation, consider revise it with the following revision suggestions: Describe all elements, and highlight those salient ones'},\n",
       " {'role': 'assistant',\n",
       "  'content': 'This UI consists of a root view hierarchy with the following key elements:\\n\\n1. DatePicker: This widget allows the user to select a date. It contains the following elements:\\n   - Year: This TextView element displays the selected year.\\n   - Date: This TextView element displays the selected date.\\n   - Month View: This SimpleMonthView element displays a calendar with selectable dates.\\n   - Previous Button: This clickable ImageButton allows the user to navigate to the previous month.\\n   - Next Button: This clickable ImageButton allows the user to navigate to the next month.\\n\\n2. Done Button: This clickable AppCompatButton element is labeled \"Done\" and serves as a confirmation button.\\n\\nThe UI has a total area of height 1256 and length 1715. The DatePicker widget is the salient feature of this UI as it enables the user to select a specific date.'}]"
      ]
     },
     "execution_count": 4,
     "metadata": {},
     "output_type": "execute_result"
    }
   ],
   "source": [
    "data.llm_summarizer.conversation"
   ]
  },
  {
   "cell_type": "code",
   "execution_count": null,
   "id": "abe4697d",
   "metadata": {},
   "outputs": [],
   "source": []
  }
 ],
 "metadata": {
  "kernelspec": {
   "display_name": "Python 3 (ipykernel)",
   "language": "python",
   "name": "python3"
  },
  "language_info": {
   "codemirror_mode": {
    "name": "ipython",
    "version": 3
   },
   "file_extension": ".py",
   "mimetype": "text/x-python",
   "name": "python",
   "nbconvert_exporter": "python",
   "pygments_lexer": "ipython3",
   "version": "3.10.10"
  }
 },
 "nbformat": 4,
 "nbformat_minor": 5
}
