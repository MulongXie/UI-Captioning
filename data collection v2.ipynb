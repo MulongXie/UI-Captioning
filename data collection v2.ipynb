{
 "cells": [
  {
   "cell_type": "code",
   "execution_count": 1,
   "id": "14cb01c7",
   "metadata": {
    "scrolled": true
   },
   "outputs": [
    {
     "name": "stderr",
     "output_type": "stream",
     "text": [
      "C:\\Users\\xie029\\AppData\\Local\\Programs\\Python\\Python310\\lib\\site-packages\\tqdm\\auto.py:22: TqdmWarning: IProgress not found. Please update jupyter and ipywidgets. See https://ipywidgets.readthedocs.io/en/stable/user_install.html\n",
      "  from .autonotebook import tqdm as notebook_tqdm\n"
     ]
    }
   ],
   "source": [
    "from DataCollector import DataCollector"
   ]
  },
  {
   "cell_type": "code",
   "execution_count": 2,
   "id": "8bdaa461",
   "metadata": {},
   "outputs": [],
   "source": [
    "data = DataCollector(input_dir='C:/Mulong/Data/rico/rico_sca', \n",
    "                     output_dir='C:/Mulong/Data/ui captioning - rs', \n",
    "                     engine_model='gpt-3.5-turbo')"
   ]
  },
  {
   "cell_type": "code",
   "execution_count": 3,
   "id": "02d1bcf9",
   "metadata": {},
   "outputs": [
    {
     "name": "stdout",
     "output_type": "stream",
     "text": [
      "Load C:/Mulong/Data/ui captioning - rs\\annotation\\2_Key Element.json\n",
      "Load C:/Mulong/Data/ui captioning - rs\\annotation\\3_Key Element.json\n",
      "Load C:/Mulong/Data/ui captioning - rs\\annotation\\4_Key Element.json\n"
     ]
    }
   ],
   "source": [
    "data.load_annotations(start_gui_no=1, end_gui_no=5, factor_id=0, revise_stop_point=1)"
   ]
  },
  {
   "cell_type": "code",
   "execution_count": 5,
   "id": "623227da",
   "metadata": {
    "scrolled": false
   },
   "outputs": [],
   "source": [
    "data.annotate_gui_gpt_revision(gui_img_file='data/rico/raw/2.jpg', gui_json_file='data/rico/raw/2.json', \n",
    "                               factor='key elements', load_gui=False)"
   ]
  },
  {
   "cell_type": "code",
   "execution_count": 3,
   "id": "1a0eee9c",
   "metadata": {},
   "outputs": [
    {
     "name": "stdout",
     "output_type": "stream",
     "text": [
      "\n",
      "\n",
      "+++ Annotating +++ [0 / 10] C:/Mulong/Data/rico/rico_sca\\2.jpg\n",
      "\n",
      "*** GUI Analysis ***\n",
      "\n",
      "==============================\n",
      "\n",
      "*** Summarization [Key Elements] ***\n",
      "Key Elements of UI:\n",
      "1. Root: The root element of the UI hierarchy. It has an ID of 0 and is not clickable.\n",
      "2. DatePicker: A widget for selecting a date. It has an ID of 1 and is not clickable. It contains the following key elements:\n",
      "   - Year: A TextView element displaying the selected year. It has an ID of 2 and is clickable.\n",
      "   - Date: A TextView element displaying the selected date. It has an ID of 3 and is clickable.\n",
      "   - MonthView: A SimpleMonthView element displaying the calendar for selecting a date. It has an ID of 4 and is not clickable.\n",
      "   - Previous Button: An ImageButton element for selecting the previous month. It has an ID of 5 and is clickable.\n",
      "   - Next Button: An ImageButton element for selecting the next month. It has an ID of 6 and is clickable.\n",
      "3. Done Button: A Button element for confirming the selected date. It has an ID of 7 and is clickable.\n",
      "Do you want to revise the summarization? (\"y\" or \"n\"): y\n",
      "\n",
      "*** Revision Suggestions ***\n",
      "-- Input revision points: Summerize in one paragraph, do not use list.\n",
      "\n",
      "==============================\n",
      "\n",
      "*** Summarization [Key Elements] ***\n",
      "The UI hierarchy consists of a root element and a DatePicker widget. The root element is not clickable and serves as the parent container for the UI. The DatePicker widget allows the user to select a date and includes a year and date display. The year and date elements are clickable and can be selected by the user. The DatePicker also includes a calendar view, with navigation buttons to switch between months. Lastly, there is a Done button that is clickable and used to confirm the selected date.\n",
      "Do you want to revise the summarization? (\"y\" or \"n\"): y\n",
      "\n",
      "*** Revision Suggestions ***\n",
      "-- Input revision points: State the related positions of the elements.\n",
      "\n",
      "==============================\n",
      "\n",
      "*** Summarization [Key Elements] ***\n",
      "The UI contains a root element, which acts as the parent container. Within the root, there is a DatePicker widget positioned at the top. The DatePicker consists of multiple elements, including a year display at the top left, a date display at the top right, a calendar view in the center, and previous and next month buttons positioned at the bottom corners. Finally, there is a Done button located below the DatePicker widget.\n",
      "Do you want to revise the summarization? (\"y\" or \"n\"): n\n",
      "Do you want to turn off revision from now? (\"y\" or \"n\"): n\n",
      "\n",
      "\n",
      "+++ Annotating +++ [1 / 10] C:/Mulong/Data/rico/rico_sca\\3.jpg\n",
      "\n",
      "*** GUI Analysis ***\n",
      "\n",
      "==============================\n",
      "\n",
      "*** Summarization [Key Elements] ***\n",
      "The given UI contains a root element, which acts as the parent container. Within the root element, there are two main sections. The first section consists of a RelativeLayout widget with multiple child elements. These child elements include a VideoView widget, a View widget acting as an overlay on the video, an AppCompatTextView displaying the exercise name, a SegmentedProgressView widget showing the progress of the exercise, and two AppCompatImageView widgets for forward and backward navigation. \n",
      "The second section is a Toolbar widget located at the top. It contains two child elements: an AppCompatTextView showing the current exercise number, and an AppCompatImageButton for navigation purposes. The UI also provides additional information such as resource IDs, clickable states, class names, and area dimensions of each element.\n",
      "Do you want to revise the summarization? (\"y\" or \"n\"): y\n",
      "\n",
      "*** Revision Suggestions ***\n",
      "-- Input revision points: State the related positions of the elements\n",
      "\n",
      "==============================\n",
      "\n",
      "*** Summarization [Key Elements] ***\n",
      "The given UI contains a root element, which acts as the parent container. Within the root element, there are two main sections. The first section, positioned at the center, consists of a RelativeLayout widget with multiple child elements. These child elements include a VideoView widget and an overlay View widget, both covering the entire screen. Below them, there is an AppCompatTextView displaying the exercise name and a SegmentedProgressView widget showing the progress, placed at the center-right side. At the bottom, there are two AppCompatImageView widgets for forward and backward navigation. \n",
      "The second section is a Toolbar widget located at the top of the screen. It contains an AppCompatTextView showing the current exercise number, positioned at the top-left corner, and an AppCompatImageButton for navigation purposes, placed at the top-right corner. The UI also maintains additional information such as resource IDs, clickable states, class names, and area dimensions of each element.\n"
     ]
    },
    {
     "ename": "KeyboardInterrupt",
     "evalue": "Interrupted by user",
     "output_type": "error",
     "traceback": [
      "\u001b[1;31m---------------------------------------------------------------------------\u001b[0m",
      "\u001b[1;31mKeyboardInterrupt\u001b[0m                         Traceback (most recent call last)",
      "Cell \u001b[1;32mIn[3], line 1\u001b[0m\n\u001b[1;32m----> 1\u001b[0m \u001b[43mdata\u001b[49m\u001b[38;5;241;43m.\u001b[39;49m\u001b[43mannotate_all_guis_gpt_revision\u001b[49m\u001b[43m(\u001b[49m\u001b[43mstart_gui_no\u001b[49m\u001b[38;5;241;43m=\u001b[39;49m\u001b[38;5;241;43m0\u001b[39;49m\u001b[43m,\u001b[49m\u001b[43m \u001b[49m\u001b[43mend_gui_no\u001b[49m\u001b[38;5;241;43m=\u001b[39;49m\u001b[38;5;241;43m10\u001b[39;49m\u001b[43m,\u001b[49m\u001b[43m \u001b[49m\u001b[43mfactor_id\u001b[49m\u001b[38;5;241;43m=\u001b[39;49m\u001b[38;5;241;43m0\u001b[39;49m\u001b[43m,\u001b[49m\u001b[43m \u001b[49m\u001b[43mload_gui\u001b[49m\u001b[38;5;241;43m=\u001b[39;49m\u001b[38;5;28;43;01mFalse\u001b[39;49;00m\u001b[43m,\u001b[49m\u001b[43m \u001b[49m\u001b[43mturn_on_revision\u001b[49m\u001b[38;5;241;43m=\u001b[39;49m\u001b[38;5;28;43;01mTrue\u001b[39;49;00m\u001b[43m)\u001b[49m\n",
      "File \u001b[1;32mC:\\Mulong\\Code\\UI-Captioning\\DataCollector.py:253\u001b[0m, in \u001b[0;36mDataCollector.annotate_all_guis_gpt_revision\u001b[1;34m(self, start_gui_no, end_gui_no, factor_id, load_gui, turn_on_revision, wait_time)\u001b[0m\n\u001b[0;32m    251\u001b[0m gui_vh_file \u001b[38;5;241m=\u001b[39m \u001b[38;5;28mself\u001b[39m\u001b[38;5;241m.\u001b[39mvh_files[start_gui_no \u001b[38;5;241m+\u001b[39m i]\n\u001b[0;32m    252\u001b[0m \u001b[38;5;28mprint\u001b[39m(\u001b[38;5;124m'\u001b[39m\u001b[38;5;130;01m\\n\u001b[39;00m\u001b[38;5;130;01m\\n\u001b[39;00m\u001b[38;5;124m+++ Annotating +++ [\u001b[39m\u001b[38;5;132;01m%d\u001b[39;00m\u001b[38;5;124m / \u001b[39m\u001b[38;5;132;01m%d\u001b[39;00m\u001b[38;5;124m] \u001b[39m\u001b[38;5;132;01m%s\u001b[39;00m\u001b[38;5;124m'\u001b[39m \u001b[38;5;241m%\u001b[39m (i\u001b[38;5;241m+\u001b[39mstart_gui_no, end_gui_no, gui_img_file))\n\u001b[1;32m--> 253\u001b[0m \u001b[38;5;28;43mself\u001b[39;49m\u001b[38;5;241;43m.\u001b[39;49m\u001b[43mannotate_gui_gpt_revision\u001b[49m\u001b[43m(\u001b[49m\u001b[43mgui_img_file\u001b[49m\u001b[43m,\u001b[49m\u001b[43m \u001b[49m\u001b[43mgui_json_file\u001b[49m\u001b[38;5;241;43m=\u001b[39;49m\u001b[43mgui_vh_file\u001b[49m\u001b[43m,\u001b[49m\u001b[43m \u001b[49m\u001b[43mfactor\u001b[49m\u001b[38;5;241;43m=\u001b[39;49m\u001b[38;5;28;43mself\u001b[39;49m\u001b[38;5;241;43m.\u001b[39;49m\u001b[43mannotation_factors\u001b[49m\u001b[43m[\u001b[49m\u001b[43mfactor_id\u001b[49m\u001b[43m]\u001b[49m\u001b[43m,\u001b[49m\u001b[43m \u001b[49m\u001b[43mload_gui\u001b[49m\u001b[38;5;241;43m=\u001b[39;49m\u001b[43mload_gui\u001b[49m\u001b[43m)\u001b[49m\n\u001b[0;32m    254\u001b[0m time\u001b[38;5;241m.\u001b[39msleep(wait_time)\n",
      "File \u001b[1;32mC:\\Mulong\\Code\\UI-Captioning\\DataCollector.py:226\u001b[0m, in \u001b[0;36mDataCollector.annotate_gui_gpt_revision\u001b[1;34m(self, gui_img_file, gui_json_file, factor, load_gui)\u001b[0m\n\u001b[0;32m    224\u001b[0m \u001b[38;5;28;01mif\u001b[39;00m \u001b[38;5;28mself\u001b[39m\u001b[38;5;241m.\u001b[39mturn_on_revision:\n\u001b[0;32m    225\u001b[0m     gui\u001b[38;5;241m.\u001b[39mshow_all_elements()\n\u001b[1;32m--> 226\u001b[0m     revise \u001b[38;5;241m=\u001b[39m \u001b[38;5;28;43minput\u001b[39;49m\u001b[43m(\u001b[49m\u001b[38;5;124;43m'\u001b[39;49m\u001b[38;5;124;43mDo you want to revise the summarization? (\u001b[39;49m\u001b[38;5;124;43m\"\u001b[39;49m\u001b[38;5;124;43my\u001b[39;49m\u001b[38;5;124;43m\"\u001b[39;49m\u001b[38;5;124;43m or \u001b[39;49m\u001b[38;5;124;43m\"\u001b[39;49m\u001b[38;5;124;43mn\u001b[39;49m\u001b[38;5;124;43m\"\u001b[39;49m\u001b[38;5;124;43m): \u001b[39;49m\u001b[38;5;124;43m'\u001b[39;49m\u001b[43m)\u001b[49m\n\u001b[0;32m    227\u001b[0m     \u001b[38;5;28;01mif\u001b[39;00m revise\u001b[38;5;241m.\u001b[39mlower() \u001b[38;5;241m==\u001b[39m \u001b[38;5;124m'\u001b[39m\u001b[38;5;124my\u001b[39m\u001b[38;5;124m'\u001b[39m:\n\u001b[0;32m    228\u001b[0m         \u001b[38;5;28mprint\u001b[39m(\u001b[38;5;124m'\u001b[39m\u001b[38;5;130;01m\\n\u001b[39;00m\u001b[38;5;124m*** Revision Suggestions ***\u001b[39m\u001b[38;5;124m'\u001b[39m)\n",
      "File \u001b[1;32m~\\AppData\\Local\\Programs\\Python\\Python310\\lib\\site-packages\\ipykernel\\kernelbase.py:1182\u001b[0m, in \u001b[0;36mKernel.raw_input\u001b[1;34m(self, prompt)\u001b[0m\n\u001b[0;32m   1180\u001b[0m     msg \u001b[38;5;241m=\u001b[39m \u001b[38;5;124m\"\u001b[39m\u001b[38;5;124mraw_input was called, but this frontend does not support input requests.\u001b[39m\u001b[38;5;124m\"\u001b[39m\n\u001b[0;32m   1181\u001b[0m     \u001b[38;5;28;01mraise\u001b[39;00m StdinNotImplementedError(msg)\n\u001b[1;32m-> 1182\u001b[0m \u001b[38;5;28;01mreturn\u001b[39;00m \u001b[38;5;28;43mself\u001b[39;49m\u001b[38;5;241;43m.\u001b[39;49m\u001b[43m_input_request\u001b[49m\u001b[43m(\u001b[49m\n\u001b[0;32m   1183\u001b[0m \u001b[43m    \u001b[49m\u001b[38;5;28;43mstr\u001b[39;49m\u001b[43m(\u001b[49m\u001b[43mprompt\u001b[49m\u001b[43m)\u001b[49m\u001b[43m,\u001b[49m\n\u001b[0;32m   1184\u001b[0m \u001b[43m    \u001b[49m\u001b[38;5;28;43mself\u001b[39;49m\u001b[38;5;241;43m.\u001b[39;49m\u001b[43m_parent_ident\u001b[49m\u001b[43m[\u001b[49m\u001b[38;5;124;43m\"\u001b[39;49m\u001b[38;5;124;43mshell\u001b[39;49m\u001b[38;5;124;43m\"\u001b[39;49m\u001b[43m]\u001b[49m\u001b[43m,\u001b[49m\n\u001b[0;32m   1185\u001b[0m \u001b[43m    \u001b[49m\u001b[38;5;28;43mself\u001b[39;49m\u001b[38;5;241;43m.\u001b[39;49m\u001b[43mget_parent\u001b[49m\u001b[43m(\u001b[49m\u001b[38;5;124;43m\"\u001b[39;49m\u001b[38;5;124;43mshell\u001b[39;49m\u001b[38;5;124;43m\"\u001b[39;49m\u001b[43m)\u001b[49m\u001b[43m,\u001b[49m\n\u001b[0;32m   1186\u001b[0m \u001b[43m    \u001b[49m\u001b[43mpassword\u001b[49m\u001b[38;5;241;43m=\u001b[39;49m\u001b[38;5;28;43;01mFalse\u001b[39;49;00m\u001b[43m,\u001b[49m\n\u001b[0;32m   1187\u001b[0m \u001b[43m\u001b[49m\u001b[43m)\u001b[49m\n",
      "File \u001b[1;32m~\\AppData\\Local\\Programs\\Python\\Python310\\lib\\site-packages\\ipykernel\\kernelbase.py:1225\u001b[0m, in \u001b[0;36mKernel._input_request\u001b[1;34m(self, prompt, ident, parent, password)\u001b[0m\n\u001b[0;32m   1222\u001b[0m \u001b[38;5;28;01mexcept\u001b[39;00m \u001b[38;5;167;01mKeyboardInterrupt\u001b[39;00m:\n\u001b[0;32m   1223\u001b[0m     \u001b[38;5;66;03m# re-raise KeyboardInterrupt, to truncate traceback\u001b[39;00m\n\u001b[0;32m   1224\u001b[0m     msg \u001b[38;5;241m=\u001b[39m \u001b[38;5;124m\"\u001b[39m\u001b[38;5;124mInterrupted by user\u001b[39m\u001b[38;5;124m\"\u001b[39m\n\u001b[1;32m-> 1225\u001b[0m     \u001b[38;5;28;01mraise\u001b[39;00m \u001b[38;5;167;01mKeyboardInterrupt\u001b[39;00m(msg) \u001b[38;5;28;01mfrom\u001b[39;00m \u001b[38;5;28mNone\u001b[39m\n\u001b[0;32m   1226\u001b[0m \u001b[38;5;28;01mexcept\u001b[39;00m \u001b[38;5;167;01mException\u001b[39;00m:\n\u001b[0;32m   1227\u001b[0m     \u001b[38;5;28mself\u001b[39m\u001b[38;5;241m.\u001b[39mlog\u001b[38;5;241m.\u001b[39mwarning(\u001b[38;5;124m\"\u001b[39m\u001b[38;5;124mInvalid Message:\u001b[39m\u001b[38;5;124m\"\u001b[39m, exc_info\u001b[38;5;241m=\u001b[39m\u001b[38;5;28;01mTrue\u001b[39;00m)\n",
      "\u001b[1;31mKeyboardInterrupt\u001b[0m: Interrupted by user"
     ]
    }
   ],
   "source": [
    "data.annotate_all_guis_gpt_revision(start_gui_no=0, end_gui_no=10, factor_id=0, load_gui=False, turn_on_revision=True)"
   ]
  },
  {
   "cell_type": "code",
   "execution_count": 4,
   "id": "18553eb6",
   "metadata": {},
   "outputs": [
    {
     "data": {
      "text/plain": [
       "[{'role': 'system',\n",
       "  'content': 'You are a mobile virtual assistant that understands and interacts with the user interface to complete a given task.'},\n",
       " {'role': 'user',\n",
       "  'content': 'You will be given some view hierarchies of UIs containing various UI blocks and elements.'},\n",
       " {'role': 'user',\n",
       "  'content': 'Here are some examples with appropriate UI summarization.'},\n",
       " {'role': 'user',\n",
       "  'content': '#Example Summarization: The UI contains a root element, which acts as the parent container. Within the root, there is a DatePicker widget positioned at the top. The DatePicker consists of multiple elements, including a year display at the top left, a date display at the top right, a calendar view in the center, and previous and next month buttons positioned at the bottom corners. Finally, there is a Done button located below the DatePicker widget..\\n #Summarization Rules:  - Summerize in one paragraph, do not use list.. - State the related positions of the elements.'},\n",
       " {'role': 'user',\n",
       "  'content': 'Learn from the #Example Summarization and exactly follow the #Summarization Rules in future '},\n",
       " {'role': 'user',\n",
       "  'content': \"Summarize this UI in terms of Key Elements. UI: {'clickable': False, 'class': 'root', 'id': 0, 'area': {'height': 1440, 'length': 2560}, 'children': [{'clickable': True, 'class': '.widget.RelativeLayout', 'id': 1, 'area': {'height': 1440, 'length': 2112}, 'children': [{'resource-id': 'se.perigee.seven:id/video', 'clickable': True, 'class': 'com.perigee.seven.ui.view.VideoView', 'id': 2, 'area': {'height': 1440, 'length': 1440}, 'description': ' LUNGES 30'}, {'resource-id': 'se.perigee.seven:id/video_overlay', 'clickable': True, 'class': '.view.View', 'id': 3, 'area': {'height': 1440, 'length': 1522}, 'description': ' LUNGES 30'}, {'resource-id': 'se.perigee.seven:id/text_exercise', 'clickable': True, 'class': '.support.v7.widget.AppCompatTextView', 'id': 4, 'area': {'height': 1384, 'length': 183}, 'description': 'Lunges'}, {'resource-id': 'se.perigee.seven:id/progress', 'clickable': True, 'class': 'com.perigee.seven.ui.view.SegmentedProgressView', 'id': 5, 'area': {'height': 350, 'length': 350}}, {'resource-id': 'se.perigee.seven:id/forward', 'clickable': True, 'class': '.support.v7.widget.AppCompatImageView', 'id': 6, 'area': {'height': 344, 'length': 350}, 'description': 'Forward'}, {'resource-id': 'se.perigee.seven:id/backward', 'clickable': True, 'class': '.support.v7.widget.AppCompatImageView', 'id': 7, 'area': {'height': 344, 'length': 350}, 'description': 'Backwards'}]}, {'resource-id': 'se.perigee.seven:id/action_bar', 'clickable': False, 'class': '.support.v7.widget.Toolbar', 'id': 8, 'area': {'height': 1440, 'length': 196}, 'children': [{'clickable': False, 'class': '.support.v7.widget.AppCompatTextView', 'id': 9, 'area': {'height': 541, 'length': 93}, 'description': 'Exercise 10 of 12'}, {'clickable': True, 'class': '.support.v7.widget.AppCompatImageButton', 'id': 10, 'area': {'height': 196, 'length': 196}, 'description': ' Exercise 10 of 12 / Navigate up'}]}]}\"},\n",
       " {'role': 'assistant',\n",
       "  'content': 'The given UI contains a root element, which acts as the parent container. Within the root element, there are two main sections. The first section consists of a RelativeLayout widget with multiple child elements. These child elements include a VideoView widget, a View widget acting as an overlay on the video, an AppCompatTextView displaying the exercise name, a SegmentedProgressView widget showing the progress of the exercise, and two AppCompatImageView widgets for forward and backward navigation. \\n\\nThe second section is a Toolbar widget located at the top. It contains two child elements: an AppCompatTextView showing the current exercise number, and an AppCompatImageButton for navigation purposes. The UI also provides additional information such as resource IDs, clickable states, class names, and area dimensions of each element.'},\n",
       " {'role': 'user',\n",
       "  'content': 'Your summarization does not perfectly meet our expectation, consider revise it with the following revision suggestions: State the related positions of the elements'},\n",
       " {'role': 'assistant',\n",
       "  'content': 'The given UI contains a root element, which acts as the parent container. Within the root element, there are two main sections. The first section, positioned at the center, consists of a RelativeLayout widget with multiple child elements. These child elements include a VideoView widget and an overlay View widget, both covering the entire screen. Below them, there is an AppCompatTextView displaying the exercise name and a SegmentedProgressView widget showing the progress, placed at the center-right side. At the bottom, there are two AppCompatImageView widgets for forward and backward navigation. \\n\\nThe second section is a Toolbar widget located at the top of the screen. It contains an AppCompatTextView showing the current exercise number, positioned at the top-left corner, and an AppCompatImageButton for navigation purposes, placed at the top-right corner. The UI also maintains additional information such as resource IDs, clickable states, class names, and area dimensions of each element.'}]"
      ]
     },
     "execution_count": 4,
     "metadata": {},
     "output_type": "execute_result"
    }
   ],
   "source": [
    "data.llm_summarizer.conversation"
   ]
  },
  {
   "cell_type": "code",
   "execution_count": null,
   "id": "98d4aa12",
   "metadata": {},
   "outputs": [],
   "source": []
  }
 ],
 "metadata": {
  "kernelspec": {
   "display_name": "Python 3 (ipykernel)",
   "language": "python",
   "name": "python3"
  },
  "language_info": {
   "codemirror_mode": {
    "name": "ipython",
    "version": 3
   },
   "file_extension": ".py",
   "mimetype": "text/x-python",
   "name": "python",
   "nbconvert_exporter": "python",
   "pygments_lexer": "ipython3",
   "version": "3.10.10"
  }
 },
 "nbformat": 4,
 "nbformat_minor": 5
}
