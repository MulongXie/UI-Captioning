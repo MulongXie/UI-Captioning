{
 "cells": [
  {
   "cell_type": "code",
   "execution_count": 1,
   "id": "14cb01c7",
   "metadata": {
    "scrolled": true
   },
   "outputs": [
    {
     "name": "stderr",
     "output_type": "stream",
     "text": [
      "C:\\Users\\xie029\\AppData\\Local\\Programs\\Python\\Python310\\lib\\site-packages\\tqdm\\auto.py:22: TqdmWarning: IProgress not found. Please update jupyter and ipywidgets. See https://ipywidgets.readthedocs.io/en/stable/user_install.html\n",
      "  from .autonotebook import tqdm as notebook_tqdm\n"
     ]
    }
   ],
   "source": [
    "from DataCollector import DataCollector"
   ]
  },
  {
   "cell_type": "code",
   "execution_count": 2,
   "id": "8bdaa461",
   "metadata": {},
   "outputs": [],
   "source": [
    "data = DataCollector(input_dir='C:/Mulong/Data/rico/rico_sca', \n",
    "                     output_dir='C:/Mulong/Data/ui captioning - rs', \n",
    "                     engine_model='gpt-3.5-turbo')"
   ]
  },
  {
   "cell_type": "code",
   "execution_count": 3,
   "id": "02d1bcf9",
   "metadata": {},
   "outputs": [
    {
     "name": "stdout",
     "output_type": "stream",
     "text": [
      "Load C:/Mulong/Data/ui captioning - rs\\annotation\\2_Key Element.json\n",
      "Load C:/Mulong/Data/ui captioning - rs\\annotation\\3_Key Element.json\n",
      "Load C:/Mulong/Data/ui captioning - rs\\annotation\\4_Key Element.json\n"
     ]
    }
   ],
   "source": [
    "data.load_annotations(start_gui_no=1, end_gui_no=5, factor_id=0, revise_stop_point=1)"
   ]
  },
  {
   "cell_type": "code",
   "execution_count": 5,
   "id": "623227da",
   "metadata": {
    "scrolled": false
   },
   "outputs": [],
   "source": [
    "data.annotate_gui_gpt_revision(gui_img_file='data/rico/raw/2.jpg', gui_json_file='data/rico/raw/2.json', \n",
    "                               factor='key elements', load_gui=False)"
   ]
  },
  {
   "cell_type": "code",
   "execution_count": 3,
   "id": "1a0eee9c",
   "metadata": {},
   "outputs": [
    {
     "name": "stdout",
     "output_type": "stream",
     "text": [
      "\n",
      "\n",
      "+++ Annotating +++ [0 / 10] C:/Mulong/Data/rico/rico_sca\\2.jpg\n",
      "\n",
      "*** GUI Analysis ***\n",
      "\n",
      "==============================\n",
      "\n",
      "*** Summarization [Key Elements] ***\n",
      "Key Elements of the UI:\n",
      "1. root: This is the root element of the UI hierarchy.\n",
      "2. DatePicker: This is a widget containing a date picker.\n",
      "3. AppCompatTextView: This is a text view element representing the year and date in the date picker.\n",
      "4. SimpleMonthView: This is a widget representing the days of the month in the date picker.\n",
      "5. AppCompatImageButton: These are buttons for navigating to the previous and next months in the date picker.\n",
      "6. AppCompatButton: This is a button element with the label \"Done\".\n",
      "Do you want to revise the summarization? (\"y\" or \"n\"): y\n",
      "\n",
      "*** Revision Suggestions ***\n",
      "-- Input revision points: Summerize in one paragraph, don't use list\n",
      "\n",
      "==============================\n",
      "\n",
      "*** Summarization [Key Elements] ***\n",
      "The UI hierarchy consists of a root element with a DatePicker widget. The DatePicker includes elements such as AppCompatTextView for displaying the year and date, SimpleMonthView for displaying the days of the month, and AppCompatImageButton for navigating to the previous and next months. Additionally, there is an AppCompatButton labeled \"Done\" for confirming the selected date.\n",
      "Do you want to revise the summarization? (\"y\" or \"n\"): n\n",
      "Do you want to turn off revision from now? (\"y\" or \"n\"): n\n",
      "\n",
      "\n",
      "+++ Annotating +++ [1 / 10] C:/Mulong/Data/rico/rico_sca\\3.jpg\n",
      "\n",
      "*** GUI Analysis ***\n",
      "\n",
      "==============================\n",
      "\n",
      "*** Summarization [Key Elements] ***\n",
      "The UI hierarchy consists of a root element containing a RelativeLayout widget with various child elements. These child elements include a VideoView widget for displaying a video, a View overlay, an AppCompatTextView for displaying the exercise name, a SegmentedProgressView for displaying progress, and two AppCompatImageViews for navigating forward and backward. There is also a Toolbar element at the top with an AppCompatTextView displaying the exercise number and an AppCompatImageButton for navigating up.\n",
      "Do you want to revise the summarization? (\"y\" or \"n\"): y\n",
      "\n",
      "*** Revision Suggestions ***\n",
      "-- Input revision points: Describe the related positions of the elements\n",
      "\n",
      "==============================\n",
      "\n",
      "*** Summarization [Key Elements] ***\n",
      "The UI hierarchy consists of a root element with the position (0, 0) and dimensions (2560, 1440). It contains a RelativeLayout widget at position (0, 0) with dimensions (2112, 1440). Within the RelativeLayout, there is a VideoView widget at position (0,0) with dimensions (1440, 1440), a View overlay at position (0, 0) with dimensions (1522, 1440), an AppCompatTextView for the exercise name at position (0,0) with dimensions (183, 1384), a SegmentedProgressView for displaying progress at position (0, 0) with dimensions (350, 350), and two AppCompatImageViews for navigating forward and backward at the specified positions. Additionally, there is a Toolbar element at the top with an AppCompatTextView displaying the exercise number at position (0, 0) with dimensions (93, 541) and an AppCompatImageButton for navigating up at position (0, 0) with dimensions (196, 196).\n",
      "Do you want to revise the summarization? (\"y\" or \"n\"): n\n",
      "Do you want to turn off revision from now? (\"y\" or \"n\"): n\n",
      "\n",
      "\n",
      "+++ Annotating +++ [2 / 10] C:/Mulong/Data/rico/rico_sca\\4.jpg\n",
      "\n",
      "*** GUI Analysis ***\n",
      "\n",
      "==============================\n",
      "\n",
      "*** Summarization [Key Elements] ***\n",
      "The UI hierarchy consists of a root element with a ScrollView widget. Within the ScrollView, there is a CardView widget containing various elements such as AppCompatTextViews for displaying workout summary information, AppCompatImageViews for displaying workout icons and additional information, and an AppCompatButton for refreshing the summary. \n",
      "Below the ScrollView, there is another CardView widget dedicated to displaying achieved achievements. This CardView includes an AppCompatTextView for labeling achievements and a WrappedGridView containing multiple LinearLayouts, each representing an achievement. Each LinearLayout within the WrappedGridView contains an AppCompatImageView for displaying the achievement icon and an AppCompatTextView for displaying the achievement name. \n",
      "Next is another CardView widget for displaying active calories information. This CardView includes an AppCompatTextView for labeling active calories and a CaloriesGraphView for showing a chart of calories burned. Additionally, there is a RelativeLayout with an AppCompatImageView and an AppCompatTextView for prompting users to enter their body details for calorie tracking.\n",
      "Lastly, there is a Toolbar element containing an AppCompatTextView displaying a congratulatory message, an AppCompatImageButton for navigating back to the workout summary, and an ActionMenuItemView for sharing the workout information.\n",
      "Do you want to revise the summarization? (\"y\" or \"n\"): n\n",
      "Do you want to turn off revision from now? (\"y\" or \"n\"): y\n",
      "\n",
      "\n",
      "+++ Annotating +++ [3 / 10] C:/Mulong/Data/rico/rico_sca\\6.jpg\n",
      "\n",
      "*** GUI Analysis ***\n",
      "\n",
      "==============================\n",
      "\n",
      "*** Summarization [Key Elements] ***\n",
      "The UI hierarchy consists of a root element with the following key elements: \n",
      "1. Start Workout button with the label \"Workout Circuits Full Body / Start\"\n",
      "2. Start button\n",
      "3. Workout button\n",
      "4. Session Workout section with an image, the text \"Full Body\", and the text \"Workout\"\n",
      "5. Session Circuits section with an image, the text \"1\", and the text \"Circuits\"\n",
      "6. Session Instructor section with an image, the text \"Announcer\", and the text \"Instructor\"\n",
      "7. BottomBar with tabs for Workout, Learn, Achievements, and Track. Each tab has an icon and a label.\n",
      "8. ActionBar with the label \"Workout\" and options for Info and More options.\n",
      "These elements are positioned within the UI hierarchy and provide various functionalities for the user.\n",
      "\n",
      "\n",
      "+++ Annotating +++ [4 / 10] C:/Mulong/Data/rico/rico_sca\\8.jpg\n",
      "\n",
      "*** GUI Analysis ***\n",
      "\n",
      "==============================\n",
      "\n",
      "*** Summarization [Key Elements] ***\n",
      "The UI hierarchy consists of a root element with a width of 2560 and height of 1440 pixels. It contains a ScrollView widget with a width of 2112 and height of 1440 pixels. Within the ScrollView, there are several elements including an AppCompatTextView with the description 'Google Fit data', a CheckableRelativeLayout with a Google Fit description and a Switch element, another AppCompatTextView with the description 'Enable Google Fit to sync workouts, record calories and keep body details updated', an AppCompatTextView with the description 'Body details', three RelativeLayout widgets with descriptions 'Date of birth', 'Biological sex', and 'Weight', respectively, and a RelativeLayout widget with the description 'Height'. Additionally, there is a Toolbar element with an AppCompatTextView displaying 'Google Fit' and an AppCompatImageButton for navigation purposes.\n",
      "\n",
      "\n",
      "+++ Annotating +++ [5 / 10] C:/Mulong/Data/rico/rico_sca\\14.jpg\n",
      "\n",
      "*** GUI Analysis ***\n",
      "\n",
      "==============================\n",
      "\n",
      "*** Summarization [Key Elements] ***\n",
      "The UI hierarchy consists of a root element with dimensions (2560, 1440). It contains a RecyclerView widget with dimensions (2112, 1440). The RecyclerView contains multiple LinearLayout widgets, each representing a different exercise category. Each LinearLayout widget contains an ImageView, TextViews for exercise information, an ImageView for indicating lock status, and an ImageView for showing additional information. Additionally, there is a TextView displaying the month \"April\" and a Toolbar element at the top, consisting of a TextView for displaying the title \"Workouts\" and an ImageButton for navigating up.\n",
      "\n",
      "\n",
      "+++ Annotating +++ [6 / 10] C:/Mulong/Data/rico/rico_sca\\15.jpg\n",
      "\n",
      "*** GUI Analysis ***\n",
      "\n",
      "==============================\n",
      "\n",
      "*** Summarization [Key Elements] ***\n",
      "The provided UI hierarchy consists of a root element with the dimensions 2560x1440. It includes a RecyclerView widget containing multiple items. Each item is a LinearLayout with several child elements. These elements include an ImageView, TextViews, an ImageView indicator, and an ImageView for additional information. The RecyclerView also contains a FloatingActionButton with the description 'add'. The UI hierarchy also includes a Toolbar element at the top, containing an AppCompatTextView displaying the title 'Workouts' and an AppCompatImageButton for navigation.\n"
     ]
    },
    {
     "name": "stdout",
     "output_type": "stream",
     "text": [
      "\n",
      "\n",
      "+++ Annotating +++ [7 / 10] C:/Mulong/Data/rico/rico_sca\\17.jpg\n",
      "\n",
      "*** GUI Analysis ***\n",
      "\n",
      "==============================\n",
      "\n",
      "*** Summarization [Key Elements] ***\n",
      "The UI hierarchy consists of a root element with a DialogTitle widget displaying the title \"User Licenses\". Below the title, there is a View widget acting as a title divider. The main content of the UI is a TextView widget displaying a copyright message along with information about the Apache License, Version 2.0. At the bottom, there is a Button widget labeled \"OK\" for closing the dialog.\n",
      "\n",
      "\n",
      "+++ Annotating +++ [8 / 10] C:/Mulong/Data/rico/rico_sca\\21.jpg\n",
      "\n",
      "*** GUI Analysis ***\n",
      "\n",
      "==============================\n",
      "\n",
      "*** Summarization [Key Elements] ***\n",
      "The UI hierarchy consists of a root element with a fixed area size of 1440x2308. Within the root element, there are multiple child elements. The first child element is an ImageView with a size of 84x84 and a description of \"color swatch\". The second child element is a TextView with a size of 1188x224 and a description of \"Open with Web Browser\". The third child element is a Button with a size of 344x168 and a description of \"Just once\". The fourth child element is another Button with a size of 273x168 and a description of \"Always\". The fifth child element is a ListView with a size of 1440x588. Within the ListView, there are multiple child elements including a TextView with a size of 1440x196 and a description of \"Use a different app\", an ImageView with a size of 84x84 and a description of \"color swatch\", a TextView with a size of 367x85 and a description of \"Web Browser\", a TextView with a size of 453x66 and a description of \"explore.web.browser\", an ImageView with a size of 84x84 and a description of \"globe\", and a TextView with a size of 227x85 and a description of \"Browser\".\n",
      "\n",
      "\n",
      "+++ Annotating +++ [9 / 10] C:/Mulong/Data/rico/rico_sca\\23.jpg\n",
      "\n",
      "*** GUI Analysis ***\n",
      "\n",
      "==============================\n",
      "\n",
      "*** Summarization [Key Elements] ***\n",
      "The UI hierarchy consists of a root element with a DialogTitle widget displaying the title \"Browser Tips\". Below the title, there is a horizontal line divider. The main content of the UI is displayed as a TextView with the message containing five tips for using the browser. At the bottom of the UI, there is a Button labeled \"Ok\" for confirming and closing the dialog.\n"
     ]
    }
   ],
   "source": [
    "data.annotate_all_guis_gpt_revision(start_gui_no=0, end_gui_no=10, factor_id=0, load_gui=False, turn_on_revision=True)"
   ]
  },
  {
   "cell_type": "code",
   "execution_count": null,
   "id": "616a2b58",
   "metadata": {},
   "outputs": [],
   "source": []
  },
  {
   "cell_type": "code",
   "execution_count": 4,
   "id": "18553eb6",
   "metadata": {},
   "outputs": [
    {
     "data": {
      "text/plain": [
       "[{'role': 'system',\n",
       "  'content': 'You are a mobile virtual assistant that understands and interacts with the user interface to complete a given task.'},\n",
       " {'role': 'user',\n",
       "  'content': 'You will be given some view hierarchies of UIs containing various UI blocks and elements.'},\n",
       " {'role': 'user',\n",
       "  'content': 'Here is the example of appropriate UI summarization.\\n#Example Summarization: The UI hierarchy consists of a root element with a DatePicker widget. The DatePicker includes elements such as AppCompatTextView for displaying the year and date, SimpleMonthView for displaying the days of the month, and AppCompatImageButton for navigating to the previous and next months. Additionally, there is an AppCompatButton labeled \"Done\" for confirming the selected date..\\n #Summarization Rules:  - Summerize in one paragraph, don\\'t use list\\n - Describe the related positions of the elements\\n\\nLearn from the #Example Summarization and strictly follow the #Summarization Rules in future summarization.'},\n",
       " {'role': 'user',\n",
       "  'content': \"Summarize this UI in terms of Key Elements. UI: {'clickable': False, 'class': 'root', 'id': 0, 'area': {'height': 1368, 'length': 1547}, 'children': [{'resource-id': ':id/alertTitle', 'clickable': False, 'class': 'com.internal.widget.DialogTitle', 'id': 1, 'area': {'height': 1144, 'length': 103}, 'description': 'Browser Tips'}, {'resource-id': ':id/titleDivider', 'clickable': False, 'class': '.view.View', 'id': 2, 'area': {'height': 1256, 'length': 7}, 'description': ' Ok'}, {'resource-id': ':id/message', 'clickable': False, 'class': '.widget.TextView', 'id': 3, 'area': {'height': 1256, 'length': 1090}, 'description': '1. Long-press back button to exit browser\\\\n\\\\n2. Swipe from left edge toward the right (---->) to go back\\\\n\\\\n3. Swipe from right edge toward the left (<----)to go forward\\\\n\\\\n4. Visit settings and advanced settings to change options\\\\n\\\\n5. Long-press on the new tab button to open the last closed tab'}, {'resource-id': ':id/button1', 'clickable': True, 'class': '.widget.Button', 'id': 4, 'area': {'height': 1256, 'length': 168}, 'description': 'Ok'}]}\"},\n",
       " {'role': 'assistant',\n",
       "  'content': 'The UI hierarchy consists of a root element with a DialogTitle widget displaying the title \"Browser Tips\". Below the title, there is a horizontal line divider. The main content of the UI is displayed as a TextView with the message containing five tips for using the browser. At the bottom of the UI, there is a Button labeled \"Ok\" for confirming and closing the dialog.'}]"
      ]
     },
     "execution_count": 4,
     "metadata": {},
     "output_type": "execute_result"
    }
   ],
   "source": [
    "data.llm_summarizer.conversation"
   ]
  },
  {
   "cell_type": "code",
   "execution_count": 5,
   "id": "98d4aa12",
   "metadata": {},
   "outputs": [
    {
     "data": {
      "text/plain": [
       "' - Do not use list but just describe all elements in one paragraph - Describe the relative position of the elements. - Do not describe the detailed length and height of the elements. - Do not itemlize the elements, answer all in one paragraph'"
      ]
     },
     "execution_count": 5,
     "metadata": {},
     "output_type": "execute_result"
    }
   ],
   "source": [
    "data.revise_suggestions"
   ]
  }
 ],
 "metadata": {
  "kernelspec": {
   "display_name": "Python 3 (ipykernel)",
   "language": "python",
   "name": "python3"
  },
  "language_info": {
   "codemirror_mode": {
    "name": "ipython",
    "version": 3
   },
   "file_extension": ".py",
   "mimetype": "text/x-python",
   "name": "python",
   "nbconvert_exporter": "python",
   "pygments_lexer": "ipython3",
   "version": "3.10.10"
  }
 },
 "nbformat": 4,
 "nbformat_minor": 5
}
