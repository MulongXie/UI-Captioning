{
 "cells": [
  {
   "cell_type": "code",
   "execution_count": 1,
   "id": "14cb01c7",
   "metadata": {
    "scrolled": true
   },
   "outputs": [
    {
     "name": "stderr",
     "output_type": "stream",
     "text": [
      "C:\\Users\\xie029\\AppData\\Local\\Programs\\Python\\Python310\\lib\\site-packages\\tqdm\\auto.py:22: TqdmWarning: IProgress not found. Please update jupyter and ipywidgets. See https://ipywidgets.readthedocs.io/en/stable/user_install.html\n",
      "  from .autonotebook import tqdm as notebook_tqdm\n"
     ]
    }
   ],
   "source": [
    "from DataCollector import DataCollector"
   ]
  },
  {
   "cell_type": "code",
   "execution_count": 2,
   "id": "8bdaa461",
   "metadata": {},
   "outputs": [],
   "source": [
    "data = DataCollector(input_dir='C:/Mulong/Data/rico/rico_sca', \n",
    "                     output_dir='C:/Mulong/Data/ui captioning - rs', \n",
    "                     engine_model='gpt-3.5-turbo')"
   ]
  },
  {
   "cell_type": "code",
   "execution_count": 3,
   "id": "02d1bcf9",
   "metadata": {},
   "outputs": [
    {
     "name": "stdout",
     "output_type": "stream",
     "text": [
      "Load C:/Mulong/Data/ui captioning - rs\\annotation\\2_Key Element.json\n",
      "Load C:/Mulong/Data/ui captioning - rs\\annotation\\3_Key Element.json\n",
      "Load C:/Mulong/Data/ui captioning - rs\\annotation\\4_Key Element.json\n"
     ]
    }
   ],
   "source": [
    "data.load_annotations(start_gui_no=1, end_gui_no=5, factor_id=0, revise_stop_point=1)"
   ]
  },
  {
   "cell_type": "code",
   "execution_count": 5,
   "id": "623227da",
   "metadata": {
    "scrolled": false
   },
   "outputs": [],
   "source": [
    "data.annotate_gui_gpt_revision(gui_img_file='data/rico/raw/2.jpg', gui_json_file='data/rico/raw/2.json', \n",
    "                               factor='key elements', load_gui=False)"
   ]
  },
  {
   "cell_type": "code",
   "execution_count": 3,
   "id": "1a0eee9c",
   "metadata": {},
   "outputs": [
    {
     "name": "stdout",
     "output_type": "stream",
     "text": [
      "\n",
      "\n",
      "+++ Annotating +++ [0 / 10] C:/Mulong/Data/rico/rico_sca\\2.jpg\n",
      "\n",
      "*** GUI Analysis ***\n",
      "\n",
      "==============================\n",
      "\n",
      "*** Summarization [Key Elements] ***\n",
      "Key Elements in the given UI:\n",
      "1. DatePicker: A widget for selecting a date.\n",
      "   - Year TextView: Displays the selected year (clickable).\n",
      "   - Date TextView: Displays the selected date (clickable).\n",
      "   - Month View: Displays the days of the selected month.\n",
      "   - Previous Button: Navigates to the previous month (clickable).\n",
      "   - Next Button: Navigates to the next month (clickable).\n",
      "2. Done Button: A button for confirming the selected date (clickable).\n",
      "Do you want to revise the summarization? (\"y\" or \"n\"): y\n",
      "\n",
      "*** Revision Suggestions ***\n",
      "-- Input revision points: Do not use list but just describe all elements in one paragraph\n",
      "\n",
      "==============================\n",
      "\n",
      "*** Summarization [Key Elements] ***\n",
      "In the given UI, we have a DatePicker widget which allows the user to select a date. It consists of a Year TextView that displays the selected year and is clickable, a Date TextView that shows the selected date and is clickable as well. It also includes a Month View which displays the days of the selected month. Additionally, there are Previous and Next buttons that allow the user to navigate to the previous or next month respectively, and both of these buttons are clickable. Finally, there is a Done Button that serves as a confirmation for the selected date and is also clickable.\n",
      "Do you want to revise the summarization? (\"y\" or \"n\"): y\n",
      "\n",
      "*** Revision Suggestions ***\n",
      "-- Input revision points: Describe the relative position of the elements.\n",
      "\n",
      "==============================\n",
      "\n",
      "*** Summarization [Key Elements] ***\n",
      "In the given UI, we have a DatePicker widget located at the top of the screen. It consists of a Year TextView on the left side, displaying the selected year, and a Date TextView on the right side, showing the selected date. Below the Year and Date TextViews, there is a Month View displaying the days of the selected month. On the bottom left, there is a Previous Button that allows the user to navigate to the previous month. On the bottom right, there is a Next Button to navigate to the next month. Finally, at the bottom center, there is a Done Button that serves as a confirmation for the selected date.\n",
      "Do you want to revise the summarization? (\"y\" or \"n\"): n\n",
      "Do you want to turn off revision from now? (\"y\" or \"n\"): n\n",
      "\n",
      "\n",
      "+++ Annotating +++ [1 / 10] C:/Mulong/Data/rico/rico_sca\\3.jpg\n",
      "\n",
      "*** GUI Analysis ***\n",
      "\n",
      "==============================\n",
      "\n",
      "*** Summarization [Key Elements] ***\n",
      "In the given UI, we have a root view with a RelativeLayout as one of its child views. The RelativeLayout contains multiple child views including a VideoView displaying the video \"LUNGES 30\", a View with a video overlay, an AppCompatTextView displaying the text \"Lunges\", a SegmentedProgressView displaying a progress indicator, and two AppCompatImageViews with descriptions \"Forward\" and \"Backwards\". \n",
      "There is also a Toolbar as another child view of the root view. It contains an AppCompatTextView displaying the text \"Exercise 10 of 12\" and an AppCompatImageButton with a description \"Exercise 10 of 12 / Navigate up\". \n",
      "The overall UI has a height of 1440 and length of 2560. The VideoView has a square shape with dimensions 1440 x 1440, taking up most of the space. The AppCompatTextViews and AppCompatImageViews have various heights and lengths.\n",
      "Do you want to revise the summarization? (\"y\" or \"n\"): y\n",
      "\n",
      "*** Revision Suggestions ***\n",
      "-- Input revision points: Do not describe the detailed length and height of the elements.\n",
      "\n",
      "==============================\n",
      "\n",
      "*** Summarization [Key Elements] ***\n",
      "In the given UI, we have a VideoView displaying the video \"LUNGES 30\". It is accompanied by a video overlay and an AppCompatTextView showing the text \"Lunges\". There is also a SegmentedProgressView indicating the progress and two AppCompatImageViews with descriptions \"Forward\" and \"Backwards\". \n",
      "The UI also includes a Toolbar with an AppCompatTextView displaying the text \"Exercise 10 of 12\" and an AppCompatImageButton for navigation. \n",
      "The overall UI consists of these elements and their respective descriptions.\n",
      "Do you want to revise the summarization? (\"y\" or \"n\"): n\n",
      "Do you want to turn off revision from now? (\"y\" or \"n\"): n\n",
      "\n",
      "\n",
      "+++ Annotating +++ [2 / 10] C:/Mulong/Data/rico/rico_sca\\4.jpg\n",
      "\n",
      "*** GUI Analysis ***\n",
      "\n",
      "==============================\n",
      "\n",
      "*** Summarization [Key Elements] ***\n",
      "In this UI, we have the following key elements:\n",
      "- Workout summary: A CardView displaying workout summary information such as the workout type (Full Body) and the duration (7:53 Minutes).\n",
      "- Achievements: A CardView displaying unlocked achievements. It contains a grid of achievement cards, each card consisting of an image and a description.\n",
      "- Active Calories: A CardView displaying information about active calories burned during the workout.\n",
      "- Calories chart: A CaloriesGraphView displaying the calories burned over time. It also includes an overlay with options to see all ads and enter body details for tracking calories.\n",
      "- Navigation toolbar: A Toolbar at the top of the screen with options to navigate back, share the workout, and display a \"Well Done!\" message.\n",
      "\n",
      "Do you want to revise the summarization? (\"y\" or \"n\"): y\n",
      "\n",
      "*** Revision Suggestions ***\n",
      "-- Input revision points: Do not itemlize the elements, answer all in one paragraph\n",
      "\n",
      "==============================\n",
      "\n",
      "*** Summarization [Key Elements] ***\n",
      "In this UI, we have a root view containing multiple elements. The main content area consists of a ScrollView, which contains several CardViews representing workout summaries, unlocked achievements, and active calories. Each CardView contains different TextViews and ImageView elements displaying relevant information. There is also a CaloriesGraphView displaying a chart of calories burned over time. Additionally, there is a navigation toolbar at the top of the screen, providing options to navigate back, share the workout, and display a \"Well Done!\" message.\n",
      "Do you want to revise the summarization? (\"y\" or \"n\"): n\n",
      "Do you want to turn off revision from now? (\"y\" or \"n\"): n\n",
      "\n",
      "\n",
      "+++ Annotating +++ [3 / 10] C:/Mulong/Data/rico/rico_sca\\6.jpg\n",
      "\n",
      "*** GUI Analysis ***\n",
      "\n",
      "==============================\n",
      "\n",
      "*** Summarization [Key Elements] ***\n",
      "In the given UI, there is a root view with a height of 1440 and length of 2560. It contains several key elements:\n",
      "1. Start Workout button: An AppCompatImageView with the description \"START WORKOUT Workout Circuits Full Body / Start\".\n",
      "2. Start and Workout buttons: Both are AutoResizeTextView elements.\n",
      "3. Session Workout: A LinearLayout that contains an image, displaying \"location search\", and two AppCompatTextView elements with descriptions \"Full Body\" and \"Workout\".\n",
      "4. Session Circuits: Another LinearLayout with an image, displaying \"refresh\", and two AppCompatTextView elements with descriptions \"1\" and \"Circuits\".\n",
      "5. Session Instructor: The LinearLayout has an image, text description \"Announcer\", and \"Instructor\".\n",
      "6. BottomBar: A BottomBar element with various tabs. Each tab has an icon and a text description.\n",
      "7. ActionBar: The Toolbar contains an AppCompatTextView with the text \"Workout\" and an ActionMenuView with two clickable elements: \"Info\" and \"More options\".\n",
      "These are the key elements within the given UI hierarchy.\n"
     ]
    },
    {
     "ename": "KeyboardInterrupt",
     "evalue": "",
     "output_type": "error",
     "traceback": [
      "\u001b[1;31m---------------------------------------------------------------------------\u001b[0m",
      "\u001b[1;31mKeyboardInterrupt\u001b[0m                         Traceback (most recent call last)",
      "Cell \u001b[1;32mIn[3], line 1\u001b[0m\n\u001b[1;32m----> 1\u001b[0m \u001b[43mdata\u001b[49m\u001b[38;5;241;43m.\u001b[39;49m\u001b[43mannotate_all_guis_gpt_revision\u001b[49m\u001b[43m(\u001b[49m\u001b[43mstart_gui_no\u001b[49m\u001b[38;5;241;43m=\u001b[39;49m\u001b[38;5;241;43m0\u001b[39;49m\u001b[43m,\u001b[49m\u001b[43m \u001b[49m\u001b[43mend_gui_no\u001b[49m\u001b[38;5;241;43m=\u001b[39;49m\u001b[38;5;241;43m10\u001b[39;49m\u001b[43m,\u001b[49m\u001b[43m \u001b[49m\u001b[43mfactor_id\u001b[49m\u001b[38;5;241;43m=\u001b[39;49m\u001b[38;5;241;43m0\u001b[39;49m\u001b[43m,\u001b[49m\u001b[43m \u001b[49m\u001b[43mload_gui\u001b[49m\u001b[38;5;241;43m=\u001b[39;49m\u001b[38;5;28;43;01mFalse\u001b[39;49;00m\u001b[43m,\u001b[49m\u001b[43m \u001b[49m\u001b[43mturn_on_revision\u001b[49m\u001b[38;5;241;43m=\u001b[39;49m\u001b[38;5;28;43;01mTrue\u001b[39;49;00m\u001b[43m)\u001b[49m\n",
      "File \u001b[1;32mC:\\Mulong\\Code\\UI-Captioning\\DataCollector.py:258\u001b[0m, in \u001b[0;36mDataCollector.annotate_all_guis_gpt_revision\u001b[1;34m(self, start_gui_no, end_gui_no, factor_id, load_gui, turn_on_revision, wait_time)\u001b[0m\n\u001b[0;32m    256\u001b[0m gui_vh_file \u001b[38;5;241m=\u001b[39m \u001b[38;5;28mself\u001b[39m\u001b[38;5;241m.\u001b[39mvh_files[start_gui_no \u001b[38;5;241m+\u001b[39m i]\n\u001b[0;32m    257\u001b[0m \u001b[38;5;28mprint\u001b[39m(\u001b[38;5;124m'\u001b[39m\u001b[38;5;130;01m\\n\u001b[39;00m\u001b[38;5;130;01m\\n\u001b[39;00m\u001b[38;5;124m+++ Annotating +++ [\u001b[39m\u001b[38;5;132;01m%d\u001b[39;00m\u001b[38;5;124m / \u001b[39m\u001b[38;5;132;01m%d\u001b[39;00m\u001b[38;5;124m] \u001b[39m\u001b[38;5;132;01m%s\u001b[39;00m\u001b[38;5;124m'\u001b[39m \u001b[38;5;241m%\u001b[39m (i\u001b[38;5;241m+\u001b[39mstart_gui_no, end_gui_no, gui_img_file))\n\u001b[1;32m--> 258\u001b[0m \u001b[38;5;28;43mself\u001b[39;49m\u001b[38;5;241;43m.\u001b[39;49m\u001b[43mannotate_gui_gpt_revision\u001b[49m\u001b[43m(\u001b[49m\u001b[43mgui_img_file\u001b[49m\u001b[43m,\u001b[49m\u001b[43m \u001b[49m\u001b[43mgui_json_file\u001b[49m\u001b[38;5;241;43m=\u001b[39;49m\u001b[43mgui_vh_file\u001b[49m\u001b[43m,\u001b[49m\u001b[43m \u001b[49m\u001b[43mfactor\u001b[49m\u001b[38;5;241;43m=\u001b[39;49m\u001b[38;5;28;43mself\u001b[39;49m\u001b[38;5;241;43m.\u001b[39;49m\u001b[43mannotation_factors\u001b[49m\u001b[43m[\u001b[49m\u001b[43mfactor_id\u001b[49m\u001b[43m]\u001b[49m\u001b[43m,\u001b[49m\u001b[43m \u001b[49m\u001b[43mload_gui\u001b[49m\u001b[38;5;241;43m=\u001b[39;49m\u001b[43mload_gui\u001b[49m\u001b[43m)\u001b[49m\n\u001b[0;32m    259\u001b[0m time\u001b[38;5;241m.\u001b[39msleep(wait_time)\n",
      "File \u001b[1;32mC:\\Mulong\\Code\\UI-Captioning\\DataCollector.py:225\u001b[0m, in \u001b[0;36mDataCollector.annotate_gui_gpt_revision\u001b[1;34m(self, gui_img_file, gui_json_file, factor, load_gui)\u001b[0m\n\u001b[0;32m    223\u001b[0m \u001b[38;5;28mprint\u001b[39m(summarization)\n\u001b[0;32m    224\u001b[0m \u001b[38;5;28;01mif\u001b[39;00m \u001b[38;5;28mself\u001b[39m\u001b[38;5;241m.\u001b[39mturn_on_revision:\n\u001b[1;32m--> 225\u001b[0m     \u001b[43mgui\u001b[49m\u001b[38;5;241;43m.\u001b[39;49m\u001b[43mshow_all_elements\u001b[49m\u001b[43m(\u001b[49m\u001b[43m)\u001b[49m\n\u001b[0;32m    226\u001b[0m     revise \u001b[38;5;241m=\u001b[39m \u001b[38;5;28minput\u001b[39m(\u001b[38;5;124m'\u001b[39m\u001b[38;5;124mDo you want to revise the summarization? (\u001b[39m\u001b[38;5;124m\"\u001b[39m\u001b[38;5;124my\u001b[39m\u001b[38;5;124m\"\u001b[39m\u001b[38;5;124m or \u001b[39m\u001b[38;5;124m\"\u001b[39m\u001b[38;5;124mn\u001b[39m\u001b[38;5;124m\"\u001b[39m\u001b[38;5;124m): \u001b[39m\u001b[38;5;124m'\u001b[39m)\n\u001b[0;32m    227\u001b[0m     \u001b[38;5;28;01mif\u001b[39;00m revise\u001b[38;5;241m.\u001b[39mlower() \u001b[38;5;241m==\u001b[39m \u001b[38;5;124m'\u001b[39m\u001b[38;5;124my\u001b[39m\u001b[38;5;124m'\u001b[39m:\n",
      "File \u001b[1;32mC:\\Mulong\\Code\\UI-Captioning\\module\\GUI.py:411\u001b[0m, in \u001b[0;36mGUI.show_all_elements\u001b[1;34m(self, only_leaves)\u001b[0m\n\u001b[0;32m    409\u001b[0m     cv2\u001b[38;5;241m.\u001b[39mrectangle(board, (bounds[\u001b[38;5;241m0\u001b[39m], bounds[\u001b[38;5;241m1\u001b[39m]), (bounds[\u001b[38;5;241m2\u001b[39m], bounds[\u001b[38;5;241m3\u001b[39m]), color, \u001b[38;5;241m3\u001b[39m)\n\u001b[0;32m    410\u001b[0m cv2\u001b[38;5;241m.\u001b[39mimshow(\u001b[38;5;124m'\u001b[39m\u001b[38;5;124melements\u001b[39m\u001b[38;5;124m'\u001b[39m, cv2\u001b[38;5;241m.\u001b[39mresize(board, (board\u001b[38;5;241m.\u001b[39mshape[\u001b[38;5;241m1\u001b[39m] \u001b[38;5;241m/\u001b[39m\u001b[38;5;241m/\u001b[39m \u001b[38;5;241m3\u001b[39m, board\u001b[38;5;241m.\u001b[39mshape[\u001b[38;5;241m0\u001b[39m] \u001b[38;5;241m/\u001b[39m\u001b[38;5;241m/\u001b[39m \u001b[38;5;241m3\u001b[39m)))\n\u001b[1;32m--> 411\u001b[0m key \u001b[38;5;241m=\u001b[39m \u001b[43mcv2\u001b[49m\u001b[38;5;241;43m.\u001b[39;49m\u001b[43mwaitKey\u001b[49m\u001b[43m(\u001b[49m\u001b[43m)\u001b[49m\n\u001b[0;32m    412\u001b[0m \u001b[38;5;66;03m# cv2.destroyWindow('elements')\u001b[39;00m\n\u001b[0;32m    413\u001b[0m \u001b[38;5;28;01mreturn\u001b[39;00m key\n",
      "\u001b[1;31mKeyboardInterrupt\u001b[0m: "
     ]
    }
   ],
   "source": [
    "data.annotate_all_guis_gpt_revision(start_gui_no=0, end_gui_no=10, factor_id=0, load_gui=False, turn_on_revision=True)"
   ]
  },
  {
   "cell_type": "code",
   "execution_count": 4,
   "id": "18553eb6",
   "metadata": {},
   "outputs": [
    {
     "data": {
      "text/plain": [
       "[{'role': 'system',\n",
       "  'content': 'You are a mobile virtual assistant that understands and interacts with the user interface to complete a given task.'},\n",
       " {'role': 'user',\n",
       "  'content': 'You will be given some view hierarchies of UIs containing various UI blocks and elements.'},\n",
       " {'role': 'user',\n",
       "  'content': 'Here are some examples with appropriate UI summarization.'},\n",
       " {'role': 'user',\n",
       "  'content': '#Example Summarization: In the given UI, we have a VideoView displaying the video \"LUNGES 30\". It is accompanied by a video overlay and an AppCompatTextView showing the text \"Lunges\". There is also a SegmentedProgressView indicating the progress and two AppCompatImageViews with descriptions \"Forward\" and \"Backwards\". \\nThe UI also includes a Toolbar with an AppCompatTextView displaying the text \"Exercise 10 of 12\" and an AppCompatImageButton for navigation. \\nThe overall UI consists of these elements and their respective descriptions..\\n #Summarization Rules:  - Do not use list but just describe all elements in one paragraph - Describe the relative position of the elements. - Do not describe the detailed length and height of the elements.'},\n",
       " {'role': 'user',\n",
       "  'content': 'Learn from the #Example Summarization and exactly follow the #Summarization Rules in future summarization.'},\n",
       " {'role': 'user',\n",
       "  'content': \"Summarize this UI in terms of Key Elements. UI: {'clickable': False, 'class': 'root', 'id': 0, 'area': {'height': 1440, 'length': 2560}, 'children': [{'resource-id': 'se.perigee.seven:id/img_start', 'clickable': True, 'class': '.support.v7.widget.AppCompatImageView', 'id': 1, 'area': {'height': 980, 'length': 980}, 'description': ' START WORKOUT Workout Circuits Full Body / Start'}, {'resource-id': 'se.perigee.seven:id/start_workout_start', 'clickable': True, 'class': 'com.perigee.seven.ui.view.AutoResizeTextView', 'id': 2, 'area': {'height': 637, 'length': 140}, 'description': 'Start'}, {'resource-id': 'se.perigee.seven:id/start_workout_workout', 'clickable': True, 'class': 'com.perigee.seven.ui.view.AutoResizeTextView', 'id': 3, 'area': {'height': 637, 'length': 140}, 'description': 'Workout'}, {'resource-id': 'se.perigee.seven:id/session_workout', 'clickable': True, 'class': '.widget.LinearLayout', 'id': 4, 'area': {'height': 1440, 'length': 186}, 'children': [{'resource-id': 'se.perigee.seven:id/image', 'clickable': True, 'class': '.support.v7.widget.AppCompatImageView', 'id': 5, 'area': {'height': 126, 'length': 91}, 'description': 'location search'}, {'resource-id': 'se.perigee.seven:id/text3', 'clickable': True, 'class': '.support.v7.widget.AppCompatTextView', 'id': 6, 'area': {'height': 292, 'length': 97}, 'description': 'Full Body'}, {'resource-id': 'se.perigee.seven:id/text1', 'clickable': True, 'class': '.support.v7.widget.AppCompatTextView', 'id': 7, 'area': {'height': 270, 'length': 97}, 'description': 'Workout'}]}, {'resource-id': 'se.perigee.seven:id/session_circuits', 'clickable': True, 'class': '.widget.LinearLayout', 'id': 8, 'area': {'height': 1440, 'length': 186}, 'children': [{'resource-id': 'se.perigee.seven:id/image', 'clickable': True, 'class': '.support.v7.widget.AppCompatImageView', 'id': 9, 'area': {'height': 126, 'length': 91}, 'description': 'refresh'}, {'resource-id': 'se.perigee.seven:id/text3', 'clickable': True, 'class': '.support.v7.widget.AppCompatTextView', 'id': 10, 'area': {'height': 40, 'length': 97}, 'description': '1'}, {'resource-id': 'se.perigee.seven:id/text1', 'clickable': True, 'class': '.support.v7.widget.AppCompatTextView', 'id': 11, 'area': {'height': 243, 'length': 97}, 'description': 'Circuits'}]}, {'resource-id': 'se.perigee.seven:id/session_instructor', 'clickable': True, 'class': '.widget.LinearLayout', 'id': 12, 'area': {'height': 1440, 'length': 186}, 'children': [{'resource-id': 'se.perigee.seven:id/image', 'clickable': True, 'class': '.support.v7.widget.AppCompatImageView', 'id': 13, 'area': {'height': 126, 'length': 91}}, {'resource-id': 'se.perigee.seven:id/text3', 'clickable': True, 'class': '.support.v7.widget.AppCompatTextView', 'id': 14, 'area': {'height': 348, 'length': 97}, 'description': 'Announcer'}, {'resource-id': 'se.perigee.seven:id/text1', 'clickable': True, 'class': '.support.v7.widget.AppCompatTextView', 'id': 15, 'area': {'height': 311, 'length': 97}, 'description': 'Instructor'}]}, {'resource-id': 'se.perigee.seven:id/bottomBar', 'clickable': False, 'class': 'com.roughike.bottombar.BottomBar', 'id': 16, 'area': {'height': 1440, 'length': 210}, 'children': [{'resource-id': 'se.perigee.seven:id/bb_bottom_bar_shadow', 'clickable': False, 'class': '.support.v7.widget.AppCompatImageView', 'id': 17, 'area': {'height': 1440, 'length': 14}, 'description': 'share'}, {'resource-id': 'se.perigee.seven:id/bb_bottom_bar_background_overlay', 'clickable': False, 'class': '.view.View', 'id': 18, 'area': {'height': 1440, 'length': 196}}, {'resource-id': 'se.perigee.seven:id/tab_workout', 'clickable': True, 'class': 'com.roughike.bottombar.BottomBarTab', 'id': 19, 'area': {'height': 357, 'length': 196}, 'children': [{'resource-id': 'se.perigee.seven:id/bb_bottom_bar_icon', 'clickable': True, 'class': '.support.v7.widget.AppCompatImageView', 'id': 20, 'area': {'height': 84, 'length': 105}, 'description': 'time'}, {'resource-id': 'se.perigee.seven:id/bb_bottom_bar_title', 'clickable': True, 'class': '.support.v7.widget.AppCompatTextView', 'id': 21, 'area': {'height': 209, 'length': 91}, 'description': 'Workout'}]}, {'resource-id': 'se.perigee.seven:id/tab_learn', 'clickable': True, 'class': 'com.roughike.bottombar.BottomBarTab', 'id': 22, 'area': {'height': 357, 'length': 196}, 'children': [{'resource-id': 'se.perigee.seven:id/bb_bottom_bar_icon', 'clickable': True, 'class': '.support.v7.widget.AppCompatImageView', 'id': 23, 'area': {'height': 84, 'length': 112}, 'description': 'all'}, {'resource-id': 'se.perigee.seven:id/bb_bottom_bar_title', 'clickable': True, 'class': '.support.v7.widget.AppCompatTextView', 'id': 24, 'area': {'height': 120, 'length': 72}, 'description': 'Learn'}]}, {'resource-id': 'se.perigee.seven:id/tab_achievements', 'clickable': True, 'class': 'com.roughike.bottombar.BottomBarTab', 'id': 25, 'area': {'height': 357, 'length': 196}, 'children': [{'resource-id': 'se.perigee.seven:id/bb_bottom_bar_icon', 'clickable': True, 'class': '.support.v7.widget.AppCompatImageView', 'id': 26, 'area': {'height': 84, 'length': 112}, 'description': 'panda'}, {'resource-id': 'se.perigee.seven:id/bb_bottom_bar_title', 'clickable': True, 'class': '.support.v7.widget.AppCompatTextView', 'id': 27, 'area': {'height': 305, 'length': 72}, 'description': 'Achievements'}]}, {'resource-id': 'se.perigee.seven:id/tab_track', 'clickable': True, 'class': 'com.roughike.bottombar.BottomBarTab', 'id': 28, 'area': {'height': 357, 'length': 196}, 'children': [{'resource-id': 'se.perigee.seven:id/bb_bottom_bar_icon', 'clickable': True, 'class': '.support.v7.widget.AppCompatImageView', 'id': 29, 'area': {'height': 84, 'length': 112}, 'description': 'share'}, {'resource-id': 'se.perigee.seven:id/bb_bottom_bar_title', 'clickable': True, 'class': '.support.v7.widget.AppCompatTextView', 'id': 30, 'area': {'height': 116, 'length': 72}, 'description': 'Track'}]}]}, {'resource-id': 'se.perigee.seven:id/action_bar', 'clickable': False, 'class': '.support.v7.widget.Toolbar', 'id': 31, 'area': {'height': 1440, 'length': 196}, 'children': [{'clickable': False, 'class': '.support.v7.widget.AppCompatTextView', 'id': 32, 'area': {'height': 265, 'length': 93}, 'description': 'Workout'}, {'clickable': False, 'class': '.support.v7.widget.ActionMenuView', 'id': 33, 'area': {'height': 308, 'length': 196}, 'children': [{'resource-id': 'se.perigee.seven:id/action_workout_info', 'clickable': True, 'class': '.support.v7.view.menu.ActionMenuItemView', 'id': 34, 'area': {'height': 168, 'length': 168}, 'description': 'Info'}, {'clickable': True, 'class': '.support.v7.widget.ActionMenuPresenter$d', 'id': 35, 'area': {'height': 140, 'length': 168}, 'description': 'More options'}]}]}]}\"},\n",
       " {'role': 'assistant',\n",
       "  'content': 'In the given UI, there is a root view with a height of 1440 and length of 2560. It contains several key elements:\\n\\n1. Start Workout button: An AppCompatImageView with the description \"START WORKOUT Workout Circuits Full Body / Start\".\\n2. Start and Workout buttons: Both are AutoResizeTextView elements.\\n3. Session Workout: A LinearLayout that contains an image, displaying \"location search\", and two AppCompatTextView elements with descriptions \"Full Body\" and \"Workout\".\\n4. Session Circuits: Another LinearLayout with an image, displaying \"refresh\", and two AppCompatTextView elements with descriptions \"1\" and \"Circuits\".\\n5. Session Instructor: The LinearLayout has an image, text description \"Announcer\", and \"Instructor\".\\n6. BottomBar: A BottomBar element with various tabs. Each tab has an icon and a text description.\\n7. ActionBar: The Toolbar contains an AppCompatTextView with the text \"Workout\" and an ActionMenuView with two clickable elements: \"Info\" and \"More options\".\\n\\nThese are the key elements within the given UI hierarchy.'}]"
      ]
     },
     "execution_count": 4,
     "metadata": {},
     "output_type": "execute_result"
    }
   ],
   "source": [
    "data.llm_summarizer.conversation"
   ]
  },
  {
   "cell_type": "code",
   "execution_count": 5,
   "id": "98d4aa12",
   "metadata": {},
   "outputs": [
    {
     "data": {
      "text/plain": [
       "' - Do not use list but just describe all elements in one paragraph - Describe the relative position of the elements. - Do not describe the detailed length and height of the elements. - Do not itemlize the elements, answer all in one paragraph'"
      ]
     },
     "execution_count": 5,
     "metadata": {},
     "output_type": "execute_result"
    }
   ],
   "source": [
    "data.revise_suggestions"
   ]
  }
 ],
 "metadata": {
  "kernelspec": {
   "display_name": "Python 3 (ipykernel)",
   "language": "python",
   "name": "python3"
  },
  "language_info": {
   "codemirror_mode": {
    "name": "ipython",
    "version": 3
   },
   "file_extension": ".py",
   "mimetype": "text/x-python",
   "name": "python",
   "nbconvert_exporter": "python",
   "pygments_lexer": "ipython3",
   "version": "3.10.10"
  }
 },
 "nbformat": 4,
 "nbformat_minor": 5
}
