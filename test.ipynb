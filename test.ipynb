{
 "cells": [
  {
   "cell_type": "code",
   "execution_count": 1,
   "id": "14cb01c7",
   "metadata": {},
   "outputs": [
    {
     "name": "stderr",
     "output_type": "stream",
     "text": [
      "C:\\Users\\xie029\\AppData\\Local\\Programs\\Python\\Python310\\lib\\site-packages\\tqdm\\auto.py:22: TqdmWarning: IProgress not found. Please update jupyter and ipywidgets. See https://ipywidgets.readthedocs.io/en/stable/user_install.html\n",
      "  from .autonotebook import tqdm as notebook_tqdm\n"
     ]
    }
   ],
   "source": [
    "from DataCollector import DataCollector"
   ]
  },
  {
   "cell_type": "code",
   "execution_count": 2,
   "id": "8bdaa461",
   "metadata": {},
   "outputs": [],
   "source": [
    "data = DataCollector(input_dir='C:/Mulong/Data/rico/rico_sca', \n",
    "                     output_dir='C:/Mulong/Data/ui captioning - rs', \n",
    "                     engine_model='gpt-3.5-turbo')"
   ]
  },
  {
   "cell_type": "code",
   "execution_count": 8,
   "id": "02d1bcf9",
   "metadata": {},
   "outputs": [
    {
     "name": "stdout",
     "output_type": "stream",
     "text": [
      "Load C:/Mulong/Data/ui captioning - rs\\annotation\\2_Key Element.json\n",
      "Load C:/Mulong/Data/ui captioning - rs\\annotation\\3_Key Element.json\n",
      "Load C:/Mulong/Data/ui captioning - rs\\annotation\\4_Key Element.json\n"
     ]
    }
   ],
   "source": [
    "data.load_annotations(start_gui_no=1, end_gui_no=5, factor_id=0)"
   ]
  },
  {
   "cell_type": "code",
   "execution_count": 4,
   "id": "623227da",
   "metadata": {
    "scrolled": false
   },
   "outputs": [
    {
     "name": "stdout",
     "output_type": "stream",
     "text": [
      "\n",
      "*** GUI Analysis ***\n",
      "\n",
      "==============================\n",
      "\n",
      "*** Summarization [key elements] ***\n",
      "Key elements of the given UI hierarchy:\n",
      "1. Root view: It is the main container for all other UI elements.\n",
      "2. DatePicker widget: It allows the user to select a date.\n",
      "3. Year TextView: It displays the current year and is clickable.\n",
      "4. Date TextView: It displays the current date and is clickable.\n",
      "5. Month View: It shows a calendar with selectable dates.\n",
      "6. Previous Button: It allows the user to go to the previous month.\n",
      "7. Next Button: It allows the user to go to the next month.\n",
      "8. Done Button: It is clickable and used to confirm the selected date.\n",
      "Do you want to revise the summarization? (\"y\" or \"n\"): y\n",
      "\n",
      "*** Revision Suggestions ***\n",
      "-- Input revision points: Describe the relative positions of the elements\n",
      "\n",
      "==============================\n",
      "\n",
      "*** Summarization [key elements] ***\n",
      "Revised summary of the UI hierarchy:\n",
      "1. Root view: The main container for all other UI elements. It covers an area of 1256px in height and 1715px in length.\n",
      "2. DatePicker widget: Located within the root view, it covers an area of 1144px in height and 1407px in length. It contains the following elements:\n",
      "   - Year TextView: Located at the top of the DatePicker widget, it displays the current year and covers an area of 976px in height and 142px in length. It is clickable.\n",
      "   - Date TextView: Located below the Year TextView, it displays the current date and covers an area of 555px in height and 159px in length. It is clickable.\n",
      "   - Month View: Located below the Date TextView, it displays a calendar grid with selectable dates. It covers an area of 1144px in height and 1043px in length.\n",
      "   - Previous Button: Located on the left side of the Month View, it allows the user to navigate to the previous month. It covers an area of 168px in height and 168px in length. It is clickable.\n",
      "   - Next Button: Located on the right side of the Month View, it allows the user to navigate to the next month. It covers an area of 168px in height and 168px in length. It is clickable.\n",
      "3. Done Button: Located outside the DatePicker widget, it is a separate element. It covers an area of 232px in height and 168px in length. It is clickable and labeled as \"Done\".\n",
      "Do you want to revise the summarization? (\"y\" or \"n\"): n\n",
      "Do you want to turn off revision from now? (\"y\" or \"n\"): n\n"
     ]
    },
    {
     "data": {
      "text/plain": [
       "{'gui-no': '2',\n",
       " 'factor': 'key elements',\n",
       " 'element-tree': \"{'clickable': False, 'class': 'root', 'id': 0, 'area': {'height': 1256, 'length': 1715}, 'children': [{'clickable': False, 'class': '.widget.DatePicker', 'id': 1, 'area': {'height': 1144, 'length': 1407}, 'children': [{'resource-id': ':id/date_picker_header_year', 'clickable': True, 'class': '.support.v7.widget.AppCompatTextView', 'id': 2, 'area': {'height': 976, 'length': 142}, 'description': '1990'}, {'resource-id': ':id/date_picker_header_date', 'clickable': True, 'class': '.support.v7.widget.AppCompatTextView', 'id': 3, 'area': {'height': 555, 'length': 159}, 'description': 'Fri, Jun 15'}, {'resource-id': ':id/month_view', 'clickable': False, 'class': '.widget.SimpleMonthView', 'id': 4, 'area': {'height': 1144, 'length': 1043}, 'description': ' 14 15 16 17 18 19 10 11 12 13 21 22 23 24 28 29 30 31 25 26 20 27 DONE ed ed ed ed'}, {'resource-id': ':id/prev', 'clickable': True, 'class': '.support.v7.widget.AppCompatImageButton', 'id': 5, 'area': {'height': 168, 'length': 168}, 'description': 'Previous month'}, {'resource-id': ':id/next', 'clickable': True, 'class': '.support.v7.widget.AppCompatImageButton', 'id': 6, 'area': {'height': 168, 'length': 168}, 'description': 'Next month'}]}, {'resource-id': ':id/button1', 'clickable': True, 'class': '.support.v7.widget.AppCompatButton', 'id': 7, 'area': {'height': 232, 'length': 168}, 'description': 'Done'}]}\",\n",
       " 'annotation-history': ['Key elements of the given UI hierarchy:\\n1. Root view: It is the main container for all other UI elements.\\n2. DatePicker widget: It allows the user to select a date.\\n3. Year TextView: It displays the current year and is clickable.\\n4. Date TextView: It displays the current date and is clickable.\\n5. Month View: It shows a calendar with selectable dates.\\n6. Previous Button: It allows the user to go to the previous month.\\n7. Next Button: It allows the user to go to the next month.\\n8. Done Button: It is clickable and used to confirm the selected date.',\n",
       "  'Revised summary of the UI hierarchy:\\n1. Root view: The main container for all other UI elements. It covers an area of 1256px in height and 1715px in length.\\n2. DatePicker widget: Located within the root view, it covers an area of 1144px in height and 1407px in length. It contains the following elements:\\n   - Year TextView: Located at the top of the DatePicker widget, it displays the current year and covers an area of 976px in height and 142px in length. It is clickable.\\n   - Date TextView: Located below the Year TextView, it displays the current date and covers an area of 555px in height and 159px in length. It is clickable.\\n   - Month View: Located below the Date TextView, it displays a calendar grid with selectable dates. It covers an area of 1144px in height and 1043px in length.\\n   - Previous Button: Located on the left side of the Month View, it allows the user to navigate to the previous month. It covers an area of 168px in height and 168px in length. It is clickable.\\n   - Next Button: Located on the right side of the Month View, it allows the user to navigate to the next month. It covers an area of 168px in height and 168px in length. It is clickable.\\n3. Done Button: Located outside the DatePicker widget, it is a separate element. It covers an area of 232px in height and 168px in length. It is clickable and labeled as \"Done\".'],\n",
       " 'revision-suggestion-history': ['Describe the relative positions of the elements'],\n",
       " 'annotation': 'Revised summary of the UI hierarchy:\\n1. Root view: The main container for all other UI elements. It covers an area of 1256px in height and 1715px in length.\\n2. DatePicker widget: Located within the root view, it covers an area of 1144px in height and 1407px in length. It contains the following elements:\\n   - Year TextView: Located at the top of the DatePicker widget, it displays the current year and covers an area of 976px in height and 142px in length. It is clickable.\\n   - Date TextView: Located below the Year TextView, it displays the current date and covers an area of 555px in height and 159px in length. It is clickable.\\n   - Month View: Located below the Date TextView, it displays a calendar grid with selectable dates. It covers an area of 1144px in height and 1043px in length.\\n   - Previous Button: Located on the left side of the Month View, it allows the user to navigate to the previous month. It covers an area of 168px in height and 168px in length. It is clickable.\\n   - Next Button: Located on the right side of the Month View, it allows the user to navigate to the next month. It covers an area of 168px in height and 168px in length. It is clickable.\\n3. Done Button: Located outside the DatePicker widget, it is a separate element. It covers an area of 232px in height and 168px in length. It is clickable and labeled as \"Done\".',\n",
       " 'revision-suggestion': 'Describe the relative positions of the elements'}"
      ]
     },
     "execution_count": 4,
     "metadata": {},
     "output_type": "execute_result"
    }
   ],
   "source": [
    "data.annotate_gui_gpt_revision(gui_img_file='data/rico/raw/2.jpg', gui_json_file='data/rico/raw/2.json', \n",
    "                               factor='key elements', load_gui=False)"
   ]
  },
  {
   "cell_type": "code",
   "execution_count": 5,
   "id": "b53bfdba",
   "metadata": {},
   "outputs": [
    {
     "name": "stdout",
     "output_type": "stream",
     "text": [
      "\n",
      "\n",
      "+++ Annotating +++ [3 / 10] C:/Mulong/Data/rico/rico_sca\\6.jpg\n",
      "\n",
      "*** GUI Analysis ***\n",
      "\n",
      "==============================\n",
      "\n",
      "*** Summarization [Key Element] ***\n",
      "#Summary:\n",
      "This UI consists of a root view with the following key elements:\n",
      "- Key Element: ScrollView\n",
      "  - Clickable: False\n",
      "  - Class: .widget.ScrollView\n",
      "  - ID: 1\n",
      "  - Area: Height: 1384, Length: 2112\n",
      "  \n",
      "The ScrollView contains several child elements, including buttons for starting the workout, labels for workout details, and tabs for different sections. Additionally, there is an action bar at the top with buttons for additional options.\n",
      "Do you want to revise the summarization? (\"y\" or \"n\"): n\n",
      "Do you want to turn off revision from now? (\"y\" or \"n\"): y\n",
      "\n",
      "\n",
      "+++ Annotating +++ [4 / 10] C:/Mulong/Data/rico/rico_sca\\8.jpg\n",
      "\n",
      "*** GUI Analysis ***\n"
     ]
    },
    {
     "ename": "KeyboardInterrupt",
     "evalue": "",
     "output_type": "error",
     "traceback": [
      "\u001b[1;31m---------------------------------------------------------------------------\u001b[0m",
      "\u001b[1;31mKeyboardInterrupt\u001b[0m                         Traceback (most recent call last)",
      "Cell \u001b[1;32mIn[5], line 1\u001b[0m\n\u001b[1;32m----> 1\u001b[0m \u001b[43mdata\u001b[49m\u001b[38;5;241;43m.\u001b[39;49m\u001b[43mannotate_all_guis_gpt_revision\u001b[49m\u001b[43m(\u001b[49m\u001b[43mstart_gui_no\u001b[49m\u001b[38;5;241;43m=\u001b[39;49m\u001b[38;5;241;43m3\u001b[39;49m\u001b[43m,\u001b[49m\u001b[43m \u001b[49m\u001b[43mend_gui_no\u001b[49m\u001b[38;5;241;43m=\u001b[39;49m\u001b[38;5;241;43m10\u001b[39;49m\u001b[43m,\u001b[49m\u001b[43m \u001b[49m\u001b[43mfactor_id\u001b[49m\u001b[38;5;241;43m=\u001b[39;49m\u001b[38;5;241;43m0\u001b[39;49m\u001b[43m,\u001b[49m\u001b[43m \u001b[49m\u001b[43mload_gui\u001b[49m\u001b[38;5;241;43m=\u001b[39;49m\u001b[38;5;28;43;01mFalse\u001b[39;49;00m\u001b[43m,\u001b[49m\u001b[43m \u001b[49m\u001b[43mturn_on_revision\u001b[49m\u001b[38;5;241;43m=\u001b[39;49m\u001b[38;5;28;43;01mTrue\u001b[39;49;00m\u001b[43m)\u001b[49m\n",
      "File \u001b[1;32mC:\\Mulong\\Code\\UI-Captioning\\DataCollector.py:247\u001b[0m, in \u001b[0;36mDataCollector.annotate_all_guis_gpt_revision\u001b[1;34m(self, start_gui_no, end_gui_no, factor_id, load_gui, turn_on_revision, wait_time)\u001b[0m\n\u001b[0;32m    245\u001b[0m gui_vh_file \u001b[38;5;241m=\u001b[39m \u001b[38;5;28mself\u001b[39m\u001b[38;5;241m.\u001b[39mvh_files[start_gui_no \u001b[38;5;241m+\u001b[39m i]\n\u001b[0;32m    246\u001b[0m \u001b[38;5;28mprint\u001b[39m(\u001b[38;5;124m'\u001b[39m\u001b[38;5;130;01m\\n\u001b[39;00m\u001b[38;5;130;01m\\n\u001b[39;00m\u001b[38;5;124m+++ Annotating +++ [\u001b[39m\u001b[38;5;132;01m%d\u001b[39;00m\u001b[38;5;124m / \u001b[39m\u001b[38;5;132;01m%d\u001b[39;00m\u001b[38;5;124m] \u001b[39m\u001b[38;5;132;01m%s\u001b[39;00m\u001b[38;5;124m'\u001b[39m \u001b[38;5;241m%\u001b[39m (i\u001b[38;5;241m+\u001b[39mstart_gui_no, end_gui_no, gui_img_file))\n\u001b[1;32m--> 247\u001b[0m \u001b[38;5;28;43mself\u001b[39;49m\u001b[38;5;241;43m.\u001b[39;49m\u001b[43mannotate_gui_gpt_revision\u001b[49m\u001b[43m(\u001b[49m\u001b[43mgui_img_file\u001b[49m\u001b[43m,\u001b[49m\u001b[43m \u001b[49m\u001b[43mgui_json_file\u001b[49m\u001b[38;5;241;43m=\u001b[39;49m\u001b[43mgui_vh_file\u001b[49m\u001b[43m,\u001b[49m\u001b[43m \u001b[49m\u001b[43mfactor\u001b[49m\u001b[38;5;241;43m=\u001b[39;49m\u001b[38;5;28;43mself\u001b[39;49m\u001b[38;5;241;43m.\u001b[39;49m\u001b[43mannotation_factors\u001b[49m\u001b[43m[\u001b[49m\u001b[43mfactor_id\u001b[49m\u001b[43m]\u001b[49m\u001b[43m,\u001b[49m\u001b[43m \u001b[49m\u001b[43mload_gui\u001b[49m\u001b[38;5;241;43m=\u001b[39;49m\u001b[43mload_gui\u001b[49m\u001b[43m)\u001b[49m\n",
      "File \u001b[1;32mC:\\Mulong\\Code\\UI-Captioning\\DataCollector.py:205\u001b[0m, in \u001b[0;36mDataCollector.annotate_gui_gpt_revision\u001b[1;34m(self, gui_img_file, gui_json_file, factor, load_gui)\u001b[0m\n\u001b[0;32m    203\u001b[0m \u001b[38;5;28;01mif\u001b[39;00m \u001b[38;5;129;01mnot\u001b[39;00m load_gui:\n\u001b[0;32m    204\u001b[0m     \u001b[38;5;28mprint\u001b[39m(\u001b[38;5;124m'\u001b[39m\u001b[38;5;130;01m\\n\u001b[39;00m\u001b[38;5;124m*** GUI Analysis ***\u001b[39m\u001b[38;5;124m'\u001b[39m)\n\u001b[1;32m--> 205\u001b[0m     gui \u001b[38;5;241m=\u001b[39m \u001b[38;5;28;43mself\u001b[39;49m\u001b[38;5;241;43m.\u001b[39;49m\u001b[43manalyze_gui\u001b[49m\u001b[43m(\u001b[49m\u001b[43mgui_img_file\u001b[49m\u001b[43m,\u001b[49m\u001b[43m \u001b[49m\u001b[43mgui_json_file\u001b[49m\u001b[43m,\u001b[49m\u001b[43m \u001b[49m\u001b[43mshow\u001b[49m\u001b[38;5;241;43m=\u001b[39;49m\u001b[38;5;28;43;01mFalse\u001b[39;49;00m\u001b[43m)\u001b[49m\n\u001b[0;32m    206\u001b[0m \u001b[38;5;28;01melse\u001b[39;00m:\n\u001b[0;32m    207\u001b[0m     \u001b[38;5;28mprint\u001b[39m(\u001b[38;5;124m'\u001b[39m\u001b[38;5;130;01m\\n\u001b[39;00m\u001b[38;5;124m*** Load GUI Info ***\u001b[39m\u001b[38;5;124m'\u001b[39m)\n",
      "File \u001b[1;32mC:\\Mulong\\Code\\UI-Captioning\\DataCollector.py:114\u001b[0m, in \u001b[0;36mDataCollector.analyze_gui\u001b[1;34m(self, gui_img_file, gui_json_file, show)\u001b[0m\n\u001b[0;32m    109\u001b[0m gui \u001b[38;5;241m=\u001b[39m GUI(gui_img_file\u001b[38;5;241m=\u001b[39mgui_img_file, gui_json_file\u001b[38;5;241m=\u001b[39mgui_json_file, output_file_root\u001b[38;5;241m=\u001b[39m\u001b[38;5;28mself\u001b[39m\u001b[38;5;241m.\u001b[39moutput_dir,\n\u001b[0;32m    110\u001b[0m           resize\u001b[38;5;241m=\u001b[39m\u001b[38;5;28mself\u001b[39m\u001b[38;5;241m.\u001b[39mgui_img_resize,\n\u001b[0;32m    111\u001b[0m           model_icon_caption\u001b[38;5;241m=\u001b[39m\u001b[38;5;28mself\u001b[39m\u001b[38;5;241m.\u001b[39mgui_detection_models[\u001b[38;5;124m'\u001b[39m\u001b[38;5;124mcaption\u001b[39m\u001b[38;5;124m'\u001b[39m],\n\u001b[0;32m    112\u001b[0m           model_icon_classification\u001b[38;5;241m=\u001b[39m\u001b[38;5;28mself\u001b[39m\u001b[38;5;241m.\u001b[39mgui_detection_models[\u001b[38;5;124m'\u001b[39m\u001b[38;5;124mclassification\u001b[39m\u001b[38;5;124m'\u001b[39m])\n\u001b[0;32m    113\u001b[0m gui\u001b[38;5;241m.\u001b[39mui_info_extraction()\n\u001b[1;32m--> 114\u001b[0m \u001b[43mgui\u001b[49m\u001b[38;5;241;43m.\u001b[39;49m\u001b[43mui_analysis_elements_description\u001b[49m\u001b[43m(\u001b[49m\u001b[43m)\u001b[49m\n\u001b[0;32m    115\u001b[0m gui\u001b[38;5;241m.\u001b[39mui_element_tree()\n\u001b[0;32m    116\u001b[0m \u001b[38;5;28;01mif\u001b[39;00m show:\n",
      "File \u001b[1;32mC:\\Mulong\\Code\\UI-Captioning\\module\\GUI.py:220\u001b[0m, in \u001b[0;36mGUI.ui_analysis_elements_description\u001b[1;34m(self, ocr, caption, cls)\u001b[0m\n\u001b[0;32m    218\u001b[0m \u001b[38;5;28;01mif\u001b[39;00m ocr: \u001b[38;5;28mself\u001b[39m\u001b[38;5;241m.\u001b[39mocr_detect_gui_text()\n\u001b[0;32m    219\u001b[0m \u001b[38;5;66;03m# generate caption for non-text elements\u001b[39;00m\n\u001b[1;32m--> 220\u001b[0m \u001b[38;5;28;01mif\u001b[39;00m caption: \u001b[38;5;28;43mself\u001b[39;49m\u001b[38;5;241;43m.\u001b[39;49m\u001b[43mcaption_elements\u001b[49m\u001b[43m(\u001b[49m\u001b[43m)\u001b[49m\n\u001b[0;32m    221\u001b[0m \u001b[38;5;66;03m# classify non-text elements\u001b[39;00m\n\u001b[0;32m    222\u001b[0m \u001b[38;5;28;01mif\u001b[39;00m \u001b[38;5;28mcls\u001b[39m: \u001b[38;5;28mself\u001b[39m\u001b[38;5;241m.\u001b[39mclassify_elements()\n",
      "File \u001b[1;32mC:\\Mulong\\Code\\UI-Captioning\\module\\GUI.py:286\u001b[0m, in \u001b[0;36mGUI.caption_elements\u001b[1;34m(self, elements)\u001b[0m\n\u001b[0;32m    284\u001b[0m     bound \u001b[38;5;241m=\u001b[39m ele[\u001b[38;5;124m'\u001b[39m\u001b[38;5;124mbounds\u001b[39m\u001b[38;5;124m'\u001b[39m]\n\u001b[0;32m    285\u001b[0m     clips\u001b[38;5;241m.\u001b[39mappend(\u001b[38;5;28mself\u001b[39m\u001b[38;5;241m.\u001b[39mimg[bound[\u001b[38;5;241m1\u001b[39m]: bound[\u001b[38;5;241m3\u001b[39m], bound[\u001b[38;5;241m0\u001b[39m]:bound[\u001b[38;5;241m2\u001b[39m]])\n\u001b[1;32m--> 286\u001b[0m captions \u001b[38;5;241m=\u001b[39m \u001b[38;5;28;43mself\u001b[39;49m\u001b[38;5;241;43m.\u001b[39;49m\u001b[43mmodel_icon_caption\u001b[49m\u001b[38;5;241;43m.\u001b[39;49m\u001b[43mpredict_images\u001b[49m\u001b[43m(\u001b[49m\u001b[43mclips\u001b[49m\u001b[43m)\u001b[49m\n\u001b[0;32m    287\u001b[0m \u001b[38;5;28;01mfor\u001b[39;00m i, ele \u001b[38;5;129;01min\u001b[39;00m \u001b[38;5;28menumerate\u001b[39m(elements):\n\u001b[0;32m    288\u001b[0m     ele[\u001b[38;5;124m'\u001b[39m\u001b[38;5;124mcaption\u001b[39m\u001b[38;5;124m'\u001b[39m] \u001b[38;5;241m=\u001b[39m captions[i]\n",
      "File \u001b[1;32mC:\\Mulong\\Code\\UI-Captioning\\utils\\classification\\IconCaption.py:52\u001b[0m, in \u001b[0;36mIconCaption.predict_images\u001b[1;34m(self, images)\u001b[0m\n\u001b[0;32m     50\u001b[0m img_torch \u001b[38;5;241m=\u001b[39m \u001b[38;5;28mself\u001b[39m\u001b[38;5;241m.\u001b[39mimg_transforms_test(img)           \u001b[38;5;66;03m# resize to [3, 244, 244]\u001b[39;00m\n\u001b[0;32m     51\u001b[0m img_torch \u001b[38;5;241m=\u001b[39m img_torch\u001b[38;5;241m.\u001b[39munsqueeze(\u001b[38;5;241m0\u001b[39m)\u001b[38;5;241m.\u001b[39mto(\u001b[38;5;28mself\u001b[39m\u001b[38;5;241m.\u001b[39mdevice)  \u001b[38;5;66;03m# convert to torch tensor and add one dimension -> [1, 3, 244, 244]\u001b[39;00m\n\u001b[1;32m---> 52\u001b[0m word_ids \u001b[38;5;241m=\u001b[39m \u001b[38;5;28;43mself\u001b[39;49m\u001b[38;5;241;43m.\u001b[39;49m\u001b[43mmodel\u001b[49m\u001b[43m(\u001b[49m\u001b[43mimg_torch\u001b[49m\u001b[43m)\u001b[49m\u001b[38;5;241m.\u001b[39mcpu()\u001b[38;5;241m.\u001b[39mnumpy()[\u001b[38;5;241m0\u001b[39m]   \u001b[38;5;66;03m# generate a [1,15] size list of ids to indicate words\u001b[39;00m\n\u001b[0;32m     53\u001b[0m \u001b[38;5;66;03m# Convert word_ids to words\u001b[39;00m\n\u001b[0;32m     54\u001b[0m words \u001b[38;5;241m=\u001b[39m []  \u001b[38;5;66;03m# words in the caption, mapped from word_ids\u001b[39;00m\n",
      "File \u001b[1;32m~\\AppData\\Local\\Programs\\Python\\Python310\\lib\\site-packages\\torch\\nn\\modules\\module.py:1194\u001b[0m, in \u001b[0;36mModule._call_impl\u001b[1;34m(self, *input, **kwargs)\u001b[0m\n\u001b[0;32m   1190\u001b[0m \u001b[38;5;66;03m# If we don't have any hooks, we want to skip the rest of the logic in\u001b[39;00m\n\u001b[0;32m   1191\u001b[0m \u001b[38;5;66;03m# this function, and just call forward.\u001b[39;00m\n\u001b[0;32m   1192\u001b[0m \u001b[38;5;28;01mif\u001b[39;00m \u001b[38;5;129;01mnot\u001b[39;00m (\u001b[38;5;28mself\u001b[39m\u001b[38;5;241m.\u001b[39m_backward_hooks \u001b[38;5;129;01mor\u001b[39;00m \u001b[38;5;28mself\u001b[39m\u001b[38;5;241m.\u001b[39m_forward_hooks \u001b[38;5;129;01mor\u001b[39;00m \u001b[38;5;28mself\u001b[39m\u001b[38;5;241m.\u001b[39m_forward_pre_hooks \u001b[38;5;129;01mor\u001b[39;00m _global_backward_hooks\n\u001b[0;32m   1193\u001b[0m         \u001b[38;5;129;01mor\u001b[39;00m _global_forward_hooks \u001b[38;5;129;01mor\u001b[39;00m _global_forward_pre_hooks):\n\u001b[1;32m-> 1194\u001b[0m     \u001b[38;5;28;01mreturn\u001b[39;00m forward_call(\u001b[38;5;241m*\u001b[39m\u001b[38;5;28minput\u001b[39m, \u001b[38;5;241m*\u001b[39m\u001b[38;5;241m*\u001b[39mkwargs)\n\u001b[0;32m   1195\u001b[0m \u001b[38;5;66;03m# Do not call functions when jit is used\u001b[39;00m\n\u001b[0;32m   1196\u001b[0m full_backward_hooks, non_full_backward_hooks \u001b[38;5;241m=\u001b[39m [], []\n",
      "File \u001b[1;32mC:\\Mulong\\Code\\UI-Captioning\\utils/classification\\models\\combined_model.py:15\u001b[0m, in \u001b[0;36mLabelDroid.forward\u001b[1;34m(self, images)\u001b[0m\n\u001b[0;32m     13\u001b[0m \u001b[38;5;28;01mdef\u001b[39;00m \u001b[38;5;21mforward\u001b[39m(\u001b[38;5;28mself\u001b[39m, images):\n\u001b[0;32m     14\u001b[0m \tfeatures \u001b[38;5;241m=\u001b[39m \u001b[38;5;28mself\u001b[39m\u001b[38;5;241m.\u001b[39mencoder(images)\n\u001b[1;32m---> 15\u001b[0m \tsentence_ids \u001b[38;5;241m=\u001b[39m \u001b[38;5;28;43mself\u001b[39;49m\u001b[38;5;241;43m.\u001b[39;49m\u001b[43mdecoder\u001b[49m\u001b[38;5;241;43m.\u001b[39;49m\u001b[43mevaluate\u001b[49m\u001b[43m(\u001b[49m\u001b[43mfeatures\u001b[49m\u001b[43m,\u001b[49m\u001b[43m \u001b[49m\u001b[38;5;28;43mself\u001b[39;49m\u001b[38;5;241;43m.\u001b[39;49m\u001b[43margs\u001b[49m\u001b[38;5;241;43m.\u001b[39;49m\u001b[43mmax_tokens\u001b[49m\u001b[43m)\u001b[49m\n\u001b[0;32m     16\u001b[0m \t\u001b[38;5;28;01mreturn\u001b[39;00m sentence_ids\n",
      "File \u001b[1;32mC:\\Mulong\\Code\\UI-Captioning\\utils/classification\\models\\Transformer.py:335\u001b[0m, in \u001b[0;36mTransformer.evaluate\u001b[1;34m(self, att_feats, max_len, start_symbol, att_masks)\u001b[0m\n\u001b[0;32m    333\u001b[0m ys \u001b[38;5;241m=\u001b[39m torch\u001b[38;5;241m.\u001b[39mones(batch_size, \u001b[38;5;241m1\u001b[39m)\u001b[38;5;241m.\u001b[39mfill_(start_symbol)\u001b[38;5;241m.\u001b[39mcuda()\u001b[38;5;241m.\u001b[39mlong()\n\u001b[0;32m    334\u001b[0m \u001b[38;5;28;01mfor\u001b[39;00m i \u001b[38;5;129;01min\u001b[39;00m \u001b[38;5;28mrange\u001b[39m(max_len\u001b[38;5;241m-\u001b[39m\u001b[38;5;241m1\u001b[39m):\n\u001b[1;32m--> 335\u001b[0m \tout \u001b[38;5;241m=\u001b[39m \u001b[38;5;28;43mself\u001b[39;49m\u001b[38;5;241;43m.\u001b[39;49m\u001b[43mmodel\u001b[49m\u001b[38;5;241;43m.\u001b[39;49m\u001b[43mdecode\u001b[49m\u001b[43m(\u001b[49m\u001b[43mmemory\u001b[49m\u001b[43m,\u001b[49m\u001b[43m \u001b[49m\u001b[43matt_masks\u001b[49m\u001b[43m,\u001b[49m\u001b[43m \u001b[49m\n\u001b[0;32m    336\u001b[0m \u001b[43m\t\t\t\u001b[49m\u001b[43mVariable\u001b[49m\u001b[43m(\u001b[49m\u001b[43mys\u001b[49m\u001b[43m)\u001b[49m\u001b[43m,\u001b[49m\u001b[43m \u001b[49m\n\u001b[0;32m    337\u001b[0m \u001b[43m\t\t\t\u001b[49m\u001b[43mVariable\u001b[49m\u001b[43m(\u001b[49m\u001b[43msubsequent_mask\u001b[49m\u001b[43m(\u001b[49m\u001b[43mbatch_size\u001b[49m\u001b[43m,\u001b[49m\u001b[43m \u001b[49m\u001b[43mys\u001b[49m\u001b[38;5;241;43m.\u001b[39;49m\u001b[43msize\u001b[49m\u001b[43m(\u001b[49m\u001b[38;5;241;43m1\u001b[39;49m\u001b[43m)\u001b[49m\u001b[43m)\u001b[49m\n\u001b[0;32m    338\u001b[0m \u001b[43m\t\t\t\u001b[49m\u001b[38;5;241;43m.\u001b[39;49m\u001b[43mtype_as\u001b[49m\u001b[43m(\u001b[49m\u001b[43matt_feats\u001b[49m\u001b[38;5;241;43m.\u001b[39;49m\u001b[43mdata\u001b[49m\u001b[43m)\u001b[49m\u001b[43m)\u001b[49m\u001b[43m)\u001b[49m\n\u001b[0;32m    339\u001b[0m \tprob \u001b[38;5;241m=\u001b[39m \u001b[38;5;28mself\u001b[39m\u001b[38;5;241m.\u001b[39mmodel\u001b[38;5;241m.\u001b[39mgenerator(out[:, \u001b[38;5;241m-\u001b[39m\u001b[38;5;241m1\u001b[39m])\n\u001b[0;32m    340\u001b[0m \t\u001b[38;5;66;03m#print(prob.shape)\u001b[39;00m\n\u001b[0;32m    341\u001b[0m \t\u001b[38;5;66;03m#print(prob[0])\u001b[39;00m\n",
      "File \u001b[1;32mC:\\Mulong\\Code\\UI-Captioning\\utils/classification\\models\\Transformer.py:44\u001b[0m, in \u001b[0;36mEncoderDecoder.decode\u001b[1;34m(self, memory, src_mask, tgt, tgt_mask)\u001b[0m\n\u001b[0;32m     43\u001b[0m \u001b[38;5;28;01mdef\u001b[39;00m \u001b[38;5;21mdecode\u001b[39m(\u001b[38;5;28mself\u001b[39m, memory, src_mask, tgt, tgt_mask):\n\u001b[1;32m---> 44\u001b[0m \t\u001b[38;5;28;01mreturn\u001b[39;00m \u001b[38;5;28;43mself\u001b[39;49m\u001b[38;5;241;43m.\u001b[39;49m\u001b[43mdecoder\u001b[49m\u001b[43m(\u001b[49m\u001b[38;5;28;43mself\u001b[39;49m\u001b[38;5;241;43m.\u001b[39;49m\u001b[43mtgt_embed\u001b[49m\u001b[43m(\u001b[49m\u001b[43mtgt\u001b[49m\u001b[43m)\u001b[49m\u001b[43m,\u001b[49m\u001b[43m \u001b[49m\u001b[43mmemory\u001b[49m\u001b[43m,\u001b[49m\u001b[43m \u001b[49m\u001b[43msrc_mask\u001b[49m\u001b[43m,\u001b[49m\u001b[43m \u001b[49m\u001b[43mtgt_mask\u001b[49m\u001b[43m)\u001b[49m\n",
      "File \u001b[1;32m~\\AppData\\Local\\Programs\\Python\\Python310\\lib\\site-packages\\torch\\nn\\modules\\module.py:1194\u001b[0m, in \u001b[0;36mModule._call_impl\u001b[1;34m(self, *input, **kwargs)\u001b[0m\n\u001b[0;32m   1190\u001b[0m \u001b[38;5;66;03m# If we don't have any hooks, we want to skip the rest of the logic in\u001b[39;00m\n\u001b[0;32m   1191\u001b[0m \u001b[38;5;66;03m# this function, and just call forward.\u001b[39;00m\n\u001b[0;32m   1192\u001b[0m \u001b[38;5;28;01mif\u001b[39;00m \u001b[38;5;129;01mnot\u001b[39;00m (\u001b[38;5;28mself\u001b[39m\u001b[38;5;241m.\u001b[39m_backward_hooks \u001b[38;5;129;01mor\u001b[39;00m \u001b[38;5;28mself\u001b[39m\u001b[38;5;241m.\u001b[39m_forward_hooks \u001b[38;5;129;01mor\u001b[39;00m \u001b[38;5;28mself\u001b[39m\u001b[38;5;241m.\u001b[39m_forward_pre_hooks \u001b[38;5;129;01mor\u001b[39;00m _global_backward_hooks\n\u001b[0;32m   1193\u001b[0m         \u001b[38;5;129;01mor\u001b[39;00m _global_forward_hooks \u001b[38;5;129;01mor\u001b[39;00m _global_forward_pre_hooks):\n\u001b[1;32m-> 1194\u001b[0m     \u001b[38;5;28;01mreturn\u001b[39;00m forward_call(\u001b[38;5;241m*\u001b[39m\u001b[38;5;28minput\u001b[39m, \u001b[38;5;241m*\u001b[39m\u001b[38;5;241m*\u001b[39mkwargs)\n\u001b[0;32m   1195\u001b[0m \u001b[38;5;66;03m# Do not call functions when jit is used\u001b[39;00m\n\u001b[0;32m   1196\u001b[0m full_backward_hooks, non_full_backward_hooks \u001b[38;5;241m=\u001b[39m [], []\n",
      "File \u001b[1;32mC:\\Mulong\\Code\\UI-Captioning\\utils/classification\\models\\Transformer.py:127\u001b[0m, in \u001b[0;36mDecoder.forward\u001b[1;34m(self, x, memory, src_mask, tgt_mask)\u001b[0m\n\u001b[0;32m    125\u001b[0m \u001b[38;5;28;01mdef\u001b[39;00m \u001b[38;5;21mforward\u001b[39m(\u001b[38;5;28mself\u001b[39m, x, memory, src_mask, tgt_mask):\n\u001b[0;32m    126\u001b[0m \t\u001b[38;5;28;01mfor\u001b[39;00m layer \u001b[38;5;129;01min\u001b[39;00m \u001b[38;5;28mself\u001b[39m\u001b[38;5;241m.\u001b[39mlayers:\n\u001b[1;32m--> 127\u001b[0m \t\tx \u001b[38;5;241m=\u001b[39m \u001b[43mlayer\u001b[49m\u001b[43m(\u001b[49m\u001b[43mx\u001b[49m\u001b[43m,\u001b[49m\u001b[43m \u001b[49m\u001b[43mmemory\u001b[49m\u001b[43m,\u001b[49m\u001b[43m \u001b[49m\u001b[43msrc_mask\u001b[49m\u001b[43m,\u001b[49m\u001b[43m \u001b[49m\u001b[43mtgt_mask\u001b[49m\u001b[43m)\u001b[49m\n\u001b[0;32m    128\u001b[0m \t\u001b[38;5;28;01mreturn\u001b[39;00m \u001b[38;5;28mself\u001b[39m\u001b[38;5;241m.\u001b[39mnorm(x)\n",
      "File \u001b[1;32m~\\AppData\\Local\\Programs\\Python\\Python310\\lib\\site-packages\\torch\\nn\\modules\\module.py:1194\u001b[0m, in \u001b[0;36mModule._call_impl\u001b[1;34m(self, *input, **kwargs)\u001b[0m\n\u001b[0;32m   1190\u001b[0m \u001b[38;5;66;03m# If we don't have any hooks, we want to skip the rest of the logic in\u001b[39;00m\n\u001b[0;32m   1191\u001b[0m \u001b[38;5;66;03m# this function, and just call forward.\u001b[39;00m\n\u001b[0;32m   1192\u001b[0m \u001b[38;5;28;01mif\u001b[39;00m \u001b[38;5;129;01mnot\u001b[39;00m (\u001b[38;5;28mself\u001b[39m\u001b[38;5;241m.\u001b[39m_backward_hooks \u001b[38;5;129;01mor\u001b[39;00m \u001b[38;5;28mself\u001b[39m\u001b[38;5;241m.\u001b[39m_forward_hooks \u001b[38;5;129;01mor\u001b[39;00m \u001b[38;5;28mself\u001b[39m\u001b[38;5;241m.\u001b[39m_forward_pre_hooks \u001b[38;5;129;01mor\u001b[39;00m _global_backward_hooks\n\u001b[0;32m   1193\u001b[0m         \u001b[38;5;129;01mor\u001b[39;00m _global_forward_hooks \u001b[38;5;129;01mor\u001b[39;00m _global_forward_pre_hooks):\n\u001b[1;32m-> 1194\u001b[0m     \u001b[38;5;28;01mreturn\u001b[39;00m forward_call(\u001b[38;5;241m*\u001b[39m\u001b[38;5;28minput\u001b[39m, \u001b[38;5;241m*\u001b[39m\u001b[38;5;241m*\u001b[39mkwargs)\n\u001b[0;32m   1195\u001b[0m \u001b[38;5;66;03m# Do not call functions when jit is used\u001b[39;00m\n\u001b[0;32m   1196\u001b[0m full_backward_hooks, non_full_backward_hooks \u001b[38;5;241m=\u001b[39m [], []\n",
      "File \u001b[1;32mC:\\Mulong\\Code\\UI-Captioning\\utils/classification\\models\\Transformer.py:143\u001b[0m, in \u001b[0;36mDecoderLayer.forward\u001b[1;34m(self, x, memory, src_mask, tgt_mask)\u001b[0m\n\u001b[0;32m    141\u001b[0m \u001b[38;5;124m\"\u001b[39m\u001b[38;5;124mFollow Figure 1 (right) for connections.\u001b[39m\u001b[38;5;124m\"\u001b[39m\n\u001b[0;32m    142\u001b[0m m \u001b[38;5;241m=\u001b[39m memory\n\u001b[1;32m--> 143\u001b[0m x \u001b[38;5;241m=\u001b[39m \u001b[38;5;28;43mself\u001b[39;49m\u001b[38;5;241;43m.\u001b[39;49m\u001b[43msublayer\u001b[49m\u001b[43m[\u001b[49m\u001b[38;5;241;43m0\u001b[39;49m\u001b[43m]\u001b[49m\u001b[43m(\u001b[49m\u001b[43mx\u001b[49m\u001b[43m,\u001b[49m\u001b[43m \u001b[49m\u001b[38;5;28;43;01mlambda\u001b[39;49;00m\u001b[43m \u001b[49m\u001b[43mx\u001b[49m\u001b[43m:\u001b[49m\u001b[43m \u001b[49m\u001b[38;5;28;43mself\u001b[39;49m\u001b[38;5;241;43m.\u001b[39;49m\u001b[43mself_attn\u001b[49m\u001b[43m(\u001b[49m\u001b[43mx\u001b[49m\u001b[43m,\u001b[49m\u001b[43m \u001b[49m\u001b[43mx\u001b[49m\u001b[43m,\u001b[49m\u001b[43m \u001b[49m\u001b[43mx\u001b[49m\u001b[43m,\u001b[49m\u001b[43m \u001b[49m\u001b[43mtgt_mask\u001b[49m\u001b[43m)\u001b[49m\u001b[43m)\u001b[49m\n\u001b[0;32m    144\u001b[0m x \u001b[38;5;241m=\u001b[39m \u001b[38;5;28mself\u001b[39m\u001b[38;5;241m.\u001b[39msublayer[\u001b[38;5;241m1\u001b[39m](x, \u001b[38;5;28;01mlambda\u001b[39;00m x: \u001b[38;5;28mself\u001b[39m\u001b[38;5;241m.\u001b[39msrc_attn(x, m, m, src_mask))\n\u001b[0;32m    145\u001b[0m \u001b[38;5;28;01mreturn\u001b[39;00m \u001b[38;5;28mself\u001b[39m\u001b[38;5;241m.\u001b[39msublayer[\u001b[38;5;241m2\u001b[39m](x, \u001b[38;5;28mself\u001b[39m\u001b[38;5;241m.\u001b[39mfeed_forward)\n",
      "File \u001b[1;32m~\\AppData\\Local\\Programs\\Python\\Python310\\lib\\site-packages\\torch\\nn\\modules\\module.py:1194\u001b[0m, in \u001b[0;36mModule._call_impl\u001b[1;34m(self, *input, **kwargs)\u001b[0m\n\u001b[0;32m   1190\u001b[0m \u001b[38;5;66;03m# If we don't have any hooks, we want to skip the rest of the logic in\u001b[39;00m\n\u001b[0;32m   1191\u001b[0m \u001b[38;5;66;03m# this function, and just call forward.\u001b[39;00m\n\u001b[0;32m   1192\u001b[0m \u001b[38;5;28;01mif\u001b[39;00m \u001b[38;5;129;01mnot\u001b[39;00m (\u001b[38;5;28mself\u001b[39m\u001b[38;5;241m.\u001b[39m_backward_hooks \u001b[38;5;129;01mor\u001b[39;00m \u001b[38;5;28mself\u001b[39m\u001b[38;5;241m.\u001b[39m_forward_hooks \u001b[38;5;129;01mor\u001b[39;00m \u001b[38;5;28mself\u001b[39m\u001b[38;5;241m.\u001b[39m_forward_pre_hooks \u001b[38;5;129;01mor\u001b[39;00m _global_backward_hooks\n\u001b[0;32m   1193\u001b[0m         \u001b[38;5;129;01mor\u001b[39;00m _global_forward_hooks \u001b[38;5;129;01mor\u001b[39;00m _global_forward_pre_hooks):\n\u001b[1;32m-> 1194\u001b[0m     \u001b[38;5;28;01mreturn\u001b[39;00m forward_call(\u001b[38;5;241m*\u001b[39m\u001b[38;5;28minput\u001b[39m, \u001b[38;5;241m*\u001b[39m\u001b[38;5;241m*\u001b[39mkwargs)\n\u001b[0;32m   1195\u001b[0m \u001b[38;5;66;03m# Do not call functions when jit is used\u001b[39;00m\n\u001b[0;32m   1196\u001b[0m full_backward_hooks, non_full_backward_hooks \u001b[38;5;241m=\u001b[39m [], []\n",
      "File \u001b[1;32mC:\\Mulong\\Code\\UI-Captioning\\utils/classification\\models\\Transformer.py:101\u001b[0m, in \u001b[0;36mSublayerConnection.forward\u001b[1;34m(self, x, sublayer)\u001b[0m\n\u001b[0;32m     99\u001b[0m \u001b[38;5;28;01mdef\u001b[39;00m \u001b[38;5;21mforward\u001b[39m(\u001b[38;5;28mself\u001b[39m, x, sublayer):\n\u001b[0;32m    100\u001b[0m \t\u001b[38;5;124m\"\u001b[39m\u001b[38;5;124mApply residual connection to any sublayer with the same size.\u001b[39m\u001b[38;5;124m\"\u001b[39m\n\u001b[1;32m--> 101\u001b[0m \t\u001b[38;5;28;01mreturn\u001b[39;00m x \u001b[38;5;241m+\u001b[39m \u001b[38;5;28mself\u001b[39m\u001b[38;5;241m.\u001b[39mdropout(sublayer(\u001b[38;5;28;43mself\u001b[39;49m\u001b[38;5;241;43m.\u001b[39;49m\u001b[43mnorm\u001b[49m\u001b[43m(\u001b[49m\u001b[43mx\u001b[49m\u001b[43m)\u001b[49m))\n",
      "File \u001b[1;32m~\\AppData\\Local\\Programs\\Python\\Python310\\lib\\site-packages\\torch\\nn\\modules\\module.py:1194\u001b[0m, in \u001b[0;36mModule._call_impl\u001b[1;34m(self, *input, **kwargs)\u001b[0m\n\u001b[0;32m   1190\u001b[0m \u001b[38;5;66;03m# If we don't have any hooks, we want to skip the rest of the logic in\u001b[39;00m\n\u001b[0;32m   1191\u001b[0m \u001b[38;5;66;03m# this function, and just call forward.\u001b[39;00m\n\u001b[0;32m   1192\u001b[0m \u001b[38;5;28;01mif\u001b[39;00m \u001b[38;5;129;01mnot\u001b[39;00m (\u001b[38;5;28mself\u001b[39m\u001b[38;5;241m.\u001b[39m_backward_hooks \u001b[38;5;129;01mor\u001b[39;00m \u001b[38;5;28mself\u001b[39m\u001b[38;5;241m.\u001b[39m_forward_hooks \u001b[38;5;129;01mor\u001b[39;00m \u001b[38;5;28mself\u001b[39m\u001b[38;5;241m.\u001b[39m_forward_pre_hooks \u001b[38;5;129;01mor\u001b[39;00m _global_backward_hooks\n\u001b[0;32m   1193\u001b[0m         \u001b[38;5;129;01mor\u001b[39;00m _global_forward_hooks \u001b[38;5;129;01mor\u001b[39;00m _global_forward_pre_hooks):\n\u001b[1;32m-> 1194\u001b[0m     \u001b[38;5;28;01mreturn\u001b[39;00m forward_call(\u001b[38;5;241m*\u001b[39m\u001b[38;5;28minput\u001b[39m, \u001b[38;5;241m*\u001b[39m\u001b[38;5;241m*\u001b[39mkwargs)\n\u001b[0;32m   1195\u001b[0m \u001b[38;5;66;03m# Do not call functions when jit is used\u001b[39;00m\n\u001b[0;32m   1196\u001b[0m full_backward_hooks, non_full_backward_hooks \u001b[38;5;241m=\u001b[39m [], []\n",
      "File \u001b[1;32mC:\\Mulong\\Code\\UI-Captioning\\utils/classification\\models\\Transformer.py:85\u001b[0m, in \u001b[0;36mLayerNorm.forward\u001b[1;34m(self, x)\u001b[0m\n\u001b[0;32m     84\u001b[0m \u001b[38;5;28;01mdef\u001b[39;00m \u001b[38;5;21mforward\u001b[39m(\u001b[38;5;28mself\u001b[39m, x):\n\u001b[1;32m---> 85\u001b[0m \tmean \u001b[38;5;241m=\u001b[39m \u001b[43mx\u001b[49m\u001b[38;5;241;43m.\u001b[39;49m\u001b[43mmean\u001b[49m\u001b[43m(\u001b[49m\u001b[38;5;241;43m-\u001b[39;49m\u001b[38;5;241;43m1\u001b[39;49m\u001b[43m,\u001b[49m\u001b[43m \u001b[49m\u001b[43mkeepdim\u001b[49m\u001b[38;5;241;43m=\u001b[39;49m\u001b[38;5;28;43;01mTrue\u001b[39;49;00m\u001b[43m)\u001b[49m\n\u001b[0;32m     86\u001b[0m \tstd \u001b[38;5;241m=\u001b[39m x\u001b[38;5;241m.\u001b[39mstd(\u001b[38;5;241m-\u001b[39m\u001b[38;5;241m1\u001b[39m, keepdim\u001b[38;5;241m=\u001b[39m\u001b[38;5;28;01mTrue\u001b[39;00m)\n\u001b[0;32m     87\u001b[0m \t\u001b[38;5;28;01mreturn\u001b[39;00m \u001b[38;5;28mself\u001b[39m\u001b[38;5;241m.\u001b[39ma_2 \u001b[38;5;241m*\u001b[39m (x \u001b[38;5;241m-\u001b[39m mean) \u001b[38;5;241m/\u001b[39m (std \u001b[38;5;241m+\u001b[39m \u001b[38;5;28mself\u001b[39m\u001b[38;5;241m.\u001b[39meps) \u001b[38;5;241m+\u001b[39m \u001b[38;5;28mself\u001b[39m\u001b[38;5;241m.\u001b[39mb_2\n",
      "\u001b[1;31mKeyboardInterrupt\u001b[0m: "
     ]
    }
   ],
   "source": [
    "data.annotate_all_guis_gpt_revision(start_gui_no=3, end_gui_no=10, factor_id=0, load_gui=False, turn_on_revision=True)"
   ]
  }
 ],
 "metadata": {
  "kernelspec": {
   "display_name": "Python 3 (ipykernel)",
   "language": "python",
   "name": "python3"
  },
  "language_info": {
   "codemirror_mode": {
    "name": "ipython",
    "version": 3
   },
   "file_extension": ".py",
   "mimetype": "text/x-python",
   "name": "python",
   "nbconvert_exporter": "python",
   "pygments_lexer": "ipython3",
   "version": "3.10.10"
  }
 },
 "nbformat": 4,
 "nbformat_minor": 5
}
