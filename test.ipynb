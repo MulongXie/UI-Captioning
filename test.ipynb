{
 "cells": [
  {
   "cell_type": "code",
   "execution_count": 1,
   "id": "14cb01c7",
   "metadata": {},
   "outputs": [
    {
     "name": "stderr",
     "output_type": "stream",
     "text": [
      "C:\\Users\\xie029\\AppData\\Local\\Programs\\Python\\Python310\\lib\\site-packages\\tqdm\\auto.py:22: TqdmWarning: IProgress not found. Please update jupyter and ipywidgets. See https://ipywidgets.readthedocs.io/en/stable/user_install.html\n",
      "  from .autonotebook import tqdm as notebook_tqdm\n"
     ]
    }
   ],
   "source": [
    "from DataCollector import DataCollector"
   ]
  },
  {
   "cell_type": "code",
   "execution_count": 2,
   "id": "8bdaa461",
   "metadata": {},
   "outputs": [],
   "source": [
    "data = DataCollector(input_dir='C:/Mulong/Data/rico/rico_sca', \n",
    "                     output_dir='C:/Mulong/Data/ui captioning - rs', \n",
    "                     engine_model='gpt-3.5-turbo')"
   ]
  },
  {
   "cell_type": "code",
   "execution_count": 4,
   "id": "623227da",
   "metadata": {
    "scrolled": false
   },
   "outputs": [
    {
     "name": "stdout",
     "output_type": "stream",
     "text": [
      "\n",
      "*** GUI Analysis ***\n",
      "\n",
      "==============================\n",
      "\n",
      "*** Summarization [key elements] ***\n",
      "Key elements of the given UI hierarchy:\n",
      "1. Root view: It is the main container for all other UI elements.\n",
      "2. DatePicker widget: It allows the user to select a date.\n",
      "3. Year TextView: It displays the current year and is clickable.\n",
      "4. Date TextView: It displays the current date and is clickable.\n",
      "5. Month View: It shows a calendar with selectable dates.\n",
      "6. Previous Button: It allows the user to go to the previous month.\n",
      "7. Next Button: It allows the user to go to the next month.\n",
      "8. Done Button: It is clickable and used to confirm the selected date.\n",
      "Do you want to revise the summarization? (\"y\" or \"n\"): y\n",
      "\n",
      "*** Revision Suggestions ***\n",
      "-- Input revision points: Describe the relative positions of the elements\n",
      "\n",
      "==============================\n",
      "\n",
      "*** Summarization [key elements] ***\n",
      "Revised summary of the UI hierarchy:\n",
      "1. Root view: The main container for all other UI elements. It covers an area of 1256px in height and 1715px in length.\n",
      "2. DatePicker widget: Located within the root view, it covers an area of 1144px in height and 1407px in length. It contains the following elements:\n",
      "   - Year TextView: Located at the top of the DatePicker widget, it displays the current year and covers an area of 976px in height and 142px in length. It is clickable.\n",
      "   - Date TextView: Located below the Year TextView, it displays the current date and covers an area of 555px in height and 159px in length. It is clickable.\n",
      "   - Month View: Located below the Date TextView, it displays a calendar grid with selectable dates. It covers an area of 1144px in height and 1043px in length.\n",
      "   - Previous Button: Located on the left side of the Month View, it allows the user to navigate to the previous month. It covers an area of 168px in height and 168px in length. It is clickable.\n",
      "   - Next Button: Located on the right side of the Month View, it allows the user to navigate to the next month. It covers an area of 168px in height and 168px in length. It is clickable.\n",
      "3. Done Button: Located outside the DatePicker widget, it is a separate element. It covers an area of 232px in height and 168px in length. It is clickable and labeled as \"Done\".\n",
      "Do you want to revise the summarization? (\"y\" or \"n\"): n\n",
      "Do you want to turn off revision from now? (\"y\" or \"n\"): n\n"
     ]
    },
    {
     "data": {
      "text/plain": [
       "{'gui-no': '2',\n",
       " 'factor': 'key elements',\n",
       " 'element-tree': \"{'clickable': False, 'class': 'root', 'id': 0, 'area': {'height': 1256, 'length': 1715}, 'children': [{'clickable': False, 'class': '.widget.DatePicker', 'id': 1, 'area': {'height': 1144, 'length': 1407}, 'children': [{'resource-id': ':id/date_picker_header_year', 'clickable': True, 'class': '.support.v7.widget.AppCompatTextView', 'id': 2, 'area': {'height': 976, 'length': 142}, 'description': '1990'}, {'resource-id': ':id/date_picker_header_date', 'clickable': True, 'class': '.support.v7.widget.AppCompatTextView', 'id': 3, 'area': {'height': 555, 'length': 159}, 'description': 'Fri, Jun 15'}, {'resource-id': ':id/month_view', 'clickable': False, 'class': '.widget.SimpleMonthView', 'id': 4, 'area': {'height': 1144, 'length': 1043}, 'description': ' 14 15 16 17 18 19 10 11 12 13 21 22 23 24 28 29 30 31 25 26 20 27 DONE ed ed ed ed'}, {'resource-id': ':id/prev', 'clickable': True, 'class': '.support.v7.widget.AppCompatImageButton', 'id': 5, 'area': {'height': 168, 'length': 168}, 'description': 'Previous month'}, {'resource-id': ':id/next', 'clickable': True, 'class': '.support.v7.widget.AppCompatImageButton', 'id': 6, 'area': {'height': 168, 'length': 168}, 'description': 'Next month'}]}, {'resource-id': ':id/button1', 'clickable': True, 'class': '.support.v7.widget.AppCompatButton', 'id': 7, 'area': {'height': 232, 'length': 168}, 'description': 'Done'}]}\",\n",
       " 'annotation-history': ['Key elements of the given UI hierarchy:\\n1. Root view: It is the main container for all other UI elements.\\n2. DatePicker widget: It allows the user to select a date.\\n3. Year TextView: It displays the current year and is clickable.\\n4. Date TextView: It displays the current date and is clickable.\\n5. Month View: It shows a calendar with selectable dates.\\n6. Previous Button: It allows the user to go to the previous month.\\n7. Next Button: It allows the user to go to the next month.\\n8. Done Button: It is clickable and used to confirm the selected date.',\n",
       "  'Revised summary of the UI hierarchy:\\n1. Root view: The main container for all other UI elements. It covers an area of 1256px in height and 1715px in length.\\n2. DatePicker widget: Located within the root view, it covers an area of 1144px in height and 1407px in length. It contains the following elements:\\n   - Year TextView: Located at the top of the DatePicker widget, it displays the current year and covers an area of 976px in height and 142px in length. It is clickable.\\n   - Date TextView: Located below the Year TextView, it displays the current date and covers an area of 555px in height and 159px in length. It is clickable.\\n   - Month View: Located below the Date TextView, it displays a calendar grid with selectable dates. It covers an area of 1144px in height and 1043px in length.\\n   - Previous Button: Located on the left side of the Month View, it allows the user to navigate to the previous month. It covers an area of 168px in height and 168px in length. It is clickable.\\n   - Next Button: Located on the right side of the Month View, it allows the user to navigate to the next month. It covers an area of 168px in height and 168px in length. It is clickable.\\n3. Done Button: Located outside the DatePicker widget, it is a separate element. It covers an area of 232px in height and 168px in length. It is clickable and labeled as \"Done\".'],\n",
       " 'revision-suggestion-history': ['Describe the relative positions of the elements'],\n",
       " 'annotation': 'Revised summary of the UI hierarchy:\\n1. Root view: The main container for all other UI elements. It covers an area of 1256px in height and 1715px in length.\\n2. DatePicker widget: Located within the root view, it covers an area of 1144px in height and 1407px in length. It contains the following elements:\\n   - Year TextView: Located at the top of the DatePicker widget, it displays the current year and covers an area of 976px in height and 142px in length. It is clickable.\\n   - Date TextView: Located below the Year TextView, it displays the current date and covers an area of 555px in height and 159px in length. It is clickable.\\n   - Month View: Located below the Date TextView, it displays a calendar grid with selectable dates. It covers an area of 1144px in height and 1043px in length.\\n   - Previous Button: Located on the left side of the Month View, it allows the user to navigate to the previous month. It covers an area of 168px in height and 168px in length. It is clickable.\\n   - Next Button: Located on the right side of the Month View, it allows the user to navigate to the next month. It covers an area of 168px in height and 168px in length. It is clickable.\\n3. Done Button: Located outside the DatePicker widget, it is a separate element. It covers an area of 232px in height and 168px in length. It is clickable and labeled as \"Done\".',\n",
       " 'revision-suggestion': 'Describe the relative positions of the elements'}"
      ]
     },
     "execution_count": 4,
     "metadata": {},
     "output_type": "execute_result"
    }
   ],
   "source": [
    "data.annotate_gui_gpt_revision(gui_img_file='data/rico/raw/2.jpg', gui_json_file='data/rico/raw/2.json', \n",
    "                               factor='key elements', load_gui=False)"
   ]
  },
  {
   "cell_type": "code",
   "execution_count": null,
   "id": "b53bfdba",
   "metadata": {},
   "outputs": [
    {
     "name": "stdout",
     "output_type": "stream",
     "text": [
      "\n",
      "\n",
      "+++ Annotating +++ [0 / 10] C:/Mulong/Data/rico/rico_sca\\2.jpg\n",
      "\n",
      "*** GUI Analysis ***\n",
      "\n",
      "==============================\n",
      "\n",
      "*** Summarization [Key Element] ***\n",
      "Key Element: DatePicker\n",
      "This UI contains a DatePicker widget as its key element.\n",
      "Do you want to revise the summarization? (\"y\" or \"n\"): y\n",
      "\n",
      "*** Revision Suggestions ***\n",
      "-- Input revision points: Too short, give me more information\n",
      "\n",
      "==============================\n",
      "\n",
      "*** Summarization [Key Element] ***\n",
      "Key Element: DatePicker\n",
      "The UI hierarchy consists of a DatePicker widget as the key element. The DatePicker widget includes the following components:\n",
      "1. DatePicker Header Year: A clickable TextView displaying the year value.\n",
      "2. DatePicker Header Date: A clickable TextView displaying the selected date.\n",
      "3. Month View: A SimpleMonthView widget displaying the calendar grid with selectable dates.\n",
      "4. Previous Month button: A clickable ImageButton to navigate to the previous month.\n",
      "5. Next Month button: A clickable ImageButton to navigate to the next month.\n",
      "6. Done button: A clickable Button to confirm the selected date and close the DatePicker.\n",
      "The DatePicker widget is a fundamental component in the UI and allows users to select a specific date.\n",
      "Do you want to revise the summarization? (\"y\" or \"n\"): n\n",
      "Do you want to turn off revision from now? (\"y\" or \"n\"): n\n",
      "\n",
      "\n",
      "+++ Annotating +++ [1 / 10] C:/Mulong/Data/rico/rico_sca\\3.jpg\n",
      "\n",
      "*** GUI Analysis ***\n",
      "\n",
      "==============================\n",
      "\n",
      "*** Summarization [Key Element] ***\n",
      "Key Element: \n",
      "- Root element: This is the highest level element in the UI hierarchy.\n",
      "- RelativeLayout: A widget that arranges its children elements relative to each other or to the parent. \n",
      "- VideoView: A view that displays video content.\n",
      "- View: A generic view without any specific description or functionality.\n",
      "- AppCompatTextView: A text view that is compatible with the AppCompat library.\n",
      "- SegmentedProgressView: A custom view that displays progress in segments.\n",
      "- AppCompatImageView: An image view that is compatible with the AppCompat library.\n",
      "- Toolbar: A view that provides a standard application bar for the UI.\n",
      "- AppCompatImageButton: An image button that is compatible with the AppCompat library.\n"
     ]
    }
   ],
   "source": [
    "data.annotate_all_guis_gpt_revision(0, 10, 0, load_gui=False, turn_on_revision=True)"
   ]
  },
  {
   "cell_type": "code",
   "execution_count": null,
   "id": "5770f30a",
   "metadata": {},
   "outputs": [],
   "source": []
  }
 ],
 "metadata": {
  "kernelspec": {
   "display_name": "Python 3 (ipykernel)",
   "language": "python",
   "name": "python3"
  },
  "language_info": {
   "codemirror_mode": {
    "name": "ipython",
    "version": 3
   },
   "file_extension": ".py",
   "mimetype": "text/x-python",
   "name": "python",
   "nbconvert_exporter": "python",
   "pygments_lexer": "ipython3",
   "version": "3.10.10"
  }
 },
 "nbformat": 4,
 "nbformat_minor": 5
}
