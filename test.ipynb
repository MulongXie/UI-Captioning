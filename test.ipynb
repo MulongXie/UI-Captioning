{
 "cells": [
  {
   "cell_type": "code",
   "execution_count": 1,
   "id": "67005ebe",
   "metadata": {},
   "outputs": [
    {
     "name": "stderr",
     "output_type": "stream",
     "text": [
      "C:\\Users\\xie029\\AppData\\Local\\Programs\\Python\\Python310\\lib\\site-packages\\tqdm\\auto.py:22: TqdmWarning: IProgress not found. Please update jupyter and ipywidgets. See https://ipywidgets.readthedocs.io/en/stable/user_install.html\n",
      "  from .autonotebook import tqdm as notebook_tqdm\n"
     ]
    }
   ],
   "source": [
    "from GUI import GUI"
   ]
  },
  {
   "cell_type": "code",
   "execution_count": 2,
   "id": "1c491022",
   "metadata": {},
   "outputs": [],
   "source": [
    "ui_no = 3"
   ]
  },
  {
   "cell_type": "code",
   "execution_count": 3,
   "id": "eff5ae7d",
   "metadata": {},
   "outputs": [],
   "source": [
    "gui = GUI(gui_img_file='data/rico/raw/' + str(ui_no) + '.jpg',\n",
    "          gui_json_file='data/rico/raw/' + str(ui_no) + '.json',\n",
    "          output_file_root='data/rico/')"
   ]
  },
  {
   "cell_type": "code",
   "execution_count": 4,
   "id": "0c91c26b",
   "metadata": {},
   "outputs": [],
   "source": [
    "gui.ui_info_extraction()\n",
    "gui.ui_analysis_elements_description()\n",
    "gui.ui_element_tree()"
   ]
  },
  {
   "cell_type": "code",
   "execution_count": 5,
   "id": "1d7949a5",
   "metadata": {},
   "outputs": [],
   "source": [
    "gui.show_all_elements(True)"
   ]
  },
  {
   "cell_type": "code",
   "execution_count": 8,
   "id": "8e8759db",
   "metadata": {},
   "outputs": [],
   "source": [
    "l = [None]"
   ]
  },
  {
   "cell_type": "code",
   "execution_count": null,
   "id": "e80f922b",
   "metadata": {},
   "outputs": [],
   "source": []
  }
 ],
 "metadata": {
  "kernelspec": {
   "display_name": "Python 3 (ipykernel)",
   "language": "python",
   "name": "python3"
  },
  "language_info": {
   "codemirror_mode": {
    "name": "ipython",
    "version": 3
   },
   "file_extension": ".py",
   "mimetype": "text/x-python",
   "name": "python",
   "nbconvert_exporter": "python",
   "pygments_lexer": "ipython3",
   "version": "3.10.10"
  }
 },
 "nbformat": 4,
 "nbformat_minor": 5
}
